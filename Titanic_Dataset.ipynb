{
  "nbformat": 4,
  "nbformat_minor": 0,
  "metadata": {
    "colab": {
      "name": "Titanic Dataset.ipynb",
      "provenance": [],
      "collapsed_sections": [
        "q19aB4WO3cIS",
        "U84p-BEX3msz",
        "0lvSuda95Yqa",
        "Y7_gPzu35l1S",
        "oDhEivs4210K",
        "VrW7qiBp9khR",
        "2FvFYxhLXpB8",
        "MvWgXEI4-wqG",
        "iK_khsimb-vi",
        "XUUIyw6kFrAc",
        "MzQonbbCffs3",
        "U1RYEUxSffvu",
        "K3oxpeAVX3fb"
      ]
    },
    "kernelspec": {
      "name": "python3",
      "display_name": "Python 3"
    },
    "language_info": {
      "name": "python"
    }
  },
  "cells": [
    {
      "cell_type": "code",
      "execution_count": 2,
      "metadata": {
        "colab": {
          "base_uri": "https://localhost:8080/",
          "height": 424
        },
        "id": "FINTTkmmNH5X",
        "outputId": "15296f0a-8c9b-46cf-f9ee-809ec482e7e2"
      },
      "outputs": [
        {
          "output_type": "execute_result",
          "data": {
            "text/plain": [
              "     PassengerId  Survived  Pclass  \\\n",
              "0              1         0       3   \n",
              "1              2         1       1   \n",
              "2              3         1       3   \n",
              "3              4         1       1   \n",
              "4              5         0       3   \n",
              "..           ...       ...     ...   \n",
              "886          887         0       2   \n",
              "887          888         1       1   \n",
              "888          889         0       3   \n",
              "889          890         1       1   \n",
              "890          891         0       3   \n",
              "\n",
              "                                                  Name     Sex   Age  SibSp  \\\n",
              "0                              Braund, Mr. Owen Harris    male  22.0      1   \n",
              "1    Cumings, Mrs. John Bradley (Florence Briggs Th...  female  38.0      1   \n",
              "2                               Heikkinen, Miss. Laina  female  26.0      0   \n",
              "3         Futrelle, Mrs. Jacques Heath (Lily May Peel)  female  35.0      1   \n",
              "4                             Allen, Mr. William Henry    male  35.0      0   \n",
              "..                                                 ...     ...   ...    ...   \n",
              "886                              Montvila, Rev. Juozas    male  27.0      0   \n",
              "887                       Graham, Miss. Margaret Edith  female  19.0      0   \n",
              "888           Johnston, Miss. Catherine Helen \"Carrie\"  female   NaN      1   \n",
              "889                              Behr, Mr. Karl Howell    male  26.0      0   \n",
              "890                                Dooley, Mr. Patrick    male  32.0      0   \n",
              "\n",
              "     Parch            Ticket     Fare Cabin Embarked  \n",
              "0        0         A/5 21171   7.2500   NaN        S  \n",
              "1        0          PC 17599  71.2833   C85        C  \n",
              "2        0  STON/O2. 3101282   7.9250   NaN        S  \n",
              "3        0            113803  53.1000  C123        S  \n",
              "4        0            373450   8.0500   NaN        S  \n",
              "..     ...               ...      ...   ...      ...  \n",
              "886      0            211536  13.0000   NaN        S  \n",
              "887      0            112053  30.0000   B42        S  \n",
              "888      2        W./C. 6607  23.4500   NaN        S  \n",
              "889      0            111369  30.0000  C148        C  \n",
              "890      0            370376   7.7500   NaN        Q  \n",
              "\n",
              "[891 rows x 12 columns]"
            ],
            "text/html": [
              "\n",
              "  <div id=\"df-0fb61d16-2a33-456e-8bb1-926a87dc33f6\">\n",
              "    <div class=\"colab-df-container\">\n",
              "      <div>\n",
              "<style scoped>\n",
              "    .dataframe tbody tr th:only-of-type {\n",
              "        vertical-align: middle;\n",
              "    }\n",
              "\n",
              "    .dataframe tbody tr th {\n",
              "        vertical-align: top;\n",
              "    }\n",
              "\n",
              "    .dataframe thead th {\n",
              "        text-align: right;\n",
              "    }\n",
              "</style>\n",
              "<table border=\"1\" class=\"dataframe\">\n",
              "  <thead>\n",
              "    <tr style=\"text-align: right;\">\n",
              "      <th></th>\n",
              "      <th>PassengerId</th>\n",
              "      <th>Survived</th>\n",
              "      <th>Pclass</th>\n",
              "      <th>Name</th>\n",
              "      <th>Sex</th>\n",
              "      <th>Age</th>\n",
              "      <th>SibSp</th>\n",
              "      <th>Parch</th>\n",
              "      <th>Ticket</th>\n",
              "      <th>Fare</th>\n",
              "      <th>Cabin</th>\n",
              "      <th>Embarked</th>\n",
              "    </tr>\n",
              "  </thead>\n",
              "  <tbody>\n",
              "    <tr>\n",
              "      <th>0</th>\n",
              "      <td>1</td>\n",
              "      <td>0</td>\n",
              "      <td>3</td>\n",
              "      <td>Braund, Mr. Owen Harris</td>\n",
              "      <td>male</td>\n",
              "      <td>22.0</td>\n",
              "      <td>1</td>\n",
              "      <td>0</td>\n",
              "      <td>A/5 21171</td>\n",
              "      <td>7.2500</td>\n",
              "      <td>NaN</td>\n",
              "      <td>S</td>\n",
              "    </tr>\n",
              "    <tr>\n",
              "      <th>1</th>\n",
              "      <td>2</td>\n",
              "      <td>1</td>\n",
              "      <td>1</td>\n",
              "      <td>Cumings, Mrs. John Bradley (Florence Briggs Th...</td>\n",
              "      <td>female</td>\n",
              "      <td>38.0</td>\n",
              "      <td>1</td>\n",
              "      <td>0</td>\n",
              "      <td>PC 17599</td>\n",
              "      <td>71.2833</td>\n",
              "      <td>C85</td>\n",
              "      <td>C</td>\n",
              "    </tr>\n",
              "    <tr>\n",
              "      <th>2</th>\n",
              "      <td>3</td>\n",
              "      <td>1</td>\n",
              "      <td>3</td>\n",
              "      <td>Heikkinen, Miss. Laina</td>\n",
              "      <td>female</td>\n",
              "      <td>26.0</td>\n",
              "      <td>0</td>\n",
              "      <td>0</td>\n",
              "      <td>STON/O2. 3101282</td>\n",
              "      <td>7.9250</td>\n",
              "      <td>NaN</td>\n",
              "      <td>S</td>\n",
              "    </tr>\n",
              "    <tr>\n",
              "      <th>3</th>\n",
              "      <td>4</td>\n",
              "      <td>1</td>\n",
              "      <td>1</td>\n",
              "      <td>Futrelle, Mrs. Jacques Heath (Lily May Peel)</td>\n",
              "      <td>female</td>\n",
              "      <td>35.0</td>\n",
              "      <td>1</td>\n",
              "      <td>0</td>\n",
              "      <td>113803</td>\n",
              "      <td>53.1000</td>\n",
              "      <td>C123</td>\n",
              "      <td>S</td>\n",
              "    </tr>\n",
              "    <tr>\n",
              "      <th>4</th>\n",
              "      <td>5</td>\n",
              "      <td>0</td>\n",
              "      <td>3</td>\n",
              "      <td>Allen, Mr. William Henry</td>\n",
              "      <td>male</td>\n",
              "      <td>35.0</td>\n",
              "      <td>0</td>\n",
              "      <td>0</td>\n",
              "      <td>373450</td>\n",
              "      <td>8.0500</td>\n",
              "      <td>NaN</td>\n",
              "      <td>S</td>\n",
              "    </tr>\n",
              "    <tr>\n",
              "      <th>...</th>\n",
              "      <td>...</td>\n",
              "      <td>...</td>\n",
              "      <td>...</td>\n",
              "      <td>...</td>\n",
              "      <td>...</td>\n",
              "      <td>...</td>\n",
              "      <td>...</td>\n",
              "      <td>...</td>\n",
              "      <td>...</td>\n",
              "      <td>...</td>\n",
              "      <td>...</td>\n",
              "      <td>...</td>\n",
              "    </tr>\n",
              "    <tr>\n",
              "      <th>886</th>\n",
              "      <td>887</td>\n",
              "      <td>0</td>\n",
              "      <td>2</td>\n",
              "      <td>Montvila, Rev. Juozas</td>\n",
              "      <td>male</td>\n",
              "      <td>27.0</td>\n",
              "      <td>0</td>\n",
              "      <td>0</td>\n",
              "      <td>211536</td>\n",
              "      <td>13.0000</td>\n",
              "      <td>NaN</td>\n",
              "      <td>S</td>\n",
              "    </tr>\n",
              "    <tr>\n",
              "      <th>887</th>\n",
              "      <td>888</td>\n",
              "      <td>1</td>\n",
              "      <td>1</td>\n",
              "      <td>Graham, Miss. Margaret Edith</td>\n",
              "      <td>female</td>\n",
              "      <td>19.0</td>\n",
              "      <td>0</td>\n",
              "      <td>0</td>\n",
              "      <td>112053</td>\n",
              "      <td>30.0000</td>\n",
              "      <td>B42</td>\n",
              "      <td>S</td>\n",
              "    </tr>\n",
              "    <tr>\n",
              "      <th>888</th>\n",
              "      <td>889</td>\n",
              "      <td>0</td>\n",
              "      <td>3</td>\n",
              "      <td>Johnston, Miss. Catherine Helen \"Carrie\"</td>\n",
              "      <td>female</td>\n",
              "      <td>NaN</td>\n",
              "      <td>1</td>\n",
              "      <td>2</td>\n",
              "      <td>W./C. 6607</td>\n",
              "      <td>23.4500</td>\n",
              "      <td>NaN</td>\n",
              "      <td>S</td>\n",
              "    </tr>\n",
              "    <tr>\n",
              "      <th>889</th>\n",
              "      <td>890</td>\n",
              "      <td>1</td>\n",
              "      <td>1</td>\n",
              "      <td>Behr, Mr. Karl Howell</td>\n",
              "      <td>male</td>\n",
              "      <td>26.0</td>\n",
              "      <td>0</td>\n",
              "      <td>0</td>\n",
              "      <td>111369</td>\n",
              "      <td>30.0000</td>\n",
              "      <td>C148</td>\n",
              "      <td>C</td>\n",
              "    </tr>\n",
              "    <tr>\n",
              "      <th>890</th>\n",
              "      <td>891</td>\n",
              "      <td>0</td>\n",
              "      <td>3</td>\n",
              "      <td>Dooley, Mr. Patrick</td>\n",
              "      <td>male</td>\n",
              "      <td>32.0</td>\n",
              "      <td>0</td>\n",
              "      <td>0</td>\n",
              "      <td>370376</td>\n",
              "      <td>7.7500</td>\n",
              "      <td>NaN</td>\n",
              "      <td>Q</td>\n",
              "    </tr>\n",
              "  </tbody>\n",
              "</table>\n",
              "<p>891 rows × 12 columns</p>\n",
              "</div>\n",
              "      <button class=\"colab-df-convert\" onclick=\"convertToInteractive('df-0fb61d16-2a33-456e-8bb1-926a87dc33f6')\"\n",
              "              title=\"Convert this dataframe to an interactive table.\"\n",
              "              style=\"display:none;\">\n",
              "        \n",
              "  <svg xmlns=\"http://www.w3.org/2000/svg\" height=\"24px\"viewBox=\"0 0 24 24\"\n",
              "       width=\"24px\">\n",
              "    <path d=\"M0 0h24v24H0V0z\" fill=\"none\"/>\n",
              "    <path d=\"M18.56 5.44l.94 2.06.94-2.06 2.06-.94-2.06-.94-.94-2.06-.94 2.06-2.06.94zm-11 1L8.5 8.5l.94-2.06 2.06-.94-2.06-.94L8.5 2.5l-.94 2.06-2.06.94zm10 10l.94 2.06.94-2.06 2.06-.94-2.06-.94-.94-2.06-.94 2.06-2.06.94z\"/><path d=\"M17.41 7.96l-1.37-1.37c-.4-.4-.92-.59-1.43-.59-.52 0-1.04.2-1.43.59L10.3 9.45l-7.72 7.72c-.78.78-.78 2.05 0 2.83L4 21.41c.39.39.9.59 1.41.59.51 0 1.02-.2 1.41-.59l7.78-7.78 2.81-2.81c.8-.78.8-2.07 0-2.86zM5.41 20L4 18.59l7.72-7.72 1.47 1.35L5.41 20z\"/>\n",
              "  </svg>\n",
              "      </button>\n",
              "      \n",
              "  <style>\n",
              "    .colab-df-container {\n",
              "      display:flex;\n",
              "      flex-wrap:wrap;\n",
              "      gap: 12px;\n",
              "    }\n",
              "\n",
              "    .colab-df-convert {\n",
              "      background-color: #E8F0FE;\n",
              "      border: none;\n",
              "      border-radius: 50%;\n",
              "      cursor: pointer;\n",
              "      display: none;\n",
              "      fill: #1967D2;\n",
              "      height: 32px;\n",
              "      padding: 0 0 0 0;\n",
              "      width: 32px;\n",
              "    }\n",
              "\n",
              "    .colab-df-convert:hover {\n",
              "      background-color: #E2EBFA;\n",
              "      box-shadow: 0px 1px 2px rgba(60, 64, 67, 0.3), 0px 1px 3px 1px rgba(60, 64, 67, 0.15);\n",
              "      fill: #174EA6;\n",
              "    }\n",
              "\n",
              "    [theme=dark] .colab-df-convert {\n",
              "      background-color: #3B4455;\n",
              "      fill: #D2E3FC;\n",
              "    }\n",
              "\n",
              "    [theme=dark] .colab-df-convert:hover {\n",
              "      background-color: #434B5C;\n",
              "      box-shadow: 0px 1px 3px 1px rgba(0, 0, 0, 0.15);\n",
              "      filter: drop-shadow(0px 1px 2px rgba(0, 0, 0, 0.3));\n",
              "      fill: #FFFFFF;\n",
              "    }\n",
              "  </style>\n",
              "\n",
              "      <script>\n",
              "        const buttonEl =\n",
              "          document.querySelector('#df-0fb61d16-2a33-456e-8bb1-926a87dc33f6 button.colab-df-convert');\n",
              "        buttonEl.style.display =\n",
              "          google.colab.kernel.accessAllowed ? 'block' : 'none';\n",
              "\n",
              "        async function convertToInteractive(key) {\n",
              "          const element = document.querySelector('#df-0fb61d16-2a33-456e-8bb1-926a87dc33f6');\n",
              "          const dataTable =\n",
              "            await google.colab.kernel.invokeFunction('convertToInteractive',\n",
              "                                                     [key], {});\n",
              "          if (!dataTable) return;\n",
              "\n",
              "          const docLinkHtml = 'Like what you see? Visit the ' +\n",
              "            '<a target=\"_blank\" href=https://colab.research.google.com/notebooks/data_table.ipynb>data table notebook</a>'\n",
              "            + ' to learn more about interactive tables.';\n",
              "          element.innerHTML = '';\n",
              "          dataTable['output_type'] = 'display_data';\n",
              "          await google.colab.output.renderOutput(dataTable, element);\n",
              "          const docLink = document.createElement('div');\n",
              "          docLink.innerHTML = docLinkHtml;\n",
              "          element.appendChild(docLink);\n",
              "        }\n",
              "      </script>\n",
              "    </div>\n",
              "  </div>\n",
              "  "
            ]
          },
          "metadata": {},
          "execution_count": 2
        }
      ],
      "source": [
        "import pandas as pd\n",
        "import numpy as np\n",
        "import matplotlib.pyplot as plt\n",
        "import seaborn as sns\n",
        "\n",
        "titanic = pd.read_csv('/content/train.csv')\n",
        "titanic\n",
        "# PassengerId\t = 승객 아이디\n",
        "# Survived = 생존 여부\n",
        "# Pclass = 객실 등급, 1st = Upper, 2nd = Middle, 3rd = Lower\n",
        "# SibSp = 타이타닉 호에 동승한 자매 / 배우자의 수\n",
        "# Parch = 타이타닉 호에 동승한 부모 / 자식의 수\n",
        "# Fare = 승객 요금\n",
        "# Cabin = 방 호수\n",
        "# Embarked = 탑승지, C = 셰르부르(프랑스), Q = 퀸즈타운(아일랜드), S = 사우샘프턴(영국)"
      ]
    },
    {
      "cell_type": "markdown",
      "source": [
        "# 데이터 전처리 #1"
      ],
      "metadata": {
        "id": "cfCX3qxp3YJi"
      }
    },
    {
      "cell_type": "code",
      "source": [
        "# 성별과 나이, 객실 등급, 일행 여부, 탑승지에 따른 생존 여부 확인\n",
        "# 티켓 요금은 500불 이상 내신분들이 계셔서 포기\n",
        "\n",
        "# 우선 데이터 전처리를 위해 데이터 프레임의 정보 출력\n",
        "titanic.info()\n",
        "\n",
        "# 나이 컬럼과 탑승지 컬럼에 조금의 null값이 확인\n",
        "# 방 호수에 많은 null값이 확인"
      ],
      "metadata": {
        "colab": {
          "base_uri": "https://localhost:8080/"
        },
        "id": "odSyPcGoOjAl",
        "outputId": "6c941f21-2f45-4fea-80ed-c4ac8509d52a"
      },
      "execution_count": 3,
      "outputs": [
        {
          "output_type": "stream",
          "name": "stdout",
          "text": [
            "<class 'pandas.core.frame.DataFrame'>\n",
            "RangeIndex: 891 entries, 0 to 890\n",
            "Data columns (total 12 columns):\n",
            " #   Column       Non-Null Count  Dtype  \n",
            "---  ------       --------------  -----  \n",
            " 0   PassengerId  891 non-null    int64  \n",
            " 1   Survived     891 non-null    int64  \n",
            " 2   Pclass       891 non-null    int64  \n",
            " 3   Name         891 non-null    object \n",
            " 4   Sex          891 non-null    object \n",
            " 5   Age          714 non-null    float64\n",
            " 6   SibSp        891 non-null    int64  \n",
            " 7   Parch        891 non-null    int64  \n",
            " 8   Ticket       891 non-null    object \n",
            " 9   Fare         891 non-null    float64\n",
            " 10  Cabin        204 non-null    object \n",
            " 11  Embarked     889 non-null    object \n",
            "dtypes: float64(2), int64(5), object(5)\n",
            "memory usage: 83.7+ KB\n"
          ]
        }
      ]
    },
    {
      "cell_type": "code",
      "source": [
        "# Cabin 컬럼을 삭제\n",
        "titanic = titanic.drop(columns = 'Cabin', axis = 1)\n",
        "titanic.head()"
      ],
      "metadata": {
        "colab": {
          "base_uri": "https://localhost:8080/",
          "height": 206
        },
        "id": "uoZR3II3Snjw",
        "outputId": "ca680d9b-a5d8-4d03-b1b8-ea8b051e5fd6"
      },
      "execution_count": 4,
      "outputs": [
        {
          "output_type": "execute_result",
          "data": {
            "text/plain": [
              "   PassengerId  Survived  Pclass  \\\n",
              "0            1         0       3   \n",
              "1            2         1       1   \n",
              "2            3         1       3   \n",
              "3            4         1       1   \n",
              "4            5         0       3   \n",
              "\n",
              "                                                Name     Sex   Age  SibSp  \\\n",
              "0                            Braund, Mr. Owen Harris    male  22.0      1   \n",
              "1  Cumings, Mrs. John Bradley (Florence Briggs Th...  female  38.0      1   \n",
              "2                             Heikkinen, Miss. Laina  female  26.0      0   \n",
              "3       Futrelle, Mrs. Jacques Heath (Lily May Peel)  female  35.0      1   \n",
              "4                           Allen, Mr. William Henry    male  35.0      0   \n",
              "\n",
              "   Parch            Ticket     Fare Embarked  \n",
              "0      0         A/5 21171   7.2500        S  \n",
              "1      0          PC 17599  71.2833        C  \n",
              "2      0  STON/O2. 3101282   7.9250        S  \n",
              "3      0            113803  53.1000        S  \n",
              "4      0            373450   8.0500        S  "
            ],
            "text/html": [
              "\n",
              "  <div id=\"df-952773ae-68c0-446a-ac97-9764d37721d5\">\n",
              "    <div class=\"colab-df-container\">\n",
              "      <div>\n",
              "<style scoped>\n",
              "    .dataframe tbody tr th:only-of-type {\n",
              "        vertical-align: middle;\n",
              "    }\n",
              "\n",
              "    .dataframe tbody tr th {\n",
              "        vertical-align: top;\n",
              "    }\n",
              "\n",
              "    .dataframe thead th {\n",
              "        text-align: right;\n",
              "    }\n",
              "</style>\n",
              "<table border=\"1\" class=\"dataframe\">\n",
              "  <thead>\n",
              "    <tr style=\"text-align: right;\">\n",
              "      <th></th>\n",
              "      <th>PassengerId</th>\n",
              "      <th>Survived</th>\n",
              "      <th>Pclass</th>\n",
              "      <th>Name</th>\n",
              "      <th>Sex</th>\n",
              "      <th>Age</th>\n",
              "      <th>SibSp</th>\n",
              "      <th>Parch</th>\n",
              "      <th>Ticket</th>\n",
              "      <th>Fare</th>\n",
              "      <th>Embarked</th>\n",
              "    </tr>\n",
              "  </thead>\n",
              "  <tbody>\n",
              "    <tr>\n",
              "      <th>0</th>\n",
              "      <td>1</td>\n",
              "      <td>0</td>\n",
              "      <td>3</td>\n",
              "      <td>Braund, Mr. Owen Harris</td>\n",
              "      <td>male</td>\n",
              "      <td>22.0</td>\n",
              "      <td>1</td>\n",
              "      <td>0</td>\n",
              "      <td>A/5 21171</td>\n",
              "      <td>7.2500</td>\n",
              "      <td>S</td>\n",
              "    </tr>\n",
              "    <tr>\n",
              "      <th>1</th>\n",
              "      <td>2</td>\n",
              "      <td>1</td>\n",
              "      <td>1</td>\n",
              "      <td>Cumings, Mrs. John Bradley (Florence Briggs Th...</td>\n",
              "      <td>female</td>\n",
              "      <td>38.0</td>\n",
              "      <td>1</td>\n",
              "      <td>0</td>\n",
              "      <td>PC 17599</td>\n",
              "      <td>71.2833</td>\n",
              "      <td>C</td>\n",
              "    </tr>\n",
              "    <tr>\n",
              "      <th>2</th>\n",
              "      <td>3</td>\n",
              "      <td>1</td>\n",
              "      <td>3</td>\n",
              "      <td>Heikkinen, Miss. Laina</td>\n",
              "      <td>female</td>\n",
              "      <td>26.0</td>\n",
              "      <td>0</td>\n",
              "      <td>0</td>\n",
              "      <td>STON/O2. 3101282</td>\n",
              "      <td>7.9250</td>\n",
              "      <td>S</td>\n",
              "    </tr>\n",
              "    <tr>\n",
              "      <th>3</th>\n",
              "      <td>4</td>\n",
              "      <td>1</td>\n",
              "      <td>1</td>\n",
              "      <td>Futrelle, Mrs. Jacques Heath (Lily May Peel)</td>\n",
              "      <td>female</td>\n",
              "      <td>35.0</td>\n",
              "      <td>1</td>\n",
              "      <td>0</td>\n",
              "      <td>113803</td>\n",
              "      <td>53.1000</td>\n",
              "      <td>S</td>\n",
              "    </tr>\n",
              "    <tr>\n",
              "      <th>4</th>\n",
              "      <td>5</td>\n",
              "      <td>0</td>\n",
              "      <td>3</td>\n",
              "      <td>Allen, Mr. William Henry</td>\n",
              "      <td>male</td>\n",
              "      <td>35.0</td>\n",
              "      <td>0</td>\n",
              "      <td>0</td>\n",
              "      <td>373450</td>\n",
              "      <td>8.0500</td>\n",
              "      <td>S</td>\n",
              "    </tr>\n",
              "  </tbody>\n",
              "</table>\n",
              "</div>\n",
              "      <button class=\"colab-df-convert\" onclick=\"convertToInteractive('df-952773ae-68c0-446a-ac97-9764d37721d5')\"\n",
              "              title=\"Convert this dataframe to an interactive table.\"\n",
              "              style=\"display:none;\">\n",
              "        \n",
              "  <svg xmlns=\"http://www.w3.org/2000/svg\" height=\"24px\"viewBox=\"0 0 24 24\"\n",
              "       width=\"24px\">\n",
              "    <path d=\"M0 0h24v24H0V0z\" fill=\"none\"/>\n",
              "    <path d=\"M18.56 5.44l.94 2.06.94-2.06 2.06-.94-2.06-.94-.94-2.06-.94 2.06-2.06.94zm-11 1L8.5 8.5l.94-2.06 2.06-.94-2.06-.94L8.5 2.5l-.94 2.06-2.06.94zm10 10l.94 2.06.94-2.06 2.06-.94-2.06-.94-.94-2.06-.94 2.06-2.06.94z\"/><path d=\"M17.41 7.96l-1.37-1.37c-.4-.4-.92-.59-1.43-.59-.52 0-1.04.2-1.43.59L10.3 9.45l-7.72 7.72c-.78.78-.78 2.05 0 2.83L4 21.41c.39.39.9.59 1.41.59.51 0 1.02-.2 1.41-.59l7.78-7.78 2.81-2.81c.8-.78.8-2.07 0-2.86zM5.41 20L4 18.59l7.72-7.72 1.47 1.35L5.41 20z\"/>\n",
              "  </svg>\n",
              "      </button>\n",
              "      \n",
              "  <style>\n",
              "    .colab-df-container {\n",
              "      display:flex;\n",
              "      flex-wrap:wrap;\n",
              "      gap: 12px;\n",
              "    }\n",
              "\n",
              "    .colab-df-convert {\n",
              "      background-color: #E8F0FE;\n",
              "      border: none;\n",
              "      border-radius: 50%;\n",
              "      cursor: pointer;\n",
              "      display: none;\n",
              "      fill: #1967D2;\n",
              "      height: 32px;\n",
              "      padding: 0 0 0 0;\n",
              "      width: 32px;\n",
              "    }\n",
              "\n",
              "    .colab-df-convert:hover {\n",
              "      background-color: #E2EBFA;\n",
              "      box-shadow: 0px 1px 2px rgba(60, 64, 67, 0.3), 0px 1px 3px 1px rgba(60, 64, 67, 0.15);\n",
              "      fill: #174EA6;\n",
              "    }\n",
              "\n",
              "    [theme=dark] .colab-df-convert {\n",
              "      background-color: #3B4455;\n",
              "      fill: #D2E3FC;\n",
              "    }\n",
              "\n",
              "    [theme=dark] .colab-df-convert:hover {\n",
              "      background-color: #434B5C;\n",
              "      box-shadow: 0px 1px 3px 1px rgba(0, 0, 0, 0.15);\n",
              "      filter: drop-shadow(0px 1px 2px rgba(0, 0, 0, 0.3));\n",
              "      fill: #FFFFFF;\n",
              "    }\n",
              "  </style>\n",
              "\n",
              "      <script>\n",
              "        const buttonEl =\n",
              "          document.querySelector('#df-952773ae-68c0-446a-ac97-9764d37721d5 button.colab-df-convert');\n",
              "        buttonEl.style.display =\n",
              "          google.colab.kernel.accessAllowed ? 'block' : 'none';\n",
              "\n",
              "        async function convertToInteractive(key) {\n",
              "          const element = document.querySelector('#df-952773ae-68c0-446a-ac97-9764d37721d5');\n",
              "          const dataTable =\n",
              "            await google.colab.kernel.invokeFunction('convertToInteractive',\n",
              "                                                     [key], {});\n",
              "          if (!dataTable) return;\n",
              "\n",
              "          const docLinkHtml = 'Like what you see? Visit the ' +\n",
              "            '<a target=\"_blank\" href=https://colab.research.google.com/notebooks/data_table.ipynb>data table notebook</a>'\n",
              "            + ' to learn more about interactive tables.';\n",
              "          element.innerHTML = '';\n",
              "          dataTable['output_type'] = 'display_data';\n",
              "          await google.colab.output.renderOutput(dataTable, element);\n",
              "          const docLink = document.createElement('div');\n",
              "          docLink.innerHTML = docLinkHtml;\n",
              "          element.appendChild(docLink);\n",
              "        }\n",
              "      </script>\n",
              "    </div>\n",
              "  </div>\n",
              "  "
            ]
          },
          "metadata": {},
          "execution_count": 4
        }
      ]
    },
    {
      "cell_type": "code",
      "source": [
        "# EMbarked 컬럼의 null값을 가장 빈번히 나오는 값들로 대체\n",
        "most_freq = titanic['Embarked'].value_counts(dropna = True).idxmax()\n",
        "titanic_temp = titanic.copy()\n",
        "titanic_temp['Embarked'].fillna(most_freq, inplace = True)\n",
        "titanic_temp.info()"
      ],
      "metadata": {
        "colab": {
          "base_uri": "https://localhost:8080/"
        },
        "id": "AI0zd1FMVqGG",
        "outputId": "b2593070-5b02-4415-dd32-33b939a603dc"
      },
      "execution_count": 5,
      "outputs": [
        {
          "output_type": "stream",
          "name": "stdout",
          "text": [
            "<class 'pandas.core.frame.DataFrame'>\n",
            "RangeIndex: 891 entries, 0 to 890\n",
            "Data columns (total 11 columns):\n",
            " #   Column       Non-Null Count  Dtype  \n",
            "---  ------       --------------  -----  \n",
            " 0   PassengerId  891 non-null    int64  \n",
            " 1   Survived     891 non-null    int64  \n",
            " 2   Pclass       891 non-null    int64  \n",
            " 3   Name         891 non-null    object \n",
            " 4   Sex          891 non-null    object \n",
            " 5   Age          714 non-null    float64\n",
            " 6   SibSp        891 non-null    int64  \n",
            " 7   Parch        891 non-null    int64  \n",
            " 8   Ticket       891 non-null    object \n",
            " 9   Fare         891 non-null    float64\n",
            " 10  Embarked     891 non-null    object \n",
            "dtypes: float64(2), int64(5), object(4)\n",
            "memory usage: 76.7+ KB\n"
          ]
        }
      ]
    },
    {
      "cell_type": "code",
      "source": [
        "# 동승자의 여부가 생존 확률에 영향을 끼치는지 알고싶기 때문에\n",
        "# SibSp컬럼과 Parch컬럼에 값이 0이 아니면 동승자가 있다고 판단\n",
        "\n",
        "titanic_temp.loc[(titanic_temp['SibSp']!=0) & (titanic_temp['Parch']!=0), 'IsAlone'] = 0\n",
        "titanic_temp.loc[(titanic_temp['SibSp']!=0) & (titanic_temp['Parch']==0), 'IsAlone'] = 0\n",
        "titanic_temp.loc[(titanic_temp['SibSp']==0) & (titanic_temp['Parch']!=0), 'IsAlone'] = 0\n",
        "titanic_temp.loc[(titanic_temp['SibSp']==0) & (titanic_temp['Parch']==0), 'IsAlone'] = 1\n",
        "titanic_temp.info()"
      ],
      "metadata": {
        "colab": {
          "base_uri": "https://localhost:8080/"
        },
        "id": "vGG45ZZDJb3E",
        "outputId": "1dacad73-67f2-47bf-d9be-ebb5919d4df8"
      },
      "execution_count": 6,
      "outputs": [
        {
          "output_type": "stream",
          "name": "stdout",
          "text": [
            "<class 'pandas.core.frame.DataFrame'>\n",
            "RangeIndex: 891 entries, 0 to 890\n",
            "Data columns (total 12 columns):\n",
            " #   Column       Non-Null Count  Dtype  \n",
            "---  ------       --------------  -----  \n",
            " 0   PassengerId  891 non-null    int64  \n",
            " 1   Survived     891 non-null    int64  \n",
            " 2   Pclass       891 non-null    int64  \n",
            " 3   Name         891 non-null    object \n",
            " 4   Sex          891 non-null    object \n",
            " 5   Age          714 non-null    float64\n",
            " 6   SibSp        891 non-null    int64  \n",
            " 7   Parch        891 non-null    int64  \n",
            " 8   Ticket       891 non-null    object \n",
            " 9   Fare         891 non-null    float64\n",
            " 10  Embarked     891 non-null    object \n",
            " 11  IsAlone      891 non-null    float64\n",
            "dtypes: float64(3), int64(5), object(4)\n",
            "memory usage: 83.7+ KB\n"
          ]
        }
      ]
    },
    {
      "cell_type": "code",
      "source": [
        "# Age 컬럼의 null값을 이전값으로 대체\n",
        "titanic_train = titanic_temp.copy()\n",
        "titanic_train['Age'].fillna(method='ffill', inplace = True)\n",
        "titanic_train.info()"
      ],
      "metadata": {
        "colab": {
          "base_uri": "https://localhost:8080/"
        },
        "id": "NLTeNta7XkZo",
        "outputId": "ae749c51-9c6a-4e20-fb73-3389b06299e1"
      },
      "execution_count": 7,
      "outputs": [
        {
          "output_type": "stream",
          "name": "stdout",
          "text": [
            "<class 'pandas.core.frame.DataFrame'>\n",
            "RangeIndex: 891 entries, 0 to 890\n",
            "Data columns (total 12 columns):\n",
            " #   Column       Non-Null Count  Dtype  \n",
            "---  ------       --------------  -----  \n",
            " 0   PassengerId  891 non-null    int64  \n",
            " 1   Survived     891 non-null    int64  \n",
            " 2   Pclass       891 non-null    int64  \n",
            " 3   Name         891 non-null    object \n",
            " 4   Sex          891 non-null    object \n",
            " 5   Age          891 non-null    float64\n",
            " 6   SibSp        891 non-null    int64  \n",
            " 7   Parch        891 non-null    int64  \n",
            " 8   Ticket       891 non-null    object \n",
            " 9   Fare         891 non-null    float64\n",
            " 10  Embarked     891 non-null    object \n",
            " 11  IsAlone      891 non-null    float64\n",
            "dtypes: float64(3), int64(5), object(4)\n",
            "memory usage: 83.7+ KB\n"
          ]
        }
      ]
    },
    {
      "cell_type": "markdown",
      "source": [
        "# 특성 분석"
      ],
      "metadata": {
        "id": "q19aB4WO3cIS"
      }
    },
    {
      "cell_type": "code",
      "source": [
        "survived_male = len(titanic_train[(titanic_train['Survived'] == 1)& (titanic_train['Sex'] == 'male')])\n",
        "male_total = len(titanic[titanic_train['Sex'] == 'male'])\n",
        "survived_female = len(titanic_train[(titanic_train['Survived'] == 1)& (titanic_train['Sex'] == 'female')])\n",
        "female_total = len(titanic[titanic_train['Sex'] == 'female'])\n",
        "survived_total = len(titanic[titanic_train['Survived'] == 1])"
      ],
      "metadata": {
        "id": "RdiU6PP0ZOqi"
      },
      "execution_count": 8,
      "outputs": []
    },
    {
      "cell_type": "code",
      "source": [
        "# 성별에 따른 생존자수를 그래프로 출력\n",
        "labels = [0, 1]\n",
        "male_cnt = [male_total - survived_male, survived_male]\n",
        "female_cnt = [female_total - survived_female, survived_female]\n",
        "\n",
        "x = np.arange(len(labels))  # the label locations\n",
        "width = 0.35  # the width of the bars\n",
        "\n",
        "fig, ax = plt.subplots()\n",
        "rects1 = ax.bar(x - width/2, male_cnt, width, label='Men')\n",
        "rects2 = ax.bar(x + width/2, female_cnt, width, label='Women')\n",
        "\n",
        "for rect in rects1:\n",
        "    height = rect.get_height()\n",
        "    plt.text(rect.get_x() + rect.get_width()/2.0, height, height, ha='center', va='bottom', size = 12)\n",
        "\n",
        "for rect in rects2:\n",
        "    height = rect.get_height()\n",
        "    plt.text(rect.get_x() + rect.get_width()/2.0, height, height, ha='center', va='bottom', size = 12)\n",
        "\n",
        "ax.set_xlabel('Survived')\n",
        "ax.set_ylabel('num of people')\n",
        "ax.set_title('Num of survived by sex')\n",
        "ax.set_xticks([0, 1])\n",
        "ax.legend()\n",
        "ax.set_ylim([0, 550])\n",
        "\n",
        "plt.show()\n",
        "\n",
        "# 사망자의 수는 남성이 훨씬 많음"
      ],
      "metadata": {
        "colab": {
          "base_uri": "https://localhost:8080/",
          "height": 295
        },
        "id": "D9288aLsDE_4",
        "outputId": "55956e97-6823-4f7a-ce1a-00b13b2a09b2"
      },
      "execution_count": 9,
      "outputs": [
        {
          "output_type": "display_data",
          "data": {
            "text/plain": [
              "<Figure size 432x288 with 1 Axes>"
            ],
            "image/png": "[encoded data removed]"
          },
          "metadata": {
            "needs_background": "light"
          }
        }
      ]
    },
    {
      "cell_type": "code",
      "source": [
        "# 남자와 여자의 생존자 비율\n",
        "fig = plt.figure(figsize = (15,5))\n",
        "\n",
        "ax1 = fig.add_subplot(1,2,1)\n",
        "ax2 = fig.add_subplot(1,2,2)\n",
        "\n",
        "ratio_male = [100 -(100*(survived_male/male_total)), 100*(survived_male/male_total)]\n",
        "ax1.pie(ratio_male, autopct='%.1f%%', counterclock=False, startangle=90)\n",
        "ax1.set_title(\"Percentage of male survivors\")\n",
        "ax1.legend(titanic_train['Survived'],\n",
        "           title=\"Survived\",\n",
        "           loc=\"center left\", \n",
        "           bbox_to_anchor=(1, 0, 0.5, 1))\n",
        "\n",
        "ratio_female = [100 -(100*(survived_female/female_total)), 100*(survived_female/female_total)]\n",
        "ax2.pie(ratio_female, autopct='%.1f%%', counterclock=False, startangle=90)\n",
        "ax2.set_title(\"Percentage of female survivors\")\n",
        "ax2.legend(titanic_train['Survived'],\n",
        "           title=\"Survived\",\n",
        "           loc=\"center left\", \n",
        "           bbox_to_anchor=(1, 0, 0.5, 1))\n",
        "plt.show()\n",
        "\n",
        "# 사망자의 수는 남성의 비율이 훨씬 큼"
      ],
      "metadata": {
        "colab": {
          "base_uri": "https://localhost:8080/",
          "height": 319
        },
        "id": "50xDsfinoYiN",
        "outputId": "f721e130-79ec-47c3-96f2-d96466f5de0f"
      },
      "execution_count": 10,
      "outputs": [
        {
          "output_type": "display_data",
          "data": {
            "text/plain": [
              "<Figure size 1080x360 with 2 Axes>"
            ],
            "image/png": "[encoded data removed]"
          },
          "metadata": {}
        }
      ]
    },
    {
      "cell_type": "code",
      "source": [
        "# 성별에 따른 나이 분포\n",
        "g = sns.FacetGrid(titanic_train, col='Sex', height=6)\n",
        "g.map(plt.hist, 'Age', bins=20)\n",
        "plt.show()"
      ],
      "metadata": {
        "colab": {
          "base_uri": "https://localhost:8080/",
          "height": 441
        },
        "id": "S6fWaTd6w75z",
        "outputId": "32dd4e2e-b9aa-41cf-90e1-c7f12e9343db"
      },
      "execution_count": 11,
      "outputs": [
        {
          "output_type": "display_data",
          "data": {
            "text/plain": [
              "<Figure size 864x432 with 2 Axes>"
            ],
            "image/png": "[encoded data removed]"
          },
          "metadata": {
            "needs_background": "light"
          }
        }
      ]
    },
    {
      "cell_type": "code",
      "source": [
        "# 나이별 생존자\n",
        "g = sns.FacetGrid(titanic_train, col='Survived', height=6)\n",
        "g.map(plt.hist, 'Age', bins=20)\n",
        "plt.show()\n",
        "\n",
        "# 사망자는 주로 20~40세로 이루어짐"
      ],
      "metadata": {
        "colab": {
          "base_uri": "https://localhost:8080/",
          "height": 441
        },
        "id": "H9Cws4f5WCDL",
        "outputId": "3ef6c50d-3946-4c0c-86c9-ca80c74e68c6"
      },
      "execution_count": 12,
      "outputs": [
        {
          "output_type": "display_data",
          "data": {
            "text/plain": [
              "<Figure size 864x432 with 2 Axes>"
            ],
            "image/png": "[encoded data removed]"
          },
          "metadata": {
            "needs_background": "light"
          }
        }
      ]
    },
    {
      "cell_type": "code",
      "source": [
        "# 객실 등급에 따른 남녀별 인원수\n",
        "g = sns.FacetGrid(titanic_train, col='Sex', height=6, aspect=0.3)\n",
        "g.map(plt.hist, 'Pclass', bins=3)\n",
        "g.set(xticks=[1, 2, 3])\n",
        "plt.show()\n",
        "# 3클래스 객실에 남성의 인원수가 제일 많음"
      ],
      "metadata": {
        "colab": {
          "base_uri": "https://localhost:8080/",
          "height": 441
        },
        "id": "sO33jUzMe7gW",
        "outputId": "ac1ae688-c09b-4a5d-edfa-931804fa9462"
      },
      "execution_count": 13,
      "outputs": [
        {
          "output_type": "display_data",
          "data": {
            "text/plain": [
              "<Figure size 259.2x432 with 2 Axes>"
            ],
            "image/png": "[encoded data removed]"
          },
          "metadata": {
            "needs_background": "light"
          }
        }
      ]
    },
    {
      "cell_type": "code",
      "source": [
        "# 객실에 따른 남녀의 나이 분포\n",
        "grid = sns.FacetGrid(titanic_train, row='Pclass', col='Sex', height=4, aspect=2)\n",
        "grid.map(plt.hist, 'Age', alpha=0.8, bins=20)\n",
        "grid.add_legend()\n",
        "plt.show()\n",
        "\n",
        "# 3클래스 객실에 20~30세 남자의 인원수가 가장 많음"
      ],
      "metadata": {
        "colab": {
          "base_uri": "https://localhost:8080/",
          "height": 873
        },
        "id": "EmJmHeTT0kGS",
        "outputId": "eb83335e-00b7-4f7b-8bd0-eaaa4d0acc72"
      },
      "execution_count": 14,
      "outputs": [
        {
          "output_type": "display_data",
          "data": {
            "text/plain": [
              "<Figure size 1160x864 with 6 Axes>"
            ],
            "image/png": "[encoded data removed]"
          },
          "metadata": {
            "needs_background": "light"
          }
        }
      ]
    },
    {
      "cell_type": "code",
      "source": [
        "# 객실 등급에 따른 생존자\n",
        "g = sns.FacetGrid(titanic_train, col='Survived', height=6, aspect=0.3)\n",
        "g.map(plt.hist, 'Pclass', bins=3)\n",
        "g.set(xticks=[1, 2, 3])\n",
        "plt.show()\n",
        "\n",
        "# 3등급 객실의 인원수가 가장 많음에도 생존자수는 1등급 객실의 인원이 가장 많음\n",
        "# 3등급 객실의 사망자 수가 가장 많음"
      ],
      "metadata": {
        "colab": {
          "base_uri": "https://localhost:8080/",
          "height": 441
        },
        "id": "5BelRV3Wkd1O",
        "outputId": "d3d0f0fc-f4c3-4f34-d386-5b49544d6e27"
      },
      "execution_count": 15,
      "outputs": [
        {
          "output_type": "display_data",
          "data": {
            "text/plain": [
              "<Figure size 259.2x432 with 2 Axes>"
            ],
            "image/png": "[encoded data removed]"
          },
          "metadata": {
            "needs_background": "light"
          }
        }
      ]
    },
    {
      "cell_type": "code",
      "source": [
        "# 객실별 각 연령대의 생존자\n",
        "grid = sns.FacetGrid(titanic_train, col='Survived', row = 'Pclass', height=4, aspect=2)\n",
        "grid.map(plt.hist, 'Age', bins=20)\n",
        "grid.add_legend()\n",
        "plt.show()\n",
        "# 20~30세 남자 인원이 가장 많은 3등급 객실에서 사망확률이 매우 높음"
      ],
      "metadata": {
        "colab": {
          "base_uri": "https://localhost:8080/",
          "height": 873
        },
        "id": "EIkdk49U2TOq",
        "outputId": "1571c1c3-cbb2-4106-dab7-8abed753bed7"
      },
      "execution_count": 16,
      "outputs": [
        {
          "output_type": "display_data",
          "data": {
            "text/plain": [
              "<Figure size 1160x864 with 6 Axes>"
            ],
            "image/png": "[encoded data removed]"
          },
          "metadata": {
            "needs_background": "light"
          }
        }
      ]
    },
    {
      "cell_type": "code",
      "source": [
        "# 탑승지에 따른 생존자 비율\n",
        "sns.barplot(x = 'Embarked', y = 'Survived',data=titanic_train)\n",
        "plt.show()\n",
        "\n",
        "# C에서 승선한 사람이 생존률이 더 높음"
      ],
      "metadata": {
        "colab": {
          "base_uri": "https://localhost:8080/",
          "height": 279
        },
        "id": "0gaN-LTX0fPH",
        "outputId": "569e9805-85a0-4bd8-9c6f-9a5daabee123"
      },
      "execution_count": 17,
      "outputs": [
        {
          "output_type": "display_data",
          "data": {
            "text/plain": [
              "<Figure size 432x288 with 1 Axes>"
            ],
            "image/png": "[encoded data removed]"
          },
          "metadata": {
            "needs_background": "light"
          }
        }
      ]
    },
    {
      "cell_type": "code",
      "source": [
        "# 탑승지에 따른 생존자\n",
        "g = sns.FacetGrid(titanic_train, col='Embarked', height=6, aspect=0.3)\n",
        "g.map(plt.hist, 'Survived', bins=2)\n",
        "g.set(xticks=[0, 1])\n",
        "plt.show()\n",
        "\n",
        "# S 나 Q에서 승선한 승객은 모두 사망자 수보다 생존자들의 수가 더 적은데 비해\n",
        "# C에서 승선한 승객은 사망자 수보다 생존자가 더 많다"
      ],
      "metadata": {
        "colab": {
          "base_uri": "https://localhost:8080/",
          "height": 441
        },
        "id": "H6rKfM4Mf_3P",
        "outputId": "a6cb472d-3c7e-49bb-d644-600d77efe1f7"
      },
      "execution_count": 18,
      "outputs": [
        {
          "output_type": "display_data",
          "data": {
            "text/plain": [
              "<Figure size 388.8x432 with 3 Axes>"
            ],
            "image/png": "[encoded data removed]"
          },
          "metadata": {
            "needs_background": "light"
          }
        }
      ]
    },
    {
      "cell_type": "code",
      "source": [
        "# 성별에 따른 일행 여부를 확인\n",
        "\n",
        "labels = [0, 1]\n",
        "\n",
        "male_alone = len(titanic_train[(titanic_train['IsAlone']==1) & (titanic_train['Sex']=='male')])\n",
        "male_notalone = len(titanic_train[(titanic_train['IsAlone']==0) & (titanic_train['Sex']=='male')])\n",
        "female_alone = len(titanic_train[(titanic_train['IsAlone']==1) & (titanic_train['Sex']=='female')])\n",
        "female_notalone = len(titanic_train[(titanic_train['IsAlone']==0) & (titanic_train['Sex']=='female')])\n",
        "\n",
        "male_cnt = [male_notalone, male_alone]\n",
        "female_cnt = [female_notalone, female_alone]\n",
        "\n",
        "x = np.arange(len(labels))  # the label locations\n",
        "width = 0.35  # the width of the bars\n",
        "\n",
        "fig, ax = plt.subplots()\n",
        "rects1 = ax.bar(x - width/2, male_cnt, width, label='Male')\n",
        "rects2 = ax.bar(x + width/2, female_cnt, width, label='Female')\n",
        "\n",
        "for rect in rects1:\n",
        "    height = rect.get_height()\n",
        "    plt.text(rect.get_x() + rect.get_width()/2.0, height, height, ha='center', va='bottom', size = 12)\n",
        "\n",
        "for rect in rects2:\n",
        "    height = rect.get_height()\n",
        "    plt.text(rect.get_x() + rect.get_width()/2.0, height, height, ha='center', va='bottom', size = 12)\n",
        "\n",
        "ax.set_xlabel('IsAlone')\n",
        "ax.set_ylabel('num of people')\n",
        "ax.set_title('Num of survived by IsAlone')\n",
        "ax.set_xticks([0, 1])\n",
        "ax.legend()\n",
        "ax.set_ylim([0, 550])\n",
        "\n",
        "plt.show()\n",
        "\n",
        "# 남성의 경우 일행이 없는 사람이 훨씬 많음\n",
        "# 여성의 경우 일행이 있는 사람이 더 많음"
      ],
      "metadata": {
        "colab": {
          "base_uri": "https://localhost:8080/",
          "height": 295
        },
        "id": "Kj6MQ-rZYPNi",
        "outputId": "4073d37b-579b-4ea0-e5f6-40c38ab876c8"
      },
      "execution_count": 19,
      "outputs": [
        {
          "output_type": "display_data",
          "data": {
            "text/plain": [
              "<Figure size 432x288 with 1 Axes>"
            ],
            "image/png": "[encoded data removed]"
          },
          "metadata": {
            "needs_background": "light"
          }
        }
      ]
    },
    {
      "cell_type": "code",
      "source": [
        "# 일행의 유무에 따른 생존자\n",
        "labels = [0, 1]\n",
        "\n",
        "male_alone_survivor = len(titanic_train[(titanic_train['Survived']==1) & (titanic_train['IsAlone']==1) & (titanic_train['Sex']=='male')])\n",
        "male_notalone_survivor = len(titanic_train[(titanic_train['Survived']==1) & (titanic_train['IsAlone']==0) & (titanic_train['Sex']=='male')])\n",
        "female_alone_survivor = len(titanic_train[(titanic_train['Survived']==1) & (titanic_train['IsAlone']==1) & (titanic_train['Sex']=='female')])\n",
        "female_notalone_survivor = len(titanic_train[(titanic_train['Survived']==1) & (titanic_train['IsAlone']==0) & (titanic_train['Sex']=='female')])\n",
        "\n",
        "male_cnt = [male_notalone_survivor, male_alone_survivor]\n",
        "female_cnt = [female_notalone_survivor, female_alone_survivor]\n",
        "\n",
        "x = np.arange(len(labels))  # the label locations\n",
        "width = 0.35  # the width of the bars\n",
        "\n",
        "fig, ax = plt.subplots()\n",
        "rects1 = ax.bar(x - width/2, male_cnt, width, label='Men')\n",
        "rects2 = ax.bar(x + width/2, female_cnt, width, label='Women')\n",
        "\n",
        "for rect in rects1:\n",
        "    height = rect.get_height()\n",
        "    plt.text(rect.get_x() + rect.get_width()/2.0, height, height, ha='center', va='bottom', size = 12)\n",
        "\n",
        "for rect in rects2:\n",
        "    height = rect.get_height()\n",
        "    plt.text(rect.get_x() + rect.get_width()/2.0, height, height, ha='center', va='bottom', size = 12)\n",
        "\n",
        "ax.set_xlabel('IsAlone')\n",
        "ax.set_ylabel('num of people')\n",
        "ax.set_title('Num of survived by IsAlone')\n",
        "ax.set_xticks([0, 1])\n",
        "ax.legend()\n",
        "ax.set_ylim([0, 200])\n",
        "\n",
        "plt.show()\n",
        "\n",
        "# 남성의 경우 일행이 없는 생존자 수가 조금더 많음\n",
        "# 여성의 경우 일행이 있는 생존자 수가 조금더 많음"
      ],
      "metadata": {
        "colab": {
          "base_uri": "https://localhost:8080/",
          "height": 295
        },
        "id": "IEkTt09IRnal",
        "outputId": "2e7ba9b3-c941-4a14-9d71-e9db66b22fd6"
      },
      "execution_count": 20,
      "outputs": [
        {
          "output_type": "display_data",
          "data": {
            "text/plain": [
              "<Figure size 432x288 with 1 Axes>"
            ],
            "image/png": "[encoded data removed]"
          },
          "metadata": {
            "needs_background": "light"
          }
        }
      ]
    },
    {
      "cell_type": "code",
      "source": [
        "# 일행의 유무에 따른 사망자\n",
        "labels = [0, 1]\n",
        "\n",
        "male_alone_dead = len(titanic_train[(titanic_train['Survived']==0) & (titanic_train['IsAlone']==1) & (titanic_train['Sex']=='male')])\n",
        "male_notalone_dead = len(titanic_train[(titanic_train['Survived']==0) & (titanic_train['IsAlone']==0) & (titanic_train['Sex']=='male')])\n",
        "female_alone_dead = len(titanic_train[(titanic_train['Survived']==0) & (titanic_train['IsAlone']==1) & (titanic_train['Sex']=='female')])\n",
        "female_notalone_dead = len(titanic_train[(titanic_train['Survived']==0) & (titanic_train['IsAlone']==0) & (titanic_train['Sex']=='female')])\n",
        "\n",
        "male_cnt = [male_notalone_dead, male_alone_dead]\n",
        "female_cnt = [female_notalone_dead, female_alone_dead]\n",
        "\n",
        "x = np.arange(len(labels))  # the label locations\n",
        "width = 0.35  # the width of the bars\n",
        "\n",
        "fig, ax = plt.subplots()\n",
        "rects1 = ax.bar(x - width/2, male_cnt, width, label='Men')\n",
        "rects2 = ax.bar(x + width/2, female_cnt, width, label='Women')\n",
        "\n",
        "for rect in rects1:\n",
        "    height = rect.get_height()\n",
        "    plt.text(rect.get_x() + rect.get_width()/2.0, height, height, ha='center', va='bottom', size = 12)\n",
        "\n",
        "for rect in rects2:\n",
        "    height = rect.get_height()\n",
        "    plt.text(rect.get_x() + rect.get_width()/2.0, height, height, ha='center', va='bottom', size = 12)\n",
        "\n",
        "ax.set_xlabel('IsAlone')\n",
        "ax.set_ylabel('num of people')\n",
        "ax.set_title('Num of dead by IsAlone')\n",
        "ax.set_xticks([0, 1])\n",
        "ax.legend()\n",
        "ax.set_ylim([0, 400])\n",
        "\n",
        "plt.show()\n",
        "# 남성의 경우 일행이 없는 사망자 수가 훨씬 많음\n",
        "# 여성의 경우 일행이 있는 사망자 수가 조금 많음\n",
        "\n",
        "# 위와같은 특성은 일행여부에 관계없이 성별과 인원수에 따라 생존 확률이 결정되는것 같아 보임"
      ],
      "metadata": {
        "colab": {
          "base_uri": "https://localhost:8080/",
          "height": 295
        },
        "id": "6PiyGwWFV1bS",
        "outputId": "cd590f0e-b387-4ffe-c1b4-8390ed2e6bfe"
      },
      "execution_count": 21,
      "outputs": [
        {
          "output_type": "display_data",
          "data": {
            "text/plain": [
              "<Figure size 432x288 with 1 Axes>"
            ],
            "image/png": "[encoded data removed]"
          },
          "metadata": {
            "needs_background": "light"
          }
        }
      ]
    },
    {
      "cell_type": "markdown",
      "source": [
        "# 데이터 전처리 #2"
      ],
      "metadata": {
        "id": "U84p-BEX3msz"
      }
    },
    {
      "cell_type": "markdown",
      "source": [
        "## 훈련세트"
      ],
      "metadata": {
        "id": "0lvSuda95Yqa"
      }
    },
    {
      "cell_type": "code",
      "source": [
        "# Age 컬럼은 생존확률에 많은 영향을 끼칠 수 있으므로 Age컬럼의 정확도를 높이기 위해\n",
        "# 이전값을 대체하지말고 이름에 있는 호칭을 이용해 null값을 조금더 자세한 값으로 대체\n",
        "# Age 컬럼의 null값을 대체하기 전의 데이터 프레임을 확인\n",
        "titanic_temp.info()"
      ],
      "metadata": {
        "colab": {
          "base_uri": "https://localhost:8080/"
        },
        "id": "s8i6gQ2K9eBt",
        "outputId": "14b67a10-e880-4af1-c6c2-50851db33696"
      },
      "execution_count": 22,
      "outputs": [
        {
          "output_type": "stream",
          "name": "stdout",
          "text": [
            "<class 'pandas.core.frame.DataFrame'>\n",
            "RangeIndex: 891 entries, 0 to 890\n",
            "Data columns (total 12 columns):\n",
            " #   Column       Non-Null Count  Dtype  \n",
            "---  ------       --------------  -----  \n",
            " 0   PassengerId  891 non-null    int64  \n",
            " 1   Survived     891 non-null    int64  \n",
            " 2   Pclass       891 non-null    int64  \n",
            " 3   Name         891 non-null    object \n",
            " 4   Sex          891 non-null    object \n",
            " 5   Age          714 non-null    float64\n",
            " 6   SibSp        891 non-null    int64  \n",
            " 7   Parch        891 non-null    int64  \n",
            " 8   Ticket       891 non-null    object \n",
            " 9   Fare         891 non-null    float64\n",
            " 10  Embarked     891 non-null    object \n",
            " 11  IsAlone      891 non-null    float64\n",
            "dtypes: float64(3), int64(5), object(4)\n",
            "memory usage: 83.7+ KB\n"
          ]
        }
      ]
    },
    {
      "cell_type": "code",
      "source": [
        "# 이름에서 호칭을 추출\n",
        "a = titanic_temp['Name'].str.split(', ', expand=True)\n",
        "b = a[1].str.split('.', expand=True)\n",
        "print(b)\n",
        "# 첫번째 컬럼에 호칭에 대한 정보가 있음"
      ],
      "metadata": {
        "colab": {
          "base_uri": "https://localhost:8080/"
        },
        "id": "gjRRmMjE9e2i",
        "outputId": "d7ea529e-9f92-49a4-e58a-cfa30a7c8503"
      },
      "execution_count": 354,
      "outputs": [
        {
          "output_type": "stream",
          "name": "stdout",
          "text": [
            "        0                                       1     2\n",
            "0      Mr                             Owen Harris  None\n",
            "1     Mrs   John Bradley (Florence Briggs Thayer)  None\n",
            "2    Miss                                   Laina  None\n",
            "3     Mrs           Jacques Heath (Lily May Peel)  None\n",
            "4      Mr                           William Henry  None\n",
            "..    ...                                     ...   ...\n",
            "886   Rev                                  Juozas  None\n",
            "887  Miss                          Margaret Edith  None\n",
            "888  Miss                Catherine Helen \"Carrie\"  None\n",
            "889    Mr                             Karl Howell  None\n",
            "890    Mr                                 Patrick  None\n",
            "\n",
            "[891 rows x 3 columns]\n"
          ]
        }
      ]
    },
    {
      "cell_type": "code",
      "source": [
        "# 각 호칭별 인원수를 출력\n",
        "titanic_temp['Title'] = b[0]\n",
        "print(titanic_temp['Title'].value_counts())"
      ],
      "metadata": {
        "colab": {
          "base_uri": "https://localhost:8080/"
        },
        "id": "jzrAUECECuWh",
        "outputId": "28089fbd-891b-4e71-880e-441854dd40f7"
      },
      "execution_count": 24,
      "outputs": [
        {
          "output_type": "stream",
          "name": "stdout",
          "text": [
            "Mr              517\n",
            "Miss            182\n",
            "Mrs             125\n",
            "Master           40\n",
            "Dr                7\n",
            "Rev               6\n",
            "Mlle              2\n",
            "Major             2\n",
            "Col               2\n",
            "the Countess      1\n",
            "Capt              1\n",
            "Ms                1\n",
            "Sir               1\n",
            "Lady              1\n",
            "Mme               1\n",
            "Don               1\n",
            "Jonkheer          1\n",
            "Name: Title, dtype: int64\n"
          ]
        }
      ]
    },
    {
      "cell_type": "code",
      "source": [
        "# 개체 수가 적은 Dr 부터는 기타로 묶음\n",
        "def user(title):\n",
        "    if title == \"Mr\":\n",
        "        return title\n",
        "    elif title == \"Miss\":\n",
        "        return title\n",
        "    elif title == \"Mrs\":\n",
        "        return title\n",
        "    elif title == \"Master\":\n",
        "        return title\n",
        "    else:\n",
        "        return \"others\"\n",
        "\n",
        "titanic_temp[\"Title\"]=titanic_temp[\"Title\"].apply(user)\n",
        "print(titanic_temp['Title'].value_counts())"
      ],
      "metadata": {
        "colab": {
          "base_uri": "https://localhost:8080/"
        },
        "id": "yXisUvKWD8Fh",
        "outputId": "bb397ca3-d0b0-4d23-f358-7a38dd5b2991"
      },
      "execution_count": 25,
      "outputs": [
        {
          "output_type": "stream",
          "name": "stdout",
          "text": [
            "Mr        517\n",
            "Miss      182\n",
            "Mrs       125\n",
            "Master     40\n",
            "others     27\n",
            "Name: Title, dtype: int64\n"
          ]
        }
      ]
    },
    {
      "cell_type": "code",
      "source": [
        "# 각 호칭 별 나이 평균 확인\n",
        "titanic_temp.groupby(\"Title\")[\"Age\"].mean()"
      ],
      "metadata": {
        "colab": {
          "base_uri": "https://localhost:8080/"
        },
        "id": "ZvdZhvrYEznx",
        "outputId": "85b3fd1c-777a-4a30-8f9b-01688548f9c2"
      },
      "execution_count": 26,
      "outputs": [
        {
          "output_type": "execute_result",
          "data": {
            "text/plain": [
              "Title\n",
              "Master     4.574167\n",
              "Miss      21.773973\n",
              "Mr        32.368090\n",
              "Mrs       35.898148\n",
              "others    42.384615\n",
              "Name: Age, dtype: float64"
            ]
          },
          "metadata": {},
          "execution_count": 26
        }
      ]
    },
    {
      "cell_type": "code",
      "source": [
        "# 이 호칭의 나이 평균을 토대로 Age컬럼의 null값을 호칭의 나이 평균값으로 대체\n",
        "titanic_temp.loc[(titanic_temp[\"Age\"].isnull()) & (titanic_temp[\"Title\"]==\"Master\"), 'Age'] = 4.57\n",
        "titanic_temp.loc[(titanic_temp[\"Age\"].isnull()) & (titanic_temp[\"Title\"]==\"Miss\"), 'Age'] = 21.77\n",
        "titanic_temp.loc[(titanic_temp[\"Age\"].isnull()) & (titanic_temp[\"Title\"]==\"Mr\"), 'Age'] = 32.37\n",
        "titanic_temp.loc[(titanic_temp[\"Age\"].isnull()) & (titanic_temp[\"Title\"]==\"Mrs\"), 'Age'] = 35.90\n",
        "titanic_temp.loc[(titanic_temp[\"Age\"].isnull()) & (titanic_temp[\"Title\"]==\"others\"), 'Age'] = 42.38\n",
        "\n",
        "titanic_temp.info()"
      ],
      "metadata": {
        "colab": {
          "base_uri": "https://localhost:8080/"
        },
        "id": "OQB7FkrpIV-W",
        "outputId": "7b5e6b78-bf64-4de4-becd-27fa672b48a8"
      },
      "execution_count": 27,
      "outputs": [
        {
          "output_type": "stream",
          "name": "stdout",
          "text": [
            "<class 'pandas.core.frame.DataFrame'>\n",
            "RangeIndex: 891 entries, 0 to 890\n",
            "Data columns (total 13 columns):\n",
            " #   Column       Non-Null Count  Dtype  \n",
            "---  ------       --------------  -----  \n",
            " 0   PassengerId  891 non-null    int64  \n",
            " 1   Survived     891 non-null    int64  \n",
            " 2   Pclass       891 non-null    int64  \n",
            " 3   Name         891 non-null    object \n",
            " 4   Sex          891 non-null    object \n",
            " 5   Age          891 non-null    float64\n",
            " 6   SibSp        891 non-null    int64  \n",
            " 7   Parch        891 non-null    int64  \n",
            " 8   Ticket       891 non-null    object \n",
            " 9   Fare         891 non-null    float64\n",
            " 10  Embarked     891 non-null    object \n",
            " 11  IsAlone      891 non-null    float64\n",
            " 12  Title        891 non-null    object \n",
            "dtypes: float64(3), int64(5), object(5)\n",
            "memory usage: 90.6+ KB\n"
          ]
        }
      ]
    },
    {
      "cell_type": "code",
      "source": [
        "# 일행과 관련된 컬럼들 삭제\n",
        "# SibSp, Parch, IsAlone\n",
        "titanic_2 = titanic_temp.drop(columns = ['SibSp', 'Parch', 'IsAlone'], axis = 1).copy()\n",
        "titanic_2.info()"
      ],
      "metadata": {
        "colab": {
          "base_uri": "https://localhost:8080/"
        },
        "id": "bJhIXK4jI0LW",
        "outputId": "17913bdc-ad0d-4827-eafc-ab51a61f220e"
      },
      "execution_count": 28,
      "outputs": [
        {
          "output_type": "stream",
          "name": "stdout",
          "text": [
            "<class 'pandas.core.frame.DataFrame'>\n",
            "RangeIndex: 891 entries, 0 to 890\n",
            "Data columns (total 10 columns):\n",
            " #   Column       Non-Null Count  Dtype  \n",
            "---  ------       --------------  -----  \n",
            " 0   PassengerId  891 non-null    int64  \n",
            " 1   Survived     891 non-null    int64  \n",
            " 2   Pclass       891 non-null    int64  \n",
            " 3   Name         891 non-null    object \n",
            " 4   Sex          891 non-null    object \n",
            " 5   Age          891 non-null    float64\n",
            " 6   Ticket       891 non-null    object \n",
            " 7   Fare         891 non-null    float64\n",
            " 8   Embarked     891 non-null    object \n",
            " 9   Title        891 non-null    object \n",
            "dtypes: float64(2), int64(3), object(5)\n",
            "memory usage: 69.7+ KB\n"
          ]
        }
      ]
    },
    {
      "cell_type": "code",
      "source": [
        "# PassengerId, Name, Title, Ticket, Fare 컬럼 삭제\n",
        "titanic_2 = titanic_2.drop(columns = ['PassengerId', 'Name', 'Title', 'Ticket', 'Fare'], axis = 1)"
      ],
      "metadata": {
        "id": "HaOFqkU3cA-4"
      },
      "execution_count": 29,
      "outputs": []
    },
    {
      "cell_type": "code",
      "source": [
        "titanic_temp1 = titanic_2.copy()\n",
        "titanic_temp1.info()"
      ],
      "metadata": {
        "colab": {
          "base_uri": "https://localhost:8080/"
        },
        "id": "KUao-IByF4-a",
        "outputId": "98746ce9-45de-4aa3-8bd3-439623a22402"
      },
      "execution_count": 30,
      "outputs": [
        {
          "output_type": "stream",
          "name": "stdout",
          "text": [
            "<class 'pandas.core.frame.DataFrame'>\n",
            "RangeIndex: 891 entries, 0 to 890\n",
            "Data columns (total 5 columns):\n",
            " #   Column    Non-Null Count  Dtype  \n",
            "---  ------    --------------  -----  \n",
            " 0   Survived  891 non-null    int64  \n",
            " 1   Pclass    891 non-null    int64  \n",
            " 2   Sex       891 non-null    object \n",
            " 3   Age       891 non-null    float64\n",
            " 4   Embarked  891 non-null    object \n",
            "dtypes: float64(1), int64(2), object(2)\n",
            "memory usage: 34.9+ KB\n"
          ]
        }
      ]
    },
    {
      "cell_type": "code",
      "source": [
        "# 숫자가 아닌데이터들을 숫자화\n",
        "# Sex 컬럼은 여자면 0, 남자면 1\n",
        "print(titanic_temp1.head())\n",
        "sex = pd.get_dummies(titanic_temp1['Sex'])\n",
        "titanic_temp2 = pd.concat([titanic_temp1, sex], axis = 1)\n",
        "titanic_temp2 = titanic_temp2.drop(columns=['Sex', 'female'])\n",
        "titanic_temp2.rename(columns={'male':'Sex'}, inplace = True)\n",
        "print(titanic_temp2.head())"
      ],
      "metadata": {
        "colab": {
          "base_uri": "https://localhost:8080/"
        },
        "id": "Lg32IhHCIZHB",
        "outputId": "a57a4d30-e75b-4d35-83f4-cfd618300323"
      },
      "execution_count": 31,
      "outputs": [
        {
          "output_type": "stream",
          "name": "stdout",
          "text": [
            "   Survived  Pclass     Sex   Age Embarked\n",
            "0         0       3    male  22.0        S\n",
            "1         1       1  female  38.0        C\n",
            "2         1       3  female  26.0        S\n",
            "3         1       1  female  35.0        S\n",
            "4         0       3    male  35.0        S\n",
            "   Survived  Pclass   Age Embarked  Sex\n",
            "0         0       3  22.0        S    1\n",
            "1         1       1  38.0        C    0\n",
            "2         1       3  26.0        S    0\n",
            "3         1       1  35.0        S    0\n",
            "4         0       3  35.0        S    1\n"
          ]
        }
      ]
    },
    {
      "cell_type": "code",
      "source": [
        "# Embarked 컬럼은 C는 0, Q는 1, S는 2\n",
        "titanic_temp2['Embarked'] = titanic_temp2['Embarked'].map( {'C': 0, 'Q': 1, 'S': 2} ).astype(int)\n",
        "\n",
        "titanic_temp2.head()"
      ],
      "metadata": {
        "colab": {
          "base_uri": "https://localhost:8080/",
          "height": 206
        },
        "id": "ZQTfw8SwMW9V",
        "outputId": "a56aa18b-85f2-472d-db3d-bb960d2ac84d"
      },
      "execution_count": 32,
      "outputs": [
        {
          "output_type": "execute_result",
          "data": {
            "text/plain": [
              "   Survived  Pclass   Age  Embarked  Sex\n",
              "0         0       3  22.0         2    1\n",
              "1         1       1  38.0         0    0\n",
              "2         1       3  26.0         2    0\n",
              "3         1       1  35.0         2    0\n",
              "4         0       3  35.0         2    1"
            ],
            "text/html": [
              "\n",
              "  <div id=\"df-275af95c-0a69-4a4c-9c82-6d08eb345e98\">\n",
              "    <div class=\"colab-df-container\">\n",
              "      <div>\n",
              "<style scoped>\n",
              "    .dataframe tbody tr th:only-of-type {\n",
              "        vertical-align: middle;\n",
              "    }\n",
              "\n",
              "    .dataframe tbody tr th {\n",
              "        vertical-align: top;\n",
              "    }\n",
              "\n",
              "    .dataframe thead th {\n",
              "        text-align: right;\n",
              "    }\n",
              "</style>\n",
              "<table border=\"1\" class=\"dataframe\">\n",
              "  <thead>\n",
              "    <tr style=\"text-align: right;\">\n",
              "      <th></th>\n",
              "      <th>Survived</th>\n",
              "      <th>Pclass</th>\n",
              "      <th>Age</th>\n",
              "      <th>Embarked</th>\n",
              "      <th>Sex</th>\n",
              "    </tr>\n",
              "  </thead>\n",
              "  <tbody>\n",
              "    <tr>\n",
              "      <th>0</th>\n",
              "      <td>0</td>\n",
              "      <td>3</td>\n",
              "      <td>22.0</td>\n",
              "      <td>2</td>\n",
              "      <td>1</td>\n",
              "    </tr>\n",
              "    <tr>\n",
              "      <th>1</th>\n",
              "      <td>1</td>\n",
              "      <td>1</td>\n",
              "      <td>38.0</td>\n",
              "      <td>0</td>\n",
              "      <td>0</td>\n",
              "    </tr>\n",
              "    <tr>\n",
              "      <th>2</th>\n",
              "      <td>1</td>\n",
              "      <td>3</td>\n",
              "      <td>26.0</td>\n",
              "      <td>2</td>\n",
              "      <td>0</td>\n",
              "    </tr>\n",
              "    <tr>\n",
              "      <th>3</th>\n",
              "      <td>1</td>\n",
              "      <td>1</td>\n",
              "      <td>35.0</td>\n",
              "      <td>2</td>\n",
              "      <td>0</td>\n",
              "    </tr>\n",
              "    <tr>\n",
              "      <th>4</th>\n",
              "      <td>0</td>\n",
              "      <td>3</td>\n",
              "      <td>35.0</td>\n",
              "      <td>2</td>\n",
              "      <td>1</td>\n",
              "    </tr>\n",
              "  </tbody>\n",
              "</table>\n",
              "</div>\n",
              "      <button class=\"colab-df-convert\" onclick=\"convertToInteractive('df-275af95c-0a69-4a4c-9c82-6d08eb345e98')\"\n",
              "              title=\"Convert this dataframe to an interactive table.\"\n",
              "              style=\"display:none;\">\n",
              "        \n",
              "  <svg xmlns=\"http://www.w3.org/2000/svg\" height=\"24px\"viewBox=\"0 0 24 24\"\n",
              "       width=\"24px\">\n",
              "    <path d=\"M0 0h24v24H0V0z\" fill=\"none\"/>\n",
              "    <path d=\"M18.56 5.44l.94 2.06.94-2.06 2.06-.94-2.06-.94-.94-2.06-.94 2.06-2.06.94zm-11 1L8.5 8.5l.94-2.06 2.06-.94-2.06-.94L8.5 2.5l-.94 2.06-2.06.94zm10 10l.94 2.06.94-2.06 2.06-.94-2.06-.94-.94-2.06-.94 2.06-2.06.94z\"/><path d=\"M17.41 7.96l-1.37-1.37c-.4-.4-.92-.59-1.43-.59-.52 0-1.04.2-1.43.59L10.3 9.45l-7.72 7.72c-.78.78-.78 2.05 0 2.83L4 21.41c.39.39.9.59 1.41.59.51 0 1.02-.2 1.41-.59l7.78-7.78 2.81-2.81c.8-.78.8-2.07 0-2.86zM5.41 20L4 18.59l7.72-7.72 1.47 1.35L5.41 20z\"/>\n",
              "  </svg>\n",
              "      </button>\n",
              "      \n",
              "  <style>\n",
              "    .colab-df-container {\n",
              "      display:flex;\n",
              "      flex-wrap:wrap;\n",
              "      gap: 12px;\n",
              "    }\n",
              "\n",
              "    .colab-df-convert {\n",
              "      background-color: #E8F0FE;\n",
              "      border: none;\n",
              "      border-radius: 50%;\n",
              "      cursor: pointer;\n",
              "      display: none;\n",
              "      fill: #1967D2;\n",
              "      height: 32px;\n",
              "      padding: 0 0 0 0;\n",
              "      width: 32px;\n",
              "    }\n",
              "\n",
              "    .colab-df-convert:hover {\n",
              "      background-color: #E2EBFA;\n",
              "      box-shadow: 0px 1px 2px rgba(60, 64, 67, 0.3), 0px 1px 3px 1px rgba(60, 64, 67, 0.15);\n",
              "      fill: #174EA6;\n",
              "    }\n",
              "\n",
              "    [theme=dark] .colab-df-convert {\n",
              "      background-color: #3B4455;\n",
              "      fill: #D2E3FC;\n",
              "    }\n",
              "\n",
              "    [theme=dark] .colab-df-convert:hover {\n",
              "      background-color: #434B5C;\n",
              "      box-shadow: 0px 1px 3px 1px rgba(0, 0, 0, 0.15);\n",
              "      filter: drop-shadow(0px 1px 2px rgba(0, 0, 0, 0.3));\n",
              "      fill: #FFFFFF;\n",
              "    }\n",
              "  </style>\n",
              "\n",
              "      <script>\n",
              "        const buttonEl =\n",
              "          document.querySelector('#df-275af95c-0a69-4a4c-9c82-6d08eb345e98 button.colab-df-convert');\n",
              "        buttonEl.style.display =\n",
              "          google.colab.kernel.accessAllowed ? 'block' : 'none';\n",
              "\n",
              "        async function convertToInteractive(key) {\n",
              "          const element = document.querySelector('#df-275af95c-0a69-4a4c-9c82-6d08eb345e98');\n",
              "          const dataTable =\n",
              "            await google.colab.kernel.invokeFunction('convertToInteractive',\n",
              "                                                     [key], {});\n",
              "          if (!dataTable) return;\n",
              "\n",
              "          const docLinkHtml = 'Like what you see? Visit the ' +\n",
              "            '<a target=\"_blank\" href=https://colab.research.google.com/notebooks/data_table.ipynb>data table notebook</a>'\n",
              "            + ' to learn more about interactive tables.';\n",
              "          element.innerHTML = '';\n",
              "          dataTable['output_type'] = 'display_data';\n",
              "          await google.colab.output.renderOutput(dataTable, element);\n",
              "          const docLink = document.createElement('div');\n",
              "          docLink.innerHTML = docLinkHtml;\n",
              "          element.appendChild(docLink);\n",
              "        }\n",
              "      </script>\n",
              "    </div>\n",
              "  </div>\n",
              "  "
            ]
          },
          "metadata": {},
          "execution_count": 32
        }
      ]
    },
    {
      "cell_type": "code",
      "source": [
        "# 훈련 세트의 특성과 타깃을 나눠줌\n",
        "train_input = titanic_temp2[['Pclass', 'Sex', 'Age', 'Embarked']]\n",
        "train_target = titanic_temp2['Survived']"
      ],
      "metadata": {
        "id": "WWZxqRgxHUBo"
      },
      "execution_count": 33,
      "outputs": []
    },
    {
      "cell_type": "markdown",
      "source": [
        "## 테스트 세트"
      ],
      "metadata": {
        "id": "Y7_gPzu35l1S"
      }
    },
    {
      "cell_type": "code",
      "source": [
        "# 테스트 세트도 동일하게 전처리\n",
        "test_temp = pd.read_csv('/content/test.csv')\n",
        "test_temp.info()"
      ],
      "metadata": {
        "colab": {
          "base_uri": "https://localhost:8080/"
        },
        "id": "Pt0fhlPjb1Db",
        "outputId": "5d1199aa-bd32-490f-ab71-a76f9d861c30"
      },
      "execution_count": 34,
      "outputs": [
        {
          "output_type": "stream",
          "name": "stdout",
          "text": [
            "<class 'pandas.core.frame.DataFrame'>\n",
            "RangeIndex: 418 entries, 0 to 417\n",
            "Data columns (total 11 columns):\n",
            " #   Column       Non-Null Count  Dtype  \n",
            "---  ------       --------------  -----  \n",
            " 0   PassengerId  418 non-null    int64  \n",
            " 1   Pclass       418 non-null    int64  \n",
            " 2   Name         418 non-null    object \n",
            " 3   Sex          418 non-null    object \n",
            " 4   Age          332 non-null    float64\n",
            " 5   SibSp        418 non-null    int64  \n",
            " 6   Parch        418 non-null    int64  \n",
            " 7   Ticket       418 non-null    object \n",
            " 8   Fare         417 non-null    float64\n",
            " 9   Cabin        91 non-null     object \n",
            " 10  Embarked     418 non-null    object \n",
            "dtypes: float64(2), int64(4), object(5)\n",
            "memory usage: 36.0+ KB\n"
          ]
        }
      ]
    },
    {
      "cell_type": "code",
      "source": [
        "c = test_temp['Name'].str.split(', ', expand=True)\n",
        "d = c[1].str.split('.', expand = True)\n",
        "print(d)"
      ],
      "metadata": {
        "colab": {
          "base_uri": "https://localhost:8080/"
        },
        "id": "8bTqRxGrRELd",
        "outputId": "c546399d-f9be-4b9e-b29e-df7707a6e738"
      },
      "execution_count": 35,
      "outputs": [
        {
          "output_type": "stream",
          "name": "stdout",
          "text": [
            "          0                               1\n",
            "0        Mr                           James\n",
            "1       Mrs             James (Ellen Needs)\n",
            "2        Mr                  Thomas Francis\n",
            "3        Mr                          Albert\n",
            "4       Mrs   Alexander (Helga E Lindqvist)\n",
            "..      ...                             ...\n",
            "413      Mr                           Woolf\n",
            "414    Dona                         Fermina\n",
            "415      Mr                 Simon Sivertsen\n",
            "416      Mr                       Frederick\n",
            "417  Master                       Michael J\n",
            "\n",
            "[418 rows x 2 columns]\n"
          ]
        }
      ]
    },
    {
      "cell_type": "code",
      "source": [
        "test_temp['Title'] = d[0]\n",
        "print(test_temp['Title'].value_counts())"
      ],
      "metadata": {
        "colab": {
          "base_uri": "https://localhost:8080/"
        },
        "id": "HC_AXaxwTaLR",
        "outputId": "d6610475-2a8d-441d-af82-d684bfa2f437"
      },
      "execution_count": 36,
      "outputs": [
        {
          "output_type": "stream",
          "name": "stdout",
          "text": [
            "Mr        240\n",
            "Miss       78\n",
            "Mrs        72\n",
            "Master     21\n",
            "Col         2\n",
            "Rev         2\n",
            "Ms          1\n",
            "Dr          1\n",
            "Dona        1\n",
            "Name: Title, dtype: int64\n"
          ]
        }
      ]
    },
    {
      "cell_type": "code",
      "source": [
        "# 마찬가지로 개체 수가 적은 y.부터는 기타로 묶음\n",
        "def user(title):\n",
        "    if title == \"Mr\":\n",
        "        return title\n",
        "    elif title == \"Miss\":\n",
        "        return title\n",
        "    elif title == \"Mrs\":\n",
        "        return title\n",
        "    elif title == \"Master\":\n",
        "        return title\n",
        "    else:\n",
        "        return \"others\"\n",
        "\n",
        "test_temp[\"Title\"]=test_temp[\"Title\"].apply(user)\n",
        "print(test_temp['Title'].value_counts())\n",
        "# 각 호칭 별 나이 평균 확인\n",
        "test_temp.groupby(\"Title\")[\"Age\"].mean()"
      ],
      "metadata": {
        "colab": {
          "base_uri": "https://localhost:8080/"
        },
        "id": "XJwlvQwnSSQM",
        "outputId": "b596e3d0-0789-4528-a3e5-dea708f7d142"
      },
      "execution_count": 37,
      "outputs": [
        {
          "output_type": "stream",
          "name": "stdout",
          "text": [
            "Mr        240\n",
            "Miss       78\n",
            "Mrs        72\n",
            "Master     21\n",
            "others      7\n",
            "Name: Title, dtype: int64\n"
          ]
        },
        {
          "output_type": "execute_result",
          "data": {
            "text/plain": [
              "Title\n",
              "Master     7.406471\n",
              "Miss      21.774844\n",
              "Mr        32.000000\n",
              "Mrs       38.903226\n",
              "others    43.833333\n",
              "Name: Age, dtype: float64"
            ]
          },
          "metadata": {},
          "execution_count": 37
        }
      ]
    },
    {
      "cell_type": "code",
      "source": [
        "# 이 호칭의 나이 평균을 토대로 Age컬럼의 null값을 호칭의 나이 평균값으로 대체\n",
        "test_temp.loc[(test_temp[\"Age\"].isnull()) & (test_temp[\"Title\"]==\"Master\"), 'Age'] = 12.97\n",
        "test_temp.loc[(test_temp[\"Age\"].isnull()) & (test_temp[\"Title\"]==\"Miss\"), 'Age'] = 24.44\n",
        "test_temp.loc[(test_temp[\"Age\"].isnull()) & (test_temp[\"Title\"]==\"Mr\"), 'Age'] = 33.09\n",
        "test_temp.loc[(test_temp[\"Age\"].isnull()) & (test_temp[\"Title\"]==\"Mrs\"), 'Age'] = 38.58\n",
        "test_temp.loc[(test_temp[\"Age\"].isnull()) & (test_temp[\"Title\"]==\"others\"), 'Age'] = 42.80\n",
        "\n",
        "test_temp.info()"
      ],
      "metadata": {
        "colab": {
          "base_uri": "https://localhost:8080/"
        },
        "id": "lkdYOCzmfwDY",
        "outputId": "5bf03aea-2b1b-4847-b14d-3174d634d191"
      },
      "execution_count": 38,
      "outputs": [
        {
          "output_type": "stream",
          "name": "stdout",
          "text": [
            "<class 'pandas.core.frame.DataFrame'>\n",
            "RangeIndex: 418 entries, 0 to 417\n",
            "Data columns (total 12 columns):\n",
            " #   Column       Non-Null Count  Dtype  \n",
            "---  ------       --------------  -----  \n",
            " 0   PassengerId  418 non-null    int64  \n",
            " 1   Pclass       418 non-null    int64  \n",
            " 2   Name         418 non-null    object \n",
            " 3   Sex          418 non-null    object \n",
            " 4   Age          418 non-null    float64\n",
            " 5   SibSp        418 non-null    int64  \n",
            " 6   Parch        418 non-null    int64  \n",
            " 7   Ticket       418 non-null    object \n",
            " 8   Fare         417 non-null    float64\n",
            " 9   Cabin        91 non-null     object \n",
            " 10  Embarked     418 non-null    object \n",
            " 11  Title        418 non-null    object \n",
            "dtypes: float64(2), int64(4), object(6)\n",
            "memory usage: 39.3+ KB\n"
          ]
        }
      ]
    },
    {
      "cell_type": "code",
      "source": [
        "# Pclass, Sex, Age, Embarked 컬럼만 가져옴\n",
        "test_temp1 = test_temp[['Pclass', 'Sex', 'Age', 'Embarked']]\n",
        "test_temp1.info()"
      ],
      "metadata": {
        "colab": {
          "base_uri": "https://localhost:8080/"
        },
        "id": "e5R9MUYyQW6l",
        "outputId": "67524791-2448-433c-a13b-956877c0aed5"
      },
      "execution_count": 39,
      "outputs": [
        {
          "output_type": "stream",
          "name": "stdout",
          "text": [
            "<class 'pandas.core.frame.DataFrame'>\n",
            "RangeIndex: 418 entries, 0 to 417\n",
            "Data columns (total 4 columns):\n",
            " #   Column    Non-Null Count  Dtype  \n",
            "---  ------    --------------  -----  \n",
            " 0   Pclass    418 non-null    int64  \n",
            " 1   Sex       418 non-null    object \n",
            " 2   Age       418 non-null    float64\n",
            " 3   Embarked  418 non-null    object \n",
            "dtypes: float64(1), int64(1), object(2)\n",
            "memory usage: 13.2+ KB\n"
          ]
        }
      ]
    },
    {
      "cell_type": "code",
      "source": [
        "# 마찬가지로 숫자가 아닌데이터들을 숫자화\n",
        "# Sex 컬럼은 여자면 0, 남자면 1\n",
        "print(test_temp1.head())\n",
        "sex = pd.get_dummies(test_temp1['Sex'])\n",
        "test_temp2 = pd.concat([test_temp1, sex], axis = 1)\n",
        "test_temp2 = test_temp2.drop(columns=['Sex', 'female'])\n",
        "test_temp2.rename(columns={'male':'Sex'}, inplace = True)\n",
        "print(test_temp2.head())"
      ],
      "metadata": {
        "colab": {
          "base_uri": "https://localhost:8080/"
        },
        "id": "bUk3JADohJEC",
        "outputId": "4192ffb9-3067-4f10-a75a-64e2a1575871"
      },
      "execution_count": 40,
      "outputs": [
        {
          "output_type": "stream",
          "name": "stdout",
          "text": [
            "   Pclass     Sex   Age Embarked\n",
            "0       3    male  34.5        Q\n",
            "1       3  female  47.0        S\n",
            "2       2    male  62.0        Q\n",
            "3       3    male  27.0        S\n",
            "4       3  female  22.0        S\n",
            "   Pclass   Age Embarked  Sex\n",
            "0       3  34.5        Q    1\n",
            "1       3  47.0        S    0\n",
            "2       2  62.0        Q    1\n",
            "3       3  27.0        S    1\n",
            "4       3  22.0        S    0\n"
          ]
        }
      ]
    },
    {
      "cell_type": "code",
      "source": [
        "# Embarked 컬럼은 C는 0, Q는 1, S는 2\n",
        "test_temp2['Embarked'] = test_temp2['Embarked'].map( {'C': 0, 'Q': 1, 'S': 2} ).astype(int)\n",
        "test_temp2.head()\n",
        "\n",
        "test_input = test_temp2.copy()"
      ],
      "metadata": {
        "id": "X84wP55Kh-rb"
      },
      "execution_count": 41,
      "outputs": []
    },
    {
      "cell_type": "code",
      "source": [
        "# 컬럼 순서가 안맞아서 테스트 세트의 칼럼 순서를 변경\n",
        "print(train_input.info())\n",
        "print('-'*50)\n",
        "print(test_input.info())\n",
        "\n",
        "test_input = test_input[['Pclass', 'Sex', 'Age', 'Embarked']]"
      ],
      "metadata": {
        "colab": {
          "base_uri": "https://localhost:8080/"
        },
        "id": "8Cpp081OqquL",
        "outputId": "ee5ec4c8-7e3c-4373-b93f-5414509c1895"
      },
      "execution_count": 42,
      "outputs": [
        {
          "output_type": "stream",
          "name": "stdout",
          "text": [
            "<class 'pandas.core.frame.DataFrame'>\n",
            "RangeIndex: 891 entries, 0 to 890\n",
            "Data columns (total 4 columns):\n",
            " #   Column    Non-Null Count  Dtype  \n",
            "---  ------    --------------  -----  \n",
            " 0   Pclass    891 non-null    int64  \n",
            " 1   Sex       891 non-null    uint8  \n",
            " 2   Age       891 non-null    float64\n",
            " 3   Embarked  891 non-null    int64  \n",
            "dtypes: float64(1), int64(2), uint8(1)\n",
            "memory usage: 21.9 KB\n",
            "None\n",
            "--------------------------------------------------\n",
            "<class 'pandas.core.frame.DataFrame'>\n",
            "RangeIndex: 418 entries, 0 to 417\n",
            "Data columns (total 4 columns):\n",
            " #   Column    Non-Null Count  Dtype  \n",
            "---  ------    --------------  -----  \n",
            " 0   Pclass    418 non-null    int64  \n",
            " 1   Age       418 non-null    float64\n",
            " 2   Embarked  418 non-null    int64  \n",
            " 3   Sex       418 non-null    uint8  \n",
            "dtypes: float64(1), int64(2), uint8(1)\n",
            "memory usage: 10.3 KB\n",
            "None\n"
          ]
        }
      ]
    },
    {
      "cell_type": "code",
      "source": [
        "print(train_input.info())\n",
        "print('='*50)\n",
        "print(test_input.info())"
      ],
      "metadata": {
        "colab": {
          "base_uri": "https://localhost:8080/"
        },
        "id": "mKfXEH9nrcky",
        "outputId": "6bd3a20f-eefd-4935-bf8b-c851e4d73657"
      },
      "execution_count": 43,
      "outputs": [
        {
          "output_type": "stream",
          "name": "stdout",
          "text": [
            "<class 'pandas.core.frame.DataFrame'>\n",
            "RangeIndex: 891 entries, 0 to 890\n",
            "Data columns (total 4 columns):\n",
            " #   Column    Non-Null Count  Dtype  \n",
            "---  ------    --------------  -----  \n",
            " 0   Pclass    891 non-null    int64  \n",
            " 1   Sex       891 non-null    uint8  \n",
            " 2   Age       891 non-null    float64\n",
            " 3   Embarked  891 non-null    int64  \n",
            "dtypes: float64(1), int64(2), uint8(1)\n",
            "memory usage: 21.9 KB\n",
            "None\n",
            "==================================================\n",
            "<class 'pandas.core.frame.DataFrame'>\n",
            "RangeIndex: 418 entries, 0 to 417\n",
            "Data columns (total 4 columns):\n",
            " #   Column    Non-Null Count  Dtype  \n",
            "---  ------    --------------  -----  \n",
            " 0   Pclass    418 non-null    int64  \n",
            " 1   Sex       418 non-null    uint8  \n",
            " 2   Age       418 non-null    float64\n",
            " 3   Embarked  418 non-null    int64  \n",
            "dtypes: float64(1), int64(2), uint8(1)\n",
            "memory usage: 10.3 KB\n",
            "None\n"
          ]
        }
      ]
    },
    {
      "cell_type": "markdown",
      "source": [
        "# 모델훈련#1"
      ],
      "metadata": {
        "id": "oDhEivs4210K"
      }
    },
    {
      "cell_type": "code",
      "source": [
        "from sklearn.model_selection import cross_val_score, StratifiedKFold\n",
        "from sklearn.model_selection import train_test_split\n",
        "from sklearn.metrics import accuracy_score\n",
        "from scipy.stats import uniform, randint\n",
        "from sklearn.model_selection import RandomizedSearchCV\n",
        "\n",
        "from sklearn.tree import DecisionTreeClassifier\n",
        "from sklearn.ensemble import RandomForestClassifier\n",
        "from sklearn.naive_bayes import GaussianNB\n",
        "from sklearn.neighbors import KNeighborsClassifier\n",
        "from sklearn.ensemble import AdaBoostClassifier\n",
        "from sklearn.discriminant_analysis import QuadraticDiscriminantAnalysis\n",
        "from sklearn.svm import SVC\n",
        "from sklearn.ensemble import VotingClassifier\n",
        "from sklearn.ensemble import BaggingClassifier\n",
        "from xgboost import XGBClassifier"
      ],
      "metadata": {
        "id": "X-qr8RZDkHg3"
      },
      "execution_count": 314,
      "outputs": []
    },
    {
      "cell_type": "code",
      "source": [
        "# 점수를 출력하기위해 데이터 세트 분할\n",
        "X_train, X_test, y_train, y_test = train_test_split(train_input, train_target, test_size = 0.2)"
      ],
      "metadata": {
        "id": "47o_40YHwW_C"
      },
      "execution_count": 493,
      "outputs": []
    },
    {
      "cell_type": "code",
      "source": [
        "# 모델들의 대략적인 점수 출력\n",
        "clf3 = SVC(kernel = 'linear')\n",
        "\n",
        "classifiers = [DecisionTreeClassifier(),\n",
        "               RandomForestClassifier(),\n",
        "               GaussianNB(),\n",
        "               KNeighborsClassifier(),\n",
        "               SVC(kernel = 'linear'),\n",
        "               SVC(kernel = 'rbf'),\n",
        "               AdaBoostClassifier(),\n",
        "               QuadraticDiscriminantAnalysis(),\n",
        "               VotingClassifier(estimators = [('1', AdaBoostClassifier()),\n",
        "                                              ('2', RandomForestClassifier()),\n",
        "                                              ('3', SVC(kernel = 'linear'))]),\n",
        "               BaggingClassifier(base_estimator=clf3, n_estimators= 10, random_state = 0)]\n",
        "\n",
        "\n",
        "classifier_names = ['D_tree',\n",
        "                    'RF',\n",
        "                    'GNB',\n",
        "                    'KNN',\n",
        "                    'Ada',\n",
        "                    'QDA',\n",
        "                    'SVM_l',\n",
        "                    'SVM_k',\n",
        "                    'Voting',\n",
        "                    'Bagging'\n",
        "                    ]\n",
        "\n",
        "modelaccuracies = []\n",
        "modelmeans = []\n",
        "modelnames = []\n",
        "\n",
        "classifier_data = zip(classifier_names, classifiers)\n",
        "\n",
        "for classifier_name, classifier in classifier_data:\n",
        "  skf = StratifiedKFold(n_splits = 10, shuffle = True)\n",
        "  accuracies = cross_val_score(classifier, X=X_train, y=y_train, cv=skf)\n",
        "  print(\"Mean accuracy of\", classifier_name, \":{:.2f} %\".format(accuracies.mean()*100))\n",
        "\n",
        "# 대략적인 점수가 높은 모델들중 몇개와 XGboost모델을 사용해 하이퍼 파라미터를 조정"
      ],
      "metadata": {
        "id": "SpG9ylLyb5Ds",
        "colab": {
          "base_uri": "https://localhost:8080/"
        },
        "outputId": "e61a9f2d-d10a-4c7f-fb1c-1022fa021cf7"
      },
      "execution_count": 482,
      "outputs": [
        {
          "output_type": "stream",
          "name": "stdout",
          "text": [
            "Mean accuracy of D_tree :80.06 %\n",
            "Mean accuracy of RF :80.76 %\n",
            "Mean accuracy of GNB :77.96 %\n",
            "Mean accuracy of KNN :75.02 %\n",
            "Mean accuracy of Ada :78.80 %\n",
            "Mean accuracy of QDA :62.08 %\n",
            "Mean accuracy of SVM_l :77.81 %\n",
            "Mean accuracy of SVM_k :78.94 %\n",
            "Mean accuracy of Voting :80.05 %\n",
            "Mean accuracy of Bagging :78.78 %\n"
          ]
        }
      ]
    },
    {
      "cell_type": "markdown",
      "source": [
        "## 결정트리"
      ],
      "metadata": {
        "id": "VrW7qiBp9khR"
      }
    },
    {
      "cell_type": "code",
      "source": [
        "# 모델을 훈련하고 스코어 출력\n",
        "dt = DecisionTreeClassifier()\n",
        "dt.fit(X_train, y_train)\n",
        "print(dt.score(X_train, y_train))\n",
        "print(dt.score(X_test, y_test))\n",
        "\n",
        "# 과대적합"
      ],
      "metadata": {
        "colab": {
          "base_uri": "https://localhost:8080/"
        },
        "id": "6mK1ZXZlQi6x",
        "outputId": "e953ebd6-cce4-4eeb-d338-29d978ef375b"
      },
      "execution_count": 47,
      "outputs": [
        {
          "output_type": "stream",
          "name": "stdout",
          "text": [
            "0.9129213483146067\n",
            "0.7374301675977654\n"
          ]
        }
      ]
    },
    {
      "cell_type": "code",
      "source": [
        "# max_depth의 수치를 조절해 어떤값이 제일 좋은지 그래프로 시각화\n",
        "# 트리의 최대 깊이\n",
        "train_score = []\n",
        "test_score = []\n",
        "\n",
        "hp_list = list(range(2,7))\n",
        "\n",
        "for hp in hp_list:\n",
        "  dt = DecisionTreeClassifier(max_depth=hp)\n",
        "  dt.fit(X_train, y_train)\n",
        "  train_score.append(dt.score(X_train, y_train))\n",
        "  test_score.append(dt.score(X_test, y_test))\n",
        "\n",
        "plt.plot(np.log10(hp_list), train_score)\n",
        "plt.plot(np.log10(hp_list), test_score)\n",
        "\n",
        "plt.xlabel('max_depth')\n",
        "plt.ylabel('score')\n",
        "plt.show()"
      ],
      "metadata": {
        "colab": {
          "base_uri": "https://localhost:8080/",
          "height": 280
        },
        "id": "NM7MJEXrrA41",
        "outputId": "b30c1c49-c1fb-47e3-e162-f85c52ce0df7"
      },
      "execution_count": 48,
      "outputs": [
        {
          "output_type": "display_data",
          "data": {
            "text/plain": [
              "<Figure size 432x288 with 1 Axes>"
            ],
            "image/png": "[encoded data removed]"
          },
          "metadata": {
            "needs_background": "light"
          }
        }
      ]
    },
    {
      "cell_type": "code",
      "source": [
        "# 최적의 depth값은 3\n",
        "# depth가 3일때 스코어 출력\n",
        "dt = DecisionTreeClassifier(max_depth=3)\n",
        "dt.fit(X_train, y_train)\n",
        "print(dt.score(X_train, y_train))\n",
        "print(dt.score(X_test, y_test))"
      ],
      "metadata": {
        "colab": {
          "base_uri": "https://localhost:8080/"
        },
        "id": "XkyaNf3x8RsV",
        "outputId": "a492d047-56b1-4a7e-cc79-d378ad2ffc08"
      },
      "execution_count": 49,
      "outputs": [
        {
          "output_type": "stream",
          "name": "stdout",
          "text": [
            "0.8328651685393258\n",
            "0.7877094972067039\n"
          ]
        }
      ]
    },
    {
      "cell_type": "code",
      "source": [
        "# 트리 시각화\n",
        "from sklearn.tree import plot_tree\n",
        "\n",
        "plt.figure(figsize = (20,10))\n",
        "plot_tree(dt, max_depth= 3, filled = True, feature_names = ['Pclass',\n",
        "\t\t\t\t\t\t\t\t\t\t\t\t\t\t\t\t\t\t\t\t\t\t\t\t\t\t\t\t\t\t'Sex', 'Age', 'Embarked'])\n",
        "plt.show()"
      ],
      "metadata": {
        "colab": {
          "base_uri": "https://localhost:8080/",
          "height": 575
        },
        "id": "mabONZdNMy1B",
        "outputId": "798bc39a-a915-43a0-889e-af951c1506f1"
      },
      "execution_count": 50,
      "outputs": [
        {
          "output_type": "display_data",
          "data": {
            "text/plain": [
              "<Figure size 1440x720 with 1 Axes>"
            ],
            "image/png": "[encoded data removed]"
          },
          "metadata": {
            "needs_background": "light"
          }
        }
      ]
    },
    {
      "cell_type": "code",
      "source": [
        "# 특성 중요도 출력\n",
        "# 순서:['Pclass', 'Sex', 'Age', 'Embarked']\n",
        "print(dt.feature_importances_)"
      ],
      "metadata": {
        "colab": {
          "base_uri": "https://localhost:8080/"
        },
        "id": "TPEJM1naN6AY",
        "outputId": "8b9969f4-276d-40df-fac7-ca58b5990f15"
      },
      "execution_count": 51,
      "outputs": [
        {
          "output_type": "stream",
          "name": "stdout",
          "text": [
            "[0.2373479  0.65687621 0.0745671  0.03120879]\n"
          ]
        }
      ]
    },
    {
      "cell_type": "code",
      "source": [
        "# min_impurity_decrease의 수치를 조절해 어떤값이 제일 좋은지 그래프로 시각화\n",
        "# 최소 불순도\n",
        "train_score = []\n",
        "test_score = []\n",
        "\n",
        "hp_list = [0.001, 0.01, 0.1, 1]\n",
        "\n",
        "for hp in hp_list:\n",
        "  dt = DecisionTreeClassifier(min_impurity_decrease=hp)\n",
        "  dt.fit(X_train, y_train)\n",
        "  train_score.append(dt.score(X_train, y_train))\n",
        "  test_score.append(dt.score(X_test, y_test))\n",
        "\n",
        "plt.plot(np.log10(hp_list), train_score)\n",
        "plt.plot(np.log10(hp_list), test_score)\n",
        "\n",
        "plt.xlabel('min_impurity_decrease')\n",
        "plt.ylabel('score')\n",
        "plt.show()"
      ],
      "metadata": {
        "colab": {
          "base_uri": "https://localhost:8080/",
          "height": 280
        },
        "id": "dv3jgKkf-7yE",
        "outputId": "8789a27c-5555-4307-fcbd-398fad4bac95"
      },
      "execution_count": 52,
      "outputs": [
        {
          "output_type": "display_data",
          "data": {
            "text/plain": [
              "<Figure size 432x288 with 1 Axes>"
            ],
            "image/png": "[encoded data removed]"
          },
          "metadata": {
            "needs_background": "light"
          }
        }
      ]
    },
    {
      "cell_type": "code",
      "source": [
        "# 최적의 min_impurity_decrease값은 0.1\n",
        "# min_impurity_decrease가 0.1일때 스코어 출력\n",
        "dt = DecisionTreeClassifier(min_impurity_decrease=0.1)\n",
        "dt.fit(X_train, y_train)\n",
        "print(dt.score(X_train, y_train))\n",
        "print(dt.score(X_test, y_test))"
      ],
      "metadata": {
        "colab": {
          "base_uri": "https://localhost:8080/"
        },
        "id": "KVsnDyC4BEJw",
        "outputId": "5af91878-027e-4e88-c467-1887a4c2ba96"
      },
      "execution_count": 53,
      "outputs": [
        {
          "output_type": "stream",
          "name": "stdout",
          "text": [
            "0.7949438202247191\n",
            "0.7541899441340782\n"
          ]
        }
      ]
    },
    {
      "cell_type": "markdown",
      "source": [
        "### 랜덤 서치"
      ],
      "metadata": {
        "id": "2FvFYxhLXpB8"
      }
    },
    {
      "cell_type": "code",
      "source": [
        "# 랜덤서치로 최적의 하이퍼 파라미터값 찾기\n",
        "params = {'min_impurity_decrease' : uniform(0.0002, 0.0004),\n",
        "          'max_depth' : randint(20, 30),\n",
        "          'min_samples_split' : randint(2, 10),\n",
        "          'min_samples_leaf' : randint(5, 10)}\n",
        "rs = RandomizedSearchCV(DecisionTreeClassifier(), params,\n",
        "                        n_iter = 500, n_jobs=-1)\n",
        "rs.fit(X_train, y_train)\n",
        "# 최적의 매개변수 조합과 교차 검증 점수 확인\n",
        "print(rs.best_params_)\n",
        "print(np.max(rs.cv_results_['mean_test_score']))"
      ],
      "metadata": {
        "colab": {
          "base_uri": "https://localhost:8080/"
        },
        "id": "dhXicAyCRcM3",
        "outputId": "5fc4f12a-30e1-48aa-b9ff-5ce9cdf1e97a"
      },
      "execution_count": 293,
      "outputs": [
        {
          "output_type": "stream",
          "name": "stdout",
          "text": [
            "{'max_depth': 24, 'min_impurity_decrease': 0.00020387427633281407, 'min_samples_leaf': 5, 'min_samples_split': 8}\n",
            "0.8146459174628188\n"
          ]
        }
      ]
    },
    {
      "cell_type": "code",
      "source": [
        "be = rs.best_estimator_\n",
        "print(be.score(X_train, y_train))\n",
        "print(be.score(X_test, y_test))"
      ],
      "metadata": {
        "colab": {
          "base_uri": "https://localhost:8080/"
        },
        "id": "EulLtyHWScuh",
        "outputId": "de085a5e-5dfb-412f-dbba-d1a81241a50f"
      },
      "execution_count": 334,
      "outputs": [
        {
          "output_type": "stream",
          "name": "stdout",
          "text": [
            "0.8047752808988764\n",
            "0.7597765363128491\n"
          ]
        }
      ]
    },
    {
      "cell_type": "code",
      "source": [
        "# 특성 중요도 출력\n",
        "# 순서:['Pclass', 'Sex', 'Age', 'Embarked']\n",
        "print(be.feature_importances_)\n",
        "\n",
        "# 이 경우 제일 높은 특성 중요도가 나이가 되었음"
      ],
      "metadata": {
        "colab": {
          "base_uri": "https://localhost:8080/"
        },
        "id": "k5x5f1Cnr0nF",
        "outputId": "10b26558-e5ad-4a6f-a3c0-1a98fb0a6a22"
      },
      "execution_count": 335,
      "outputs": [
        {
          "output_type": "stream",
          "name": "stdout",
          "text": [
            "[0.21212121 0.15151515 0.54545455 0.09090909]\n"
          ]
        }
      ]
    },
    {
      "cell_type": "markdown",
      "source": [
        "## 랜덤포레스트"
      ],
      "metadata": {
        "id": "MvWgXEI4-wqG"
      }
    },
    {
      "cell_type": "code",
      "source": [
        "# 모델을 훈련하고 스코어 출력\n",
        "rf = RandomForestClassifier()\n",
        "rf.fit(X_train, y_train)\n",
        "print(rf.score(X_train, y_train))\n",
        "print(rf.score(X_test, y_test))\n",
        "\n",
        "# 과대적합"
      ],
      "metadata": {
        "colab": {
          "base_uri": "https://localhost:8080/"
        },
        "id": "baSS33VICj8l",
        "outputId": "6451b65e-184e-43d0-831c-6c309a662373"
      },
      "execution_count": 54,
      "outputs": [
        {
          "output_type": "stream",
          "name": "stdout",
          "text": [
            "0.9129213483146067\n",
            "0.7374301675977654\n"
          ]
        }
      ]
    },
    {
      "cell_type": "code",
      "source": [
        "# max_depth의 수치를 조절해 어떤값이 제일 좋은지 그래프로 시각화\n",
        "# 트리의 최대 깊이\n",
        "train_score = []\n",
        "test_score = []\n",
        "\n",
        "hp_list = list(range(2,7))\n",
        "\n",
        "for hp in hp_list:\n",
        "  rf = RandomForestClassifier(max_depth=hp)\n",
        "  rf.fit(X_train, y_train)\n",
        "  train_score.append(rf.score(X_train, y_train))\n",
        "  test_score.append(rf.score(X_test, y_test))\n",
        "\n",
        "plt.plot(np.log10(hp_list), train_score)\n",
        "plt.plot(np.log10(hp_list), test_score)\n",
        "\n",
        "plt.xlabel('depth')\n",
        "plt.ylabel('score')\n",
        "plt.show()"
      ],
      "metadata": {
        "colab": {
          "base_uri": "https://localhost:8080/",
          "height": 279
        },
        "id": "sW2MhTsPDsLj",
        "outputId": "c53823c3-692e-466e-a75b-83d3fef0cd3c"
      },
      "execution_count": 55,
      "outputs": [
        {
          "output_type": "display_data",
          "data": {
            "text/plain": [
              "<Figure size 432x288 with 1 Axes>"
            ],
            "image/png": "[encoded data removed]"
          },
          "metadata": {
            "needs_background": "light"
          }
        }
      ]
    },
    {
      "cell_type": "code",
      "source": [
        "# 최적의 depth값은 3\n",
        "# depth가 3일때 스코어 출력\n",
        "rf = RandomForestClassifier(max_depth=3)\n",
        "rf.fit(X_train, y_train)\n",
        "print(rf.score(X_train, y_train))\n",
        "print(rf.score(X_test, y_test))"
      ],
      "metadata": {
        "colab": {
          "base_uri": "https://localhost:8080/"
        },
        "id": "Vqqn-oGTGKPQ",
        "outputId": "d9717b13-b17f-4a91-c539-062d12bf02a0"
      },
      "execution_count": 56,
      "outputs": [
        {
          "output_type": "stream",
          "name": "stdout",
          "text": [
            "0.8328651685393258\n",
            "0.7932960893854749\n"
          ]
        }
      ]
    },
    {
      "cell_type": "code",
      "source": [
        "# min_samples_leaf의 수치를 조절해 어떤값이 제일 좋은지 그래프로 시각화\n",
        "# 리프노드가 되기 위해 필요한 최소한의 샘플 데이터수\n",
        "train_score = []\n",
        "test_score = []\n",
        "\n",
        "hp_list = [0.01, 0.1, 1, 10, 100, ]\n",
        "\n",
        "for hp in hp_list:\n",
        "  rf = RandomForestClassifier(min_samples_leaf=hp)\n",
        "  rf.fit(X_train, y_train)\n",
        "  train_score.append(rf.score(X_train, y_train))\n",
        "  test_score.append(rf.score(X_test, y_test))\n",
        "\n",
        "plt.plot(np.log10(hp_list), train_score)\n",
        "plt.plot(np.log10(hp_list), test_score)\n",
        "\n",
        "plt.xlabel('min_samples_leaf')\n",
        "plt.ylabel('score')\n",
        "plt.show()"
      ],
      "metadata": {
        "colab": {
          "base_uri": "https://localhost:8080/",
          "height": 280
        },
        "id": "1WjNbBDgGncw",
        "outputId": "593c41c3-f65d-40a3-f971-158b618d114d"
      },
      "execution_count": 57,
      "outputs": [
        {
          "output_type": "display_data",
          "data": {
            "text/plain": [
              "<Figure size 432x288 with 1 Axes>"
            ],
            "image/png": "[encoded data removed]"
          },
          "metadata": {
            "needs_background": "light"
          }
        }
      ]
    },
    {
      "cell_type": "code",
      "source": [
        "# 최적의 min_samples_leaf 값은 10\n",
        "# min_samples_leaf가 10일때 스코어 출력\n",
        "rf = RandomForestClassifier(min_samples_leaf=10)\n",
        "rf.fit(X_train, y_train)\n",
        "print(rf.score(X_train, y_train))\n",
        "print(rf.score(X_test, y_test))"
      ],
      "metadata": {
        "colab": {
          "base_uri": "https://localhost:8080/"
        },
        "id": "LIai3iErGneu",
        "outputId": "5684bfa7-9009-46bd-c9bd-ccf97f6bafda"
      },
      "execution_count": 58,
      "outputs": [
        {
          "output_type": "stream",
          "name": "stdout",
          "text": [
            "0.8384831460674157\n",
            "0.7821229050279329\n"
          ]
        }
      ]
    },
    {
      "cell_type": "markdown",
      "source": [
        "### 랜덤 서치"
      ],
      "metadata": {
        "id": "iK_khsimb-vi"
      }
    },
    {
      "cell_type": "code",
      "source": [
        "# 랜덤서치로 최적의 하이퍼 파라미터값 찾기\n",
        "params = {'max_depth' : randint(20, 30),\n",
        "          'min_samples_split' : randint(5, 50),\n",
        "          'min_samples_leaf' : randint(1, 10),\n",
        "          'max_leaf_nodes' : randint(10, 50)}\n",
        "rs = RandomizedSearchCV(RandomForestClassifier(), params,\n",
        "                        n_iter = 100, n_jobs=-1)\n",
        "rs.fit(X_train, y_train)\n",
        "# 최적의 매개변수 조합과 교차 검증 점수 확인\n",
        "print(rs.best_params_)\n",
        "print(np.max(rs.cv_results_['mean_test_score']))"
      ],
      "metadata": {
        "colab": {
          "base_uri": "https://localhost:8080/"
        },
        "id": "z0all_l9XsZS",
        "outputId": "910b96ab-cb14-4b6f-a3b4-03c687f4c290"
      },
      "execution_count": 290,
      "outputs": [
        {
          "output_type": "stream",
          "name": "stdout",
          "text": [
            "{'max_depth': 28, 'max_leaf_nodes': 20, 'min_samples_leaf': 3, 'min_samples_split': 6}\n",
            "0.8258248793460062\n"
          ]
        }
      ]
    },
    {
      "cell_type": "code",
      "source": [
        "be = rs.best_estimator_\n",
        "print(be.score(X_train, y_train))\n",
        "print(be.score(X_test, y_test))"
      ],
      "metadata": {
        "colab": {
          "base_uri": "https://localhost:8080/"
        },
        "id": "BA-LVf4PYhAY",
        "outputId": "f8683419-194e-424c-b338-0dcce1fdd8d8"
      },
      "execution_count": 291,
      "outputs": [
        {
          "output_type": "stream",
          "name": "stdout",
          "text": [
            "0.8581460674157303\n",
            "0.8100558659217877\n"
          ]
        }
      ]
    },
    {
      "cell_type": "markdown",
      "source": [
        "## 에이다 부스트"
      ],
      "metadata": {
        "id": "XUUIyw6kFrAc"
      }
    },
    {
      "cell_type": "markdown",
      "source": [
        "![에이다 부스트](https://images.velog.io/images/tjddls321/post/2ccb894f-72b8-4185-be69-e414e1019290/image.png)"
      ],
      "metadata": {
        "id": "2mq1XVBPG7zG"
      }
    },
    {
      "cell_type": "code",
      "source": [
        "# 여러 번의 분류를 통해 정답을 예측해 가는 알고리즘\n",
        "# 생성할 약한 학습기의 갯수를 지정\n",
        "ab = AdaBoostClassifier()\n",
        "ab.fit(X_train, y_train)\n",
        "print(ab.score(X_train, y_train))\n",
        "print(ab.score(X_test, y_test))\n",
        "\n",
        "# 과대적합"
      ],
      "metadata": {
        "colab": {
          "base_uri": "https://localhost:8080/"
        },
        "id": "ZvVHwvWFGmlo",
        "outputId": "8278f79e-31ae-4750-d930-86e9c0ec47ba"
      },
      "execution_count": 68,
      "outputs": [
        {
          "output_type": "stream",
          "name": "stdout",
          "text": [
            "0.824438202247191\n",
            "0.770949720670391\n"
          ]
        }
      ]
    },
    {
      "cell_type": "code",
      "source": [
        "# n_estimators의 수치를 조절해 어떤값이 제일 좋은지 그래프로 시각화\n",
        "# 리프노드가 되기 위해 필요한 최소한의 샘플 데이터수\n",
        "train_score = []\n",
        "test_score = []\n",
        "\n",
        "hp_list = [10, 100, 1000, 10000]\n",
        "\n",
        "for hp in hp_list:\n",
        "  ab = AdaBoostClassifier(n_estimators=hp)\n",
        "  ab.fit(X_train, y_train)\n",
        "  train_score.append(ab.score(X_train, y_train))\n",
        "  test_score.append(ab.score(X_test, y_test))\n",
        "\n",
        "plt.plot(np.log10(hp_list), train_score)\n",
        "plt.plot(np.log10(hp_list), test_score)\n",
        "\n",
        "plt.xlabel('n_estimators')\n",
        "plt.ylabel('score')\n",
        "plt.show()"
      ],
      "metadata": {
        "colab": {
          "base_uri": "https://localhost:8080/",
          "height": 280
        },
        "id": "YNq_H9LQILEb",
        "outputId": "7335916a-4b43-4372-82b2-6279dc0c1a27"
      },
      "execution_count": 74,
      "outputs": [
        {
          "output_type": "display_data",
          "data": {
            "text/plain": [
              "<Figure size 432x288 with 1 Axes>"
            ],
            "image/png": "[encoded data removed]"
          },
          "metadata": {
            "needs_background": "light"
          }
        }
      ]
    },
    {
      "cell_type": "code",
      "source": [
        "# 최적의 n_estimators값은 1000\n",
        "# n_estimators가 1000일때 스코어 출력\n",
        "ab = AdaBoostClassifier(n_estimators=1000)\n",
        "ab.fit(X_train, y_train)\n",
        "print(ab.score(X_train, y_train))\n",
        "print(ab.score(X_test, y_test))"
      ],
      "metadata": {
        "colab": {
          "base_uri": "https://localhost:8080/"
        },
        "id": "SD4ZUtdAKOQG",
        "outputId": "5f0a57dd-78fb-4892-87d0-1d3e9d8013f7"
      },
      "execution_count": 76,
      "outputs": [
        {
          "output_type": "stream",
          "name": "stdout",
          "text": [
            "0.8370786516853933\n",
            "0.7821229050279329\n"
          ]
        }
      ]
    },
    {
      "cell_type": "code",
      "source": [
        "# learning_rate의 수치를 조절해 어떤값이 제일 좋은지 그래프로 시각화\n",
        "# 학습을 진행할 때마다 적용하는 학습률(0~1)\n",
        "train_score = []\n",
        "test_score = []\n",
        "\n",
        "hp_list = [0.12, 0.13, 0.14]\n",
        "\n",
        "for hp in hp_list:\n",
        "  ab = AdaBoostClassifier(learning_rate=hp)\n",
        "  ab.fit(X_train, y_train)\n",
        "  train_score.append(ab.score(X_train, y_train))\n",
        "  test_score.append(ab.score(X_test, y_test))\n",
        "\n",
        "plt.plot(np.log10(hp_list), train_score)\n",
        "plt.plot(np.log10(hp_list), test_score)\n",
        "\n",
        "plt.xlabel('learning_rate')\n",
        "plt.ylabel('score')\n",
        "plt.show()"
      ],
      "metadata": {
        "colab": {
          "base_uri": "https://localhost:8080/",
          "height": 281
        },
        "id": "8-2nCVbNKoLZ",
        "outputId": "bc193e5c-441f-42a0-9cec-18e1fbf195a4"
      },
      "execution_count": 384,
      "outputs": [
        {
          "output_type": "display_data",
          "data": {
            "text/plain": [
              "<Figure size 432x288 with 1 Axes>"
            ],
            "image/png": "[encoded data removed]"
          },
          "metadata": {
            "needs_background": "light"
          }
        }
      ]
    },
    {
      "cell_type": "code",
      "source": [
        "# 최적의learning_rate값은 0.13\n",
        "# learning_rate가 0.13일때 스코어 출력\n",
        "ab = AdaBoostClassifier(learning_rate=0.13)\n",
        "ab.fit(X_train, y_train)\n",
        "print(ab.score(X_train, y_train))\n",
        "print(ab.score(X_test, y_test))"
      ],
      "metadata": {
        "colab": {
          "base_uri": "https://localhost:8080/"
        },
        "id": "bf3xyEi5MhkX",
        "outputId": "9d7ca355-b143-4113-e9ee-f815b8204cf2"
      },
      "execution_count": 154,
      "outputs": [
        {
          "output_type": "stream",
          "name": "stdout",
          "text": [
            "0.8019662921348315\n",
            "0.7877094972067039\n"
          ]
        }
      ]
    },
    {
      "cell_type": "markdown",
      "source": [
        "### 랜덤서치"
      ],
      "metadata": {
        "id": "nSFWYUZ9rLlR"
      }
    },
    {
      "cell_type": "code",
      "source": [
        "# 랜덤서치로 최적의 하이퍼 파라미터값 찾기\n",
        "params = {'n_estimators' : randint(20, 100),\n",
        "          'learning_rate' : uniform(0,1)}\n",
        "rs = RandomizedSearchCV(AdaBoostClassifier(), params,\n",
        "                        n_iter = 100, n_jobs=-1)\n",
        "rs.fit(X_train, y_train)\n",
        "# 최적의 매개변수 조합과 교차 검증 점수 확인\n",
        "print(rs.best_params_)\n",
        "print(np.max(rs.cv_results_['mean_test_score']))"
      ],
      "metadata": {
        "colab": {
          "base_uri": "https://localhost:8080/"
        },
        "id": "lS2p2TRndIOV",
        "outputId": "7ca66699-87b2-4f49-b104-a5cbef3ffaf6"
      },
      "execution_count": 312,
      "outputs": [
        {
          "output_type": "stream",
          "name": "stdout",
          "text": [
            "{'learning_rate': 0.5265309847048208, 'n_estimators': 33}\n",
            "0.8005417118093174\n"
          ]
        }
      ]
    },
    {
      "cell_type": "code",
      "source": [
        "be = rs.best_estimator_\n",
        "print(be.score(X_train, y_train))\n",
        "print(be.score(X_test, y_test))"
      ],
      "metadata": {
        "colab": {
          "base_uri": "https://localhost:8080/"
        },
        "id": "uYDe8_cVdQUo",
        "outputId": "115fd995-caf6-4bff-9c91-29013bf20b04"
      },
      "execution_count": 313,
      "outputs": [
        {
          "output_type": "stream",
          "name": "stdout",
          "text": [
            "0.8047752808988764\n",
            "0.7597765363128491\n"
          ]
        }
      ]
    },
    {
      "cell_type": "markdown",
      "source": [
        "## 보팅\n",
        "\n"
      ],
      "metadata": {
        "id": "MzQonbbCffs3"
      }
    },
    {
      "cell_type": "code",
      "source": [
        "# 여러가지 다른 유형의 알고리즘을 같은 데이터셋에 적용해 학습\n",
        "# 모델을 훈련하고 스코어 출력\n",
        "clf1 = RandomForestClassifier()\n",
        "clf2 = AdaBoostClassifier()\n",
        "clf3 = SVC(kernel='linear')\n",
        "\n",
        "vt = VotingClassifier(estimators = [('rf', clf1), ('ab', clf2), ('svc_l', clf3)])\n",
        "vt.fit(X_train, y_train)\n",
        "print(vt.score(X_train, y_train))\n",
        "print(vt.score(X_test, y_test))\n",
        "\n",
        "# 과대적합"
      ],
      "metadata": {
        "colab": {
          "base_uri": "https://localhost:8080/"
        },
        "id": "i2-WDeOAiQCQ",
        "outputId": "561c23ea-2e6e-4f73-abe0-ec7ca7b58275"
      },
      "execution_count": 489,
      "outputs": [
        {
          "output_type": "stream",
          "name": "stdout",
          "text": [
            "0.8328651685393258\n",
            "0.7988826815642458\n"
          ]
        }
      ]
    },
    {
      "cell_type": "code",
      "source": [
        "# 의문\n",
        "# 보팅 모델을 학습할때 랜덤서치 사용 가능?"
      ],
      "metadata": {
        "id": "39FL6hrze174"
      },
      "execution_count": null,
      "outputs": []
    },
    {
      "cell_type": "markdown",
      "source": [
        "## 배깅"
      ],
      "metadata": {
        "id": "U1RYEUxSffvu"
      }
    },
    {
      "cell_type": "code",
      "source": [
        "# 데이터 세트를 여러개로 분리해 분류를 실행\n",
        "# 모델을 훈련하고 스코어 출력\n",
        "# 베이스 모델을 서포트 벡터머신 rbf로 지정\n",
        "bg = BaggingClassifier(base_estimator=SVC(kernel='rbf'), n_estimators=1000)\n",
        "bg.fit(X_train, y_train)\n",
        "print(bg.score(X_train, y_train))\n",
        "print(bg.score(X_test, y_test))\n",
        "\n",
        "# 과소적합"
      ],
      "metadata": {
        "colab": {
          "base_uri": "https://localhost:8080/"
        },
        "id": "BAGMe02SjrRX",
        "outputId": "3f41482d-aeaf-491a-a618-ad8875e10327"
      },
      "execution_count": 494,
      "outputs": [
        {
          "output_type": "stream",
          "name": "stdout",
          "text": [
            "0.6320224719101124\n",
            "0.6312849162011173\n"
          ]
        }
      ]
    },
    {
      "cell_type": "code",
      "source": [
        "# 베이스 모델을  에이다부스트로 지정\n",
        "bg = BaggingClassifier(base_estimator=AdaBoostClassifier(), n_estimators=1000)\n",
        "bg.fit(X_train, y_train)\n",
        "print(bg.score(X_train, y_train))\n",
        "print(bg.score(X_test, y_test))\n"
      ],
      "metadata": {
        "colab": {
          "base_uri": "https://localhost:8080/"
        },
        "id": "6bwkCTlQkylw",
        "outputId": "68de7c2a-f23c-4428-e76b-af6757879103"
      },
      "execution_count": 508,
      "outputs": [
        {
          "output_type": "stream",
          "name": "stdout",
          "text": [
            "0.8132022471910112\n",
            "0.8100558659217877\n"
          ]
        }
      ]
    },
    {
      "cell_type": "code",
      "source": [
        "# 베이스 모델을 서포트 벡터머신 랜덤포레스트로 지정\n",
        "bg = BaggingClassifier(base_estimator=RandomForestClassifier(), n_estimators=1000)\n",
        "bg.fit(X_train, y_train)\n",
        "print(bg.score(X_train, y_train))\n",
        "print(bg.score(X_test, y_test))\n",
        "\n",
        "# 과대적합"
      ],
      "metadata": {
        "colab": {
          "base_uri": "https://localhost:8080/"
        },
        "id": "Kn0DbzIHqcHa",
        "outputId": "6fc15123-40ef-45b9-b5c2-0e557d993096"
      },
      "execution_count": 496,
      "outputs": [
        {
          "output_type": "stream",
          "name": "stdout",
          "text": [
            "0.8946629213483146\n",
            "0.8044692737430168\n"
          ]
        }
      ]
    },
    {
      "cell_type": "markdown",
      "source": [
        "## XG부스트"
      ],
      "metadata": {
        "id": "K3oxpeAVX3fb"
      }
    },
    {
      "cell_type": "code",
      "source": [
        "# XGBoost는 Gradient Boosting 알고리즘을 분산환경에서도 실행할 수 있도록 구현해놓은 라이브러리\n",
        "xgb = XGBClassifier()\n",
        "xgb.fit(X_train, y_train)\n",
        "print(xgb.score(X_train, y_train))\n",
        "print(xgb.score(X_test, y_test))\n",
        "\n",
        "# 과대적합"
      ],
      "metadata": {
        "colab": {
          "base_uri": "https://localhost:8080/"
        },
        "id": "If8egMADOzXe",
        "outputId": "8ca0455f-d407-4178-d58c-a5d310ca2be2"
      },
      "execution_count": 337,
      "outputs": [
        {
          "output_type": "stream",
          "name": "stdout",
          "text": [
            "0.8567415730337079\n",
            "0.7988826815642458\n"
          ]
        }
      ]
    },
    {
      "cell_type": "code",
      "source": [
        "# 랜덤서치로 최적의 하이퍼 파라미터값 찾기\n",
        "params = {'learning rate' : uniform(0.0001, 0.001), # \n",
        "          'n_estimators' : randint(10, 100),         # 생성할 weak learner의 수\n",
        "          #'min_child_weight' : randint(0, 100),     # GBM의 min_samples_leaf와 유사, 관측치에 대한 가중치 합의 최소\n",
        "          #'min_split_loss' : randint(5, 10),        # 리프노드의 추가분할을 결정할 최소손실 감소값\n",
        "          'max_depth' : randint(3, 10),             # 트리 기반 알고리즘의 max_depth와 동일\n",
        "          # 'subsample' : uniform(0.5, 1),            # 데이터 샘플링 비율 지정(과적합 제어)\n",
        "          'colsample_bytree' : uniform(0, 1)        # 피처가 많을 때 과적합 조절에 사용\n",
        "          # 'reg_lambda' : randint(50,1000),            # 클수록 과적합 감소 효과\n",
        "          # 'reg_alpha' : randint(0,1000)               # 클수록 과적합 감소 효과\n",
        "          }\n",
        "rs = RandomizedSearchCV(XGBClassifier(), params,\n",
        "                        n_iter = 100, n_jobs=-1)\n",
        "rs.fit(X_train, y_train)\n",
        "# 최적의 매개변수 조합과 교차 검증 점수 확인\n",
        "print(rs.best_params_)\n",
        "print(np.max(rs.cv_results_['mean_test_score']))"
      ],
      "metadata": {
        "colab": {
          "base_uri": "https://localhost:8080/"
        },
        "id": "d3eMD3gkdPUx",
        "outputId": "4adfc99f-493f-41ea-a777-3c6b3ebf2623"
      },
      "execution_count": 375,
      "outputs": [
        {
          "output_type": "stream",
          "name": "stdout",
          "text": [
            "{'colsample_bytree': 0.6505267870024667, 'learning rate': 0.000531076662674564, 'max_depth': 3, 'n_estimators': 64}\n",
            "0.8328474342558849\n"
          ]
        }
      ]
    },
    {
      "cell_type": "code",
      "source": [
        "be = rs.best_estimator_\n",
        "print(be.score(X_train, y_train))\n",
        "print(be.score(X_test, y_test))"
      ],
      "metadata": {
        "colab": {
          "base_uri": "https://localhost:8080/"
        },
        "id": "_3pKmBDxs67l",
        "outputId": "fadf5930-96b5-4431-f31f-20c7c12df8ad"
      },
      "execution_count": 376,
      "outputs": [
        {
          "output_type": "stream",
          "name": "stdout",
          "text": [
            "0.8370786516853933\n",
            "0.8044692737430168\n"
          ]
        }
      ]
    },
    {
      "cell_type": "markdown",
      "source": [
        "## 점수 비교"
      ],
      "metadata": {
        "id": "14kT8UndUHRX"
      }
    },
    {
      "cell_type": "markdown",
      "source": [
        "### 베스트 점수\n",
        " 결정트리 (랜덤서치) \\\\\n",
        "0.8047752808988764 \\\\\n",
        "0.7597765363128491 \\\\\n",
        " \\\\\n",
        "랜덤 포레스트\n",
        "(랜덤서치) \\\\\n",
        "0.8581460674157303 \\\\\n",
        "0.8100558659217877 \\\\\n",
        " \\\\\n",
        "에이다 부스트\n",
        "(learning_rate=0.13) \\\\\n",
        "0.8019662921348315 \\\\\n",
        "0.7877094972067039 \\\\\n",
        " \\\\\n",
        "보팅 \n",
        "(1. 랜덤포레스트, 2. 에이다부스트, 3. 서포트벡터머신(k='linear')) \\\\\n",
        "0.8412921348314607 \\\\\n",
        "0.7988826815642458 \\\\\n",
        " \\\\\n",
        "배깅\n",
        "(에이다부스트) \\\\\n",
        "0.8174157303370787 \\\\\n",
        "0.7486033519553073 \\\\\n",
        " \\\\\n",
        "XG부스트\n",
        "(랜덤서치) * \\\\\n",
        "0.8370786516853933 \\\\\n",
        "0.8044692737430168 \\\\"
      ],
      "metadata": {
        "id": "PmiG_Hi3ULn6"
      }
    },
    {
      "cell_type": "markdown",
      "source": [
        "# 데이터 전처리 #3"
      ],
      "metadata": {
        "id": "CjbNc29l2mNT"
      }
    },
    {
      "cell_type": "code",
      "source": [
        "# 나이 컬럼을 범주형으로 바꿔서 전처리\n",
        "# 모델 훈련 전에 나누었던 훈련 세트와 테스트 세트의 나이를 바꿔줌\n",
        "X_train_temp = X_train.copy()\n",
        "X_test_temp = X_test.copy()\n",
        "print(X_train_temp.info())\n",
        "print(X_test_temp.info())"
      ],
      "metadata": {
        "colab": {
          "base_uri": "https://localhost:8080/"
        },
        "id": "e2B0gb3-31wg",
        "outputId": "3bcaa02b-d8b3-4412-91d5-d69449886847"
      },
      "execution_count": 497,
      "outputs": [
        {
          "output_type": "stream",
          "name": "stdout",
          "text": [
            "<class 'pandas.core.frame.DataFrame'>\n",
            "Int64Index: 712 entries, 132 to 57\n",
            "Data columns (total 4 columns):\n",
            " #   Column    Non-Null Count  Dtype  \n",
            "---  ------    --------------  -----  \n",
            " 0   Pclass    712 non-null    int64  \n",
            " 1   Sex       712 non-null    uint8  \n",
            " 2   Age       712 non-null    float64\n",
            " 3   Embarked  712 non-null    int64  \n",
            "dtypes: float64(1), int64(2), uint8(1)\n",
            "memory usage: 22.9 KB\n",
            "None\n",
            "<class 'pandas.core.frame.DataFrame'>\n",
            "Int64Index: 179 entries, 669 to 599\n",
            "Data columns (total 4 columns):\n",
            " #   Column    Non-Null Count  Dtype  \n",
            "---  ------    --------------  -----  \n",
            " 0   Pclass    179 non-null    int64  \n",
            " 1   Sex       179 non-null    uint8  \n",
            " 2   Age       179 non-null    float64\n",
            " 3   Embarked  179 non-null    int64  \n",
            "dtypes: float64(1), int64(2), uint8(1)\n",
            "memory usage: 5.8 KB\n",
            "None\n"
          ]
        }
      ]
    },
    {
      "cell_type": "code",
      "source": [
        "print(X_train_temp['Age'].head())\n",
        "print(X_test_temp['Age'].head())"
      ],
      "metadata": {
        "colab": {
          "base_uri": "https://localhost:8080/"
        },
        "id": "IqjK7wpv7Xkx",
        "outputId": "23552782-4749-45c1-a11e-602a1036a238"
      },
      "execution_count": 498,
      "outputs": [
        {
          "output_type": "stream",
          "name": "stdout",
          "text": [
            "132    47.00\n",
            "464    32.37\n",
            "586    47.00\n",
            "841    16.00\n",
            "295    32.37\n",
            "Name: Age, dtype: float64\n",
            "669    35.90\n",
            "159     4.57\n",
            "692    32.37\n",
            "269    35.00\n",
            "560    32.37\n",
            "Name: Age, dtype: float64\n"
          ]
        }
      ]
    },
    {
      "cell_type": "code",
      "source": [
        "# 전체적인 나이의 범위를 확인 하기 위해 나이의 null을 없앤 데이터 프레임을 불러옴\n",
        "# 나이를 범주형으로 바꾸기 조금 더 쉽게 하기위하여 소수점을 버림\n",
        "\n",
        "import math\n",
        "\n",
        "titanic_tempage = titanic_temp.copy()\n",
        "titanic_tempage['Age'] = titanic_tempage['Age'].apply(math.floor)\n",
        "titanic_tempage['Age'].head()"
      ],
      "metadata": {
        "colab": {
          "base_uri": "https://localhost:8080/"
        },
        "id": "gHv5I8UG9YlC",
        "outputId": "81d4fd4a-6250-410e-cf8e-db7c2735c4ed"
      },
      "execution_count": 499,
      "outputs": [
        {
          "output_type": "execute_result",
          "data": {
            "text/plain": [
              "0    22\n",
              "1    38\n",
              "2    26\n",
              "3    35\n",
              "4    35\n",
              "Name: Age, dtype: int64"
            ]
          },
          "metadata": {},
          "execution_count": 499
        }
      ]
    },
    {
      "cell_type": "code",
      "source": [
        "titanic_tempage['AgeBand'] = pd.cut(titanic_tempage['Age'], 5)\n",
        "titanic_tempage['AgeBand'].unique()\n",
        "\n",
        "# 이를 이용해 범위별 카테고리를 지정 가능\n",
        "#   ~16 = 0\n",
        "# 17~32 = 1\n",
        "# 33~48 = 2\n",
        "# 49~64 = 3\n",
        "# 64~   = 4"
      ],
      "metadata": {
        "colab": {
          "base_uri": "https://localhost:8080/"
        },
        "id": "-WY39ZLrB46t",
        "outputId": "b3a40547-b45b-4f7d-8c32-f3c028684f10"
      },
      "execution_count": 500,
      "outputs": [
        {
          "output_type": "execute_result",
          "data": {
            "text/plain": [
              "[(16.0, 32.0], (32.0, 48.0], (48.0, 64.0], (-0.08, 16.0], (64.0, 80.0]]\n",
              "Categories (5, interval[float64, right]): [(-0.08, 16.0] < (16.0, 32.0] < (32.0, 48.0] <\n",
              "                                           (48.0, 64.0] < (64.0, 80.0]]"
            ]
          },
          "metadata": {},
          "execution_count": 500
        }
      ]
    },
    {
      "cell_type": "code",
      "source": [
        "X_train_temp.loc[ X_train_temp['Age'] <= 16, 'Age'] = 0\n",
        "X_train_temp.loc[(X_train_temp['Age'] > 16) & (X_train_temp['Age'] <= 32), 'Age'] = 1\n",
        "X_train_temp.loc[(X_train_temp['Age'] > 32) & (X_train_temp['Age'] <= 48), 'Age'] = 2\n",
        "X_train_temp.loc[(X_train_temp['Age'] > 48) & (X_train_temp['Age'] <= 64), 'Age'] = 3\n",
        "X_train_temp.loc[ X_train_temp['Age'] > 64, 'Age'] = 4"
      ],
      "metadata": {
        "id": "oisbjZHNKpkD"
      },
      "execution_count": 501,
      "outputs": []
    },
    {
      "cell_type": "code",
      "source": [
        "X_train_temp = X_train_temp.astype({'Age':'int'})\n",
        "X_train_temp.info()"
      ],
      "metadata": {
        "colab": {
          "base_uri": "https://localhost:8080/"
        },
        "id": "wlzHmfnZQBSe",
        "outputId": "547aa824-cece-4a2d-a1ff-22cd13af2adc"
      },
      "execution_count": 502,
      "outputs": [
        {
          "output_type": "stream",
          "name": "stdout",
          "text": [
            "<class 'pandas.core.frame.DataFrame'>\n",
            "Int64Index: 712 entries, 132 to 57\n",
            "Data columns (total 4 columns):\n",
            " #   Column    Non-Null Count  Dtype\n",
            "---  ------    --------------  -----\n",
            " 0   Pclass    712 non-null    int64\n",
            " 1   Sex       712 non-null    uint8\n",
            " 2   Age       712 non-null    int64\n",
            " 3   Embarked  712 non-null    int64\n",
            "dtypes: int64(3), uint8(1)\n",
            "memory usage: 22.9 KB\n"
          ]
        }
      ]
    },
    {
      "cell_type": "code",
      "source": [
        "# 테스트 세트도 동일하게 바꿔줌\n",
        "X_test_temp.loc[ X_test_temp['Age'] <= 16, 'Age'] = 0\n",
        "X_test_temp.loc[(X_test_temp['Age'] > 16) & (X_test_temp['Age'] <= 32), 'Age'] = 1\n",
        "X_test_temp.loc[(X_test_temp['Age'] > 32) & (X_test_temp['Age'] <= 48), 'Age'] = 2\n",
        "X_test_temp.loc[(X_test_temp['Age'] > 48) & (X_test_temp['Age'] <= 64), 'Age'] = 3\n",
        "X_test_temp.loc[ X_test_temp['Age'] > 64, 'Age'] = 4"
      ],
      "metadata": {
        "id": "dqbcs-QZO-Mi"
      },
      "execution_count": 503,
      "outputs": []
    },
    {
      "cell_type": "code",
      "source": [
        "X_test_temp = X_test_temp.astype({'Age':'int'})\n",
        "X_test_temp.info()"
      ],
      "metadata": {
        "colab": {
          "base_uri": "https://localhost:8080/"
        },
        "id": "QTG-I6rkQTt6",
        "outputId": "f3e4d995-faaa-4636-c2bf-9cd2c3763d3b"
      },
      "execution_count": 504,
      "outputs": [
        {
          "output_type": "stream",
          "name": "stdout",
          "text": [
            "<class 'pandas.core.frame.DataFrame'>\n",
            "Int64Index: 179 entries, 669 to 599\n",
            "Data columns (total 4 columns):\n",
            " #   Column    Non-Null Count  Dtype\n",
            "---  ------    --------------  -----\n",
            " 0   Pclass    179 non-null    int64\n",
            " 1   Sex       179 non-null    uint8\n",
            " 2   Age       179 non-null    int64\n",
            " 3   Embarked  179 non-null    int64\n",
            "dtypes: int64(3), uint8(1)\n",
            "memory usage: 5.8 KB\n"
          ]
        }
      ]
    },
    {
      "cell_type": "code",
      "source": [
        "X_train_1 = X_train_temp.copy()\n",
        "X_test_1 = X_test_temp.copy()"
      ],
      "metadata": {
        "id": "wL9DVNhQQ9dN"
      },
      "execution_count": 505,
      "outputs": []
    },
    {
      "cell_type": "markdown",
      "source": [
        "# 모델 훈련#2"
      ],
      "metadata": {
        "id": "i1oPTLinSuwo"
      }
    },
    {
      "cell_type": "code",
      "source": [
        "# 모델들의 대략적인 점수 출력\n",
        "clf3 = SVC(kernel = 'linear')\n",
        "\n",
        "classifiers = [DecisionTreeClassifier(),\n",
        "               RandomForestClassifier(),\n",
        "               GaussianNB(),\n",
        "               KNeighborsClassifier(),\n",
        "               SVC(kernel = 'linear'),\n",
        "               SVC(kernel = 'rbf'),\n",
        "               AdaBoostClassifier(),\n",
        "               QuadraticDiscriminantAnalysis(),\n",
        "               VotingClassifier(estimators = [('1', AdaBoostClassifier()),\n",
        "                                              ('2', RandomForestClassifier()),\n",
        "                                              ('3', SVC(kernel = 'linear'))]),\n",
        "               BaggingClassifier(base_estimator=clf3, n_estimators= 10, random_state = 0)]\n",
        "\n",
        "\n",
        "classifier_names = ['D_tree',\n",
        "                    'RF',\n",
        "                    'GNB',\n",
        "                    'KNN',\n",
        "                    'Ada',\n",
        "                    'QDA',\n",
        "                    'SVM_l',\n",
        "                    'SVM_k',\n",
        "                    'Voting',\n",
        "                    'Bagging'\n",
        "                    ]\n",
        "\n",
        "modelaccuracies = []\n",
        "modelmeans = []\n",
        "modelnames = []\n",
        "\n",
        "classifier_data = zip(classifier_names, classifiers)\n",
        "\n",
        "for classifier_name, classifier in classifier_data:\n",
        "  skf = StratifiedKFold(n_splits = 10, shuffle = True)\n",
        "  accuracies = cross_val_score(classifier, X=X_train_1, y=y_train, cv=skf)\n",
        "  print(\"Mean accuracy of\", classifier_name, \":{:.2f} %\".format(accuracies.mean()*100))\n",
        "\n",
        "# 나이 전처리 전 데이터\n",
        "# Mean accuracy of D_tree :80.06 %\n",
        "# Mean accuracy of RF :80.76 %\n",
        "# Mean accuracy of GNB :77.96 %\n",
        "# Mean accuracy of KNN :75.02 %\n",
        "# Mean accuracy of Ada :78.80 %\n",
        "# Mean accuracy of QDA :62.08 %\n",
        "# Mean accuracy of SVM_l :77.81 %\n",
        "# Mean accuracy of SVM_k :78.94 %\n",
        "# Mean accuracy of Voting :80.05 %\n",
        "\n",
        "# 조금씩의 차이가 있지만 현저하게 낮은 QDA의 확률이 개선되었음"
      ],
      "metadata": {
        "colab": {
          "base_uri": "https://localhost:8080/"
        },
        "id": "hR1kMvwURIaj",
        "outputId": "050251e9-5dab-4b1f-b047-be623eddcd53"
      },
      "execution_count": 481,
      "outputs": [
        {
          "output_type": "stream",
          "name": "stdout",
          "text": [
            "Mean accuracy of D_tree :80.06 %\n",
            "Mean accuracy of RF :80.19 %\n",
            "Mean accuracy of GNB :77.95 %\n",
            "Mean accuracy of KNN :78.38 %\n",
            "Mean accuracy of Ada :78.81 %\n",
            "Mean accuracy of QDA :78.64 %\n",
            "Mean accuracy of SVM_l :78.22 %\n",
            "Mean accuracy of SVM_k :78.37 %\n",
            "Mean accuracy of Voting :77.94 %\n",
            "Mean accuracy of Bagging :78.79 %\n"
          ]
        }
      ]
    },
    {
      "cell_type": "markdown",
      "source": [
        "## 배깅"
      ],
      "metadata": {
        "id": "DTKw3blBVXPw"
      }
    },
    {
      "cell_type": "code",
      "source": [
        "# 데이터 세트를 여러개로 분리해 분류를 실행\n",
        "# 모델을 훈련하고 스코어 출력\n",
        "\n",
        "# 베이스 모델을 서포트 벡터머신 rbf로 지정\n",
        "bg = BaggingClassifier(base_estimator=SVC(kernel='rbf'), n_estimators=1000)\n",
        "bg.fit(X_train_1, y_train)\n",
        "print(bg.score(X_train_1, y_train))\n",
        "print(bg.score(X_test_1, y_test))\n",
        "\n",
        "# 전처리 이전의 점수와 비교\n",
        "# 0.6320224719101124\n",
        "# 0.6312849162011173\n",
        "\n",
        "# 과대적합"
      ],
      "metadata": {
        "colab": {
          "base_uri": "https://localhost:8080/"
        },
        "id": "xbbRtKMdR3hS",
        "outputId": "63a95b21-3d6b-4374-ac7c-5053093d9ed2"
      },
      "execution_count": 506,
      "outputs": [
        {
          "output_type": "stream",
          "name": "stdout",
          "text": [
            "0.824438202247191\n",
            "0.776536312849162\n"
          ]
        }
      ]
    },
    {
      "cell_type": "code",
      "source": [
        "# 베이스 모델을 에이다부스트로 지정\n",
        "bg = BaggingClassifier(base_estimator=AdaBoostClassifier(), n_estimators=1000)\n",
        "bg.fit(X_train_1, y_train)\n",
        "print(bg.score(X_train_1, y_train))\n",
        "print(bg.score(X_test_1, y_test))\n",
        "\n",
        "# 전처리 이전의 점수와 비교\n",
        "# 0.8132022471910112\n",
        "# 0.8100558659217877\n",
        "\n",
        "# 점수가 오히려 떨어짐"
      ],
      "metadata": {
        "colab": {
          "base_uri": "https://localhost:8080/"
        },
        "id": "GV5BL5CWVypy",
        "outputId": "b78dea51-9fa7-43b9-b2f6-9128563eb14d"
      },
      "execution_count": 509,
      "outputs": [
        {
          "output_type": "stream",
          "name": "stdout",
          "text": [
            "0.7935393258426966\n",
            "0.7877094972067039\n"
          ]
        }
      ]
    },
    {
      "cell_type": "code",
      "source": [
        "# 베이스 모델을 랜덤포레스트로 지정\n",
        "bg = BaggingClassifier(base_estimator=RandomForestClassifier(), n_estimators=1000)\n",
        "bg.fit(X_train_1, y_train)\n",
        "print(bg.score(X_train_1, y_train))\n",
        "print(bg.score(X_test_1, y_test))\n",
        "\n",
        "# 전처리 이전의 점수와 비교\n",
        "# 0.8946629213483146\n",
        "# 0.8044692737430168"
      ],
      "metadata": {
        "colab": {
          "base_uri": "https://localhost:8080/"
        },
        "id": "3HJRnavFV2bb",
        "outputId": "02eaf9c1-e3aa-4700-81c0-a7fcd2240346"
      },
      "execution_count": 507,
      "outputs": [
        {
          "output_type": "stream",
          "name": "stdout",
          "text": [
            "0.8328651685393258\n",
            "0.7821229050279329\n"
          ]
        }
      ]
    },
    {
      "cell_type": "code",
      "source": [
        "# 의문점\n",
        "# 세트를 나눌때마다 스코어가 매우 다르게 나오는 이유는 특성의 수인가? \n",
        "# \n",
        "# 오히려 점수가 떨어지는 경우가있는데 왜그런지 궁금하다."
      ],
      "metadata": {
        "id": "TbDgCbcwd1lH"
      },
      "execution_count": null,
      "outputs": []
    },
    {
      "cell_type": "markdown",
      "source": [
        "# 캐글에 제출하기"
      ],
      "metadata": {
        "id": "Rwzdqnpqfpl0"
      }
    },
    {
      "cell_type": "markdown",
      "source": [
        "## 나이 전처리 전"
      ],
      "metadata": {
        "id": "PeCyUeZYlqU6"
      }
    },
    {
      "cell_type": "code",
      "source": [
        "# 나이 전처리를 하기전의 데이터를 이용해\n",
        "# 스코어가 가장 좋았던 XGBoost모델을 학습\n",
        "\n",
        "xgb.fit(train_input, train_target)\n",
        "print(xgb.score(train_input, train_target))\n",
        "\n",
        "test_target = xgb.predict(test_input)"
      ],
      "metadata": {
        "colab": {
          "base_uri": "https://localhost:8080/"
        },
        "id": "ydIGHwgwgtV-",
        "outputId": "d6bbacbe-20c3-4f7a-e650-f0b2fddc8d86"
      },
      "execution_count": 523,
      "outputs": [
        {
          "output_type": "stream",
          "name": "stdout",
          "text": [
            "0.856341189674523\n"
          ]
        }
      ]
    },
    {
      "cell_type": "code",
      "source": [
        "answer = pd.read_csv('/content/gender_submission.csv')"
      ],
      "metadata": {
        "id": "hwdsMlDghmWn"
      },
      "execution_count": 531,
      "outputs": []
    },
    {
      "cell_type": "code",
      "source": [
        "# answer.drop(columns='Survived')\n",
        "answer['Survived'] = test_target\n",
        "answer['Survived']"
      ],
      "metadata": {
        "colab": {
          "base_uri": "https://localhost:8080/"
        },
        "id": "0Yr8GCQdhvB-",
        "outputId": "30c8b7eb-5ad4-46aa-a3f3-25ed633c4848"
      },
      "execution_count": 534,
      "outputs": [
        {
          "output_type": "execute_result",
          "data": {
            "text/plain": [
              "0      0\n",
              "1      0\n",
              "2      0\n",
              "3      0\n",
              "4      0\n",
              "      ..\n",
              "413    0\n",
              "414    1\n",
              "415    0\n",
              "416    0\n",
              "417    0\n",
              "Name: Survived, Length: 418, dtype: int64"
            ]
          },
          "metadata": {},
          "execution_count": 534
        }
      ]
    },
    {
      "cell_type": "code",
      "source": [
        "# 예측한 수치를 csv파일로 저장\n",
        "answer.to_csv(\"prediction.csv\", index = False)\n",
        "\n",
        "# Score: 0.77033"
      ],
      "metadata": {
        "id": "HD1CXv3rijUn"
      },
      "execution_count": 536,
      "outputs": []
    },
    {
      "cell_type": "markdown",
      "source": [
        "## 나이 전처리 후"
      ],
      "metadata": {
        "id": "IYuAbyXJlu6r"
      }
    },
    {
      "cell_type": "code",
      "source": [
        "# 나이를 전처리 후 다시 업로드\n",
        "train_input_1 = train_input.copy()\n",
        "test_input_1 = test_input.copy()"
      ],
      "metadata": {
        "id": "OZmAb24Vjzp-"
      },
      "execution_count": 541,
      "outputs": []
    },
    {
      "cell_type": "code",
      "source": [
        "# 훈련 세트\n",
        "train_input_1.loc[ train_input_1['Age'] <= 16, 'Age'] = 0\n",
        "train_input_1.loc[(train_input_1['Age'] > 16) & (train_input_1['Age'] <= 32), 'Age'] = 1\n",
        "train_input_1.loc[(train_input_1['Age'] > 32) & (train_input_1['Age'] <= 48), 'Age'] = 2\n",
        "train_input_1.loc[(train_input_1['Age'] > 48) & (train_input_1['Age'] <= 64), 'Age'] = 3\n",
        "train_input_1.loc[ train_input_1['Age'] > 64, 'Age'] = 4"
      ],
      "metadata": {
        "id": "TR3EZt2rkOJ_"
      },
      "execution_count": 542,
      "outputs": []
    },
    {
      "cell_type": "code",
      "source": [
        "train_input_1 = train_input_1.astype({'Age':'int'})\n",
        "train_input_1.info()"
      ],
      "metadata": {
        "colab": {
          "base_uri": "https://localhost:8080/"
        },
        "id": "LlNnmI4mkcNH",
        "outputId": "d9db0cf5-8c06-4da3-edba-aa7dff0b9cb9"
      },
      "execution_count": 543,
      "outputs": [
        {
          "output_type": "stream",
          "name": "stdout",
          "text": [
            "<class 'pandas.core.frame.DataFrame'>\n",
            "RangeIndex: 891 entries, 0 to 890\n",
            "Data columns (total 4 columns):\n",
            " #   Column    Non-Null Count  Dtype\n",
            "---  ------    --------------  -----\n",
            " 0   Pclass    891 non-null    int64\n",
            " 1   Sex       891 non-null    uint8\n",
            " 2   Age       891 non-null    int64\n",
            " 3   Embarked  891 non-null    int64\n",
            "dtypes: int64(3), uint8(1)\n",
            "memory usage: 21.9 KB\n"
          ]
        }
      ]
    },
    {
      "cell_type": "code",
      "source": [
        "train_input_1['Age'].unique()"
      ],
      "metadata": {
        "colab": {
          "base_uri": "https://localhost:8080/"
        },
        "id": "_D_AwAVRlBx8",
        "outputId": "c1c47ea7-994c-4faa-d6b2-6c5ccd46c93b"
      },
      "execution_count": 547,
      "outputs": [
        {
          "output_type": "execute_result",
          "data": {
            "text/plain": [
              "array([1, 2, 3, 0, 4])"
            ]
          },
          "metadata": {},
          "execution_count": 547
        }
      ]
    },
    {
      "cell_type": "code",
      "source": [
        "# 테스트 세트\n",
        "test_input_1.loc[ test_input_1['Age'] <= 16, 'Age'] = 0\n",
        "test_input_1.loc[(test_input_1['Age'] > 16) & (test_input_1['Age'] <= 32), 'Age'] = 1\n",
        "test_input_1.loc[(test_input_1['Age'] > 32) & (test_input_1['Age'] <= 48), 'Age'] = 2\n",
        "test_input_1.loc[(test_input_1['Age'] > 48) & (test_input_1['Age'] <= 64), 'Age'] = 3\n",
        "test_input_1.loc[ test_input_1['Age'] > 64, 'Age'] = 4"
      ],
      "metadata": {
        "id": "kJtkDPvWkmRe"
      },
      "execution_count": 544,
      "outputs": []
    },
    {
      "cell_type": "code",
      "source": [
        "test_input_1 = test_input_1.astype({'Age':'int'})\n",
        "test_input_1.info()"
      ],
      "metadata": {
        "colab": {
          "base_uri": "https://localhost:8080/"
        },
        "id": "rTckvAVqk4iU",
        "outputId": "521aa113-accf-479b-fc36-81ed3e7b58b7"
      },
      "execution_count": 545,
      "outputs": [
        {
          "output_type": "stream",
          "name": "stdout",
          "text": [
            "<class 'pandas.core.frame.DataFrame'>\n",
            "RangeIndex: 418 entries, 0 to 417\n",
            "Data columns (total 4 columns):\n",
            " #   Column    Non-Null Count  Dtype\n",
            "---  ------    --------------  -----\n",
            " 0   Pclass    418 non-null    int64\n",
            " 1   Sex       418 non-null    uint8\n",
            " 2   Age       418 non-null    int64\n",
            " 3   Embarked  418 non-null    int64\n",
            "dtypes: int64(3), uint8(1)\n",
            "memory usage: 10.3 KB\n"
          ]
        }
      ]
    },
    {
      "cell_type": "code",
      "source": [
        "test_input_1['Age'].unique()"
      ],
      "metadata": {
        "colab": {
          "base_uri": "https://localhost:8080/"
        },
        "id": "uq0PBCQzlAic",
        "outputId": "1af1a4dc-1753-47ac-96b2-17f9012827bf"
      },
      "execution_count": 548,
      "outputs": [
        {
          "output_type": "execute_result",
          "data": {
            "text/plain": [
              "array([2, 3, 1, 0, 4])"
            ]
          },
          "metadata": {},
          "execution_count": 548
        }
      ]
    },
    {
      "cell_type": "code",
      "source": [
        "# 전처리를 하고난 후의 데이터를 이용해\n",
        "# 똑같이 XGBoost모델을 학습\n",
        "\n",
        "xgb.fit(train_input_1, train_target)\n",
        "print(xgb.score(train_input_1, train_target))\n",
        "\n",
        "test_target = xgb.predict(test_input_1)"
      ],
      "metadata": {
        "colab": {
          "base_uri": "https://localhost:8080/"
        },
        "id": "KFPsegNRlVNE",
        "outputId": "8dbf6bbe-0c25-4321-c95d-9ec45bc3a65f"
      },
      "execution_count": 549,
      "outputs": [
        {
          "output_type": "stream",
          "name": "stdout",
          "text": [
            "0.8249158249158249\n"
          ]
        }
      ]
    },
    {
      "cell_type": "code",
      "source": [
        "answer = pd.read_csv('/content/gender_submission.csv')"
      ],
      "metadata": {
        "id": "_P3j8rdJlkMV"
      },
      "execution_count": 550,
      "outputs": []
    },
    {
      "cell_type": "code",
      "source": [
        "# answer.drop(columns='Survived')\n",
        "answer['Survived'] = test_target\n",
        "answer['Survived']"
      ],
      "metadata": {
        "colab": {
          "base_uri": "https://localhost:8080/"
        },
        "id": "Zb4PnQYilzdU",
        "outputId": "1644c13d-61fd-4b6a-cfa0-626bd1a2ad58"
      },
      "execution_count": 551,
      "outputs": [
        {
          "output_type": "execute_result",
          "data": {
            "text/plain": [
              "0      0\n",
              "1      0\n",
              "2      0\n",
              "3      0\n",
              "4      0\n",
              "      ..\n",
              "413    0\n",
              "414    1\n",
              "415    0\n",
              "416    0\n",
              "417    1\n",
              "Name: Survived, Length: 418, dtype: int64"
            ]
          },
          "metadata": {},
          "execution_count": 551
        }
      ]
    },
    {
      "cell_type": "code",
      "source": [
        "# 예측한 수치를 csv파일로 저장\n",
        "answer.to_csv(\"prediction1.csv\", index = False)\n",
        "\n",
        "# Score: 0.78468"
      ],
      "metadata": {
        "id": "euVxhNSFl1ws"
      },
      "execution_count": 552,
      "outputs": []
    }
  ]
}