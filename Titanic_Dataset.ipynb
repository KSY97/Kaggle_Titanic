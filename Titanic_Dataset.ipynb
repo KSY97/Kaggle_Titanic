{
  "nbformat": 4,
  "nbformat_minor": 0,
  "metadata": {
    "colab": {
      "name": "Titanic Dataset.ipynb",
      "provenance": [],
      "collapsed_sections": []
    },
    "kernelspec": {
      "name": "python3",
      "display_name": "Python 3"
    },
    "language_info": {
      "name": "python"
    }
  },
  "cells": [
    {
      "cell_type": "code",
      "execution_count": 1,
      "metadata": {
        "colab": {
          "base_uri": "https://localhost:8080/",
          "height": 424
        },
        "id": "FINTTkmmNH5X",
        "outputId": "308964d9-c8dc-40ad-bce2-c4bc6e51bc3a"
      },
      "outputs": [
        {
          "output_type": "execute_result",
          "data": {
            "text/plain": [
              "     PassengerId  Survived  Pclass  \\\n",
              "0              1         0       3   \n",
              "1              2         1       1   \n",
              "2              3         1       3   \n",
              "3              4         1       1   \n",
              "4              5         0       3   \n",
              "..           ...       ...     ...   \n",
              "886          887         0       2   \n",
              "887          888         1       1   \n",
              "888          889         0       3   \n",
              "889          890         1       1   \n",
              "890          891         0       3   \n",
              "\n",
              "                                                  Name     Sex   Age  SibSp  \\\n",
              "0                              Braund, Mr. Owen Harris    male  22.0      1   \n",
              "1    Cumings, Mrs. John Bradley (Florence Briggs Th...  female  38.0      1   \n",
              "2                               Heikkinen, Miss. Laina  female  26.0      0   \n",
              "3         Futrelle, Mrs. Jacques Heath (Lily May Peel)  female  35.0      1   \n",
              "4                             Allen, Mr. William Henry    male  35.0      0   \n",
              "..                                                 ...     ...   ...    ...   \n",
              "886                              Montvila, Rev. Juozas    male  27.0      0   \n",
              "887                       Graham, Miss. Margaret Edith  female  19.0      0   \n",
              "888           Johnston, Miss. Catherine Helen \"Carrie\"  female   NaN      1   \n",
              "889                              Behr, Mr. Karl Howell    male  26.0      0   \n",
              "890                                Dooley, Mr. Patrick    male  32.0      0   \n",
              "\n",
              "     Parch            Ticket     Fare Cabin Embarked  \n",
              "0        0         A/5 21171   7.2500   NaN        S  \n",
              "1        0          PC 17599  71.2833   C85        C  \n",
              "2        0  STON/O2. 3101282   7.9250   NaN        S  \n",
              "3        0            113803  53.1000  C123        S  \n",
              "4        0            373450   8.0500   NaN        S  \n",
              "..     ...               ...      ...   ...      ...  \n",
              "886      0            211536  13.0000   NaN        S  \n",
              "887      0            112053  30.0000   B42        S  \n",
              "888      2        W./C. 6607  23.4500   NaN        S  \n",
              "889      0            111369  30.0000  C148        C  \n",
              "890      0            370376   7.7500   NaN        Q  \n",
              "\n",
              "[891 rows x 12 columns]"
            ],
            "text/html": [
              "\n",
              "  <div id=\"df-ec335692-17b5-4373-89a7-a1df4cdd4391\">\n",
              "    <div class=\"colab-df-container\">\n",
              "      <div>\n",
              "<style scoped>\n",
              "    .dataframe tbody tr th:only-of-type {\n",
              "        vertical-align: middle;\n",
              "    }\n",
              "\n",
              "    .dataframe tbody tr th {\n",
              "        vertical-align: top;\n",
              "    }\n",
              "\n",
              "    .dataframe thead th {\n",
              "        text-align: right;\n",
              "    }\n",
              "</style>\n",
              "<table border=\"1\" class=\"dataframe\">\n",
              "  <thead>\n",
              "    <tr style=\"text-align: right;\">\n",
              "      <th></th>\n",
              "      <th>PassengerId</th>\n",
              "      <th>Survived</th>\n",
              "      <th>Pclass</th>\n",
              "      <th>Name</th>\n",
              "      <th>Sex</th>\n",
              "      <th>Age</th>\n",
              "      <th>SibSp</th>\n",
              "      <th>Parch</th>\n",
              "      <th>Ticket</th>\n",
              "      <th>Fare</th>\n",
              "      <th>Cabin</th>\n",
              "      <th>Embarked</th>\n",
              "    </tr>\n",
              "  </thead>\n",
              "  <tbody>\n",
              "    <tr>\n",
              "      <th>0</th>\n",
              "      <td>1</td>\n",
              "      <td>0</td>\n",
              "      <td>3</td>\n",
              "      <td>Braund, Mr. Owen Harris</td>\n",
              "      <td>male</td>\n",
              "      <td>22.0</td>\n",
              "      <td>1</td>\n",
              "      <td>0</td>\n",
              "      <td>A/5 21171</td>\n",
              "      <td>7.2500</td>\n",
              "      <td>NaN</td>\n",
              "      <td>S</td>\n",
              "    </tr>\n",
              "    <tr>\n",
              "      <th>1</th>\n",
              "      <td>2</td>\n",
              "      <td>1</td>\n",
              "      <td>1</td>\n",
              "      <td>Cumings, Mrs. John Bradley (Florence Briggs Th...</td>\n",
              "      <td>female</td>\n",
              "      <td>38.0</td>\n",
              "      <td>1</td>\n",
              "      <td>0</td>\n",
              "      <td>PC 17599</td>\n",
              "      <td>71.2833</td>\n",
              "      <td>C85</td>\n",
              "      <td>C</td>\n",
              "    </tr>\n",
              "    <tr>\n",
              "      <th>2</th>\n",
              "      <td>3</td>\n",
              "      <td>1</td>\n",
              "      <td>3</td>\n",
              "      <td>Heikkinen, Miss. Laina</td>\n",
              "      <td>female</td>\n",
              "      <td>26.0</td>\n",
              "      <td>0</td>\n",
              "      <td>0</td>\n",
              "      <td>STON/O2. 3101282</td>\n",
              "      <td>7.9250</td>\n",
              "      <td>NaN</td>\n",
              "      <td>S</td>\n",
              "    </tr>\n",
              "    <tr>\n",
              "      <th>3</th>\n",
              "      <td>4</td>\n",
              "      <td>1</td>\n",
              "      <td>1</td>\n",
              "      <td>Futrelle, Mrs. Jacques Heath (Lily May Peel)</td>\n",
              "      <td>female</td>\n",
              "      <td>35.0</td>\n",
              "      <td>1</td>\n",
              "      <td>0</td>\n",
              "      <td>113803</td>\n",
              "      <td>53.1000</td>\n",
              "      <td>C123</td>\n",
              "      <td>S</td>\n",
              "    </tr>\n",
              "    <tr>\n",
              "      <th>4</th>\n",
              "      <td>5</td>\n",
              "      <td>0</td>\n",
              "      <td>3</td>\n",
              "      <td>Allen, Mr. William Henry</td>\n",
              "      <td>male</td>\n",
              "      <td>35.0</td>\n",
              "      <td>0</td>\n",
              "      <td>0</td>\n",
              "      <td>373450</td>\n",
              "      <td>8.0500</td>\n",
              "      <td>NaN</td>\n",
              "      <td>S</td>\n",
              "    </tr>\n",
              "    <tr>\n",
              "      <th>...</th>\n",
              "      <td>...</td>\n",
              "      <td>...</td>\n",
              "      <td>...</td>\n",
              "      <td>...</td>\n",
              "      <td>...</td>\n",
              "      <td>...</td>\n",
              "      <td>...</td>\n",
              "      <td>...</td>\n",
              "      <td>...</td>\n",
              "      <td>...</td>\n",
              "      <td>...</td>\n",
              "      <td>...</td>\n",
              "    </tr>\n",
              "    <tr>\n",
              "      <th>886</th>\n",
              "      <td>887</td>\n",
              "      <td>0</td>\n",
              "      <td>2</td>\n",
              "      <td>Montvila, Rev. Juozas</td>\n",
              "      <td>male</td>\n",
              "      <td>27.0</td>\n",
              "      <td>0</td>\n",
              "      <td>0</td>\n",
              "      <td>211536</td>\n",
              "      <td>13.0000</td>\n",
              "      <td>NaN</td>\n",
              "      <td>S</td>\n",
              "    </tr>\n",
              "    <tr>\n",
              "      <th>887</th>\n",
              "      <td>888</td>\n",
              "      <td>1</td>\n",
              "      <td>1</td>\n",
              "      <td>Graham, Miss. Margaret Edith</td>\n",
              "      <td>female</td>\n",
              "      <td>19.0</td>\n",
              "      <td>0</td>\n",
              "      <td>0</td>\n",
              "      <td>112053</td>\n",
              "      <td>30.0000</td>\n",
              "      <td>B42</td>\n",
              "      <td>S</td>\n",
              "    </tr>\n",
              "    <tr>\n",
              "      <th>888</th>\n",
              "      <td>889</td>\n",
              "      <td>0</td>\n",
              "      <td>3</td>\n",
              "      <td>Johnston, Miss. Catherine Helen \"Carrie\"</td>\n",
              "      <td>female</td>\n",
              "      <td>NaN</td>\n",
              "      <td>1</td>\n",
              "      <td>2</td>\n",
              "      <td>W./C. 6607</td>\n",
              "      <td>23.4500</td>\n",
              "      <td>NaN</td>\n",
              "      <td>S</td>\n",
              "    </tr>\n",
              "    <tr>\n",
              "      <th>889</th>\n",
              "      <td>890</td>\n",
              "      <td>1</td>\n",
              "      <td>1</td>\n",
              "      <td>Behr, Mr. Karl Howell</td>\n",
              "      <td>male</td>\n",
              "      <td>26.0</td>\n",
              "      <td>0</td>\n",
              "      <td>0</td>\n",
              "      <td>111369</td>\n",
              "      <td>30.0000</td>\n",
              "      <td>C148</td>\n",
              "      <td>C</td>\n",
              "    </tr>\n",
              "    <tr>\n",
              "      <th>890</th>\n",
              "      <td>891</td>\n",
              "      <td>0</td>\n",
              "      <td>3</td>\n",
              "      <td>Dooley, Mr. Patrick</td>\n",
              "      <td>male</td>\n",
              "      <td>32.0</td>\n",
              "      <td>0</td>\n",
              "      <td>0</td>\n",
              "      <td>370376</td>\n",
              "      <td>7.7500</td>\n",
              "      <td>NaN</td>\n",
              "      <td>Q</td>\n",
              "    </tr>\n",
              "  </tbody>\n",
              "</table>\n",
              "<p>891 rows × 12 columns</p>\n",
              "</div>\n",
              "      <button class=\"colab-df-convert\" onclick=\"convertToInteractive('df-ec335692-17b5-4373-89a7-a1df4cdd4391')\"\n",
              "              title=\"Convert this dataframe to an interactive table.\"\n",
              "              style=\"display:none;\">\n",
              "        \n",
              "  <svg xmlns=\"http://www.w3.org/2000/svg\" height=\"24px\"viewBox=\"0 0 24 24\"\n",
              "       width=\"24px\">\n",
              "    <path d=\"M0 0h24v24H0V0z\" fill=\"none\"/>\n",
              "    <path d=\"M18.56 5.44l.94 2.06.94-2.06 2.06-.94-2.06-.94-.94-2.06-.94 2.06-2.06.94zm-11 1L8.5 8.5l.94-2.06 2.06-.94-2.06-.94L8.5 2.5l-.94 2.06-2.06.94zm10 10l.94 2.06.94-2.06 2.06-.94-2.06-.94-.94-2.06-.94 2.06-2.06.94z\"/><path d=\"M17.41 7.96l-1.37-1.37c-.4-.4-.92-.59-1.43-.59-.52 0-1.04.2-1.43.59L10.3 9.45l-7.72 7.72c-.78.78-.78 2.05 0 2.83L4 21.41c.39.39.9.59 1.41.59.51 0 1.02-.2 1.41-.59l7.78-7.78 2.81-2.81c.8-.78.8-2.07 0-2.86zM5.41 20L4 18.59l7.72-7.72 1.47 1.35L5.41 20z\"/>\n",
              "  </svg>\n",
              "      </button>\n",
              "      \n",
              "  <style>\n",
              "    .colab-df-container {\n",
              "      display:flex;\n",
              "      flex-wrap:wrap;\n",
              "      gap: 12px;\n",
              "    }\n",
              "\n",
              "    .colab-df-convert {\n",
              "      background-color: #E8F0FE;\n",
              "      border: none;\n",
              "      border-radius: 50%;\n",
              "      cursor: pointer;\n",
              "      display: none;\n",
              "      fill: #1967D2;\n",
              "      height: 32px;\n",
              "      padding: 0 0 0 0;\n",
              "      width: 32px;\n",
              "    }\n",
              "\n",
              "    .colab-df-convert:hover {\n",
              "      background-color: #E2EBFA;\n",
              "      box-shadow: 0px 1px 2px rgba(60, 64, 67, 0.3), 0px 1px 3px 1px rgba(60, 64, 67, 0.15);\n",
              "      fill: #174EA6;\n",
              "    }\n",
              "\n",
              "    [theme=dark] .colab-df-convert {\n",
              "      background-color: #3B4455;\n",
              "      fill: #D2E3FC;\n",
              "    }\n",
              "\n",
              "    [theme=dark] .colab-df-convert:hover {\n",
              "      background-color: #434B5C;\n",
              "      box-shadow: 0px 1px 3px 1px rgba(0, 0, 0, 0.15);\n",
              "      filter: drop-shadow(0px 1px 2px rgba(0, 0, 0, 0.3));\n",
              "      fill: #FFFFFF;\n",
              "    }\n",
              "  </style>\n",
              "\n",
              "      <script>\n",
              "        const buttonEl =\n",
              "          document.querySelector('#df-ec335692-17b5-4373-89a7-a1df4cdd4391 button.colab-df-convert');\n",
              "        buttonEl.style.display =\n",
              "          google.colab.kernel.accessAllowed ? 'block' : 'none';\n",
              "\n",
              "        async function convertToInteractive(key) {\n",
              "          const element = document.querySelector('#df-ec335692-17b5-4373-89a7-a1df4cdd4391');\n",
              "          const dataTable =\n",
              "            await google.colab.kernel.invokeFunction('convertToInteractive',\n",
              "                                                     [key], {});\n",
              "          if (!dataTable) return;\n",
              "\n",
              "          const docLinkHtml = 'Like what you see? Visit the ' +\n",
              "            '<a target=\"_blank\" href=https://colab.research.google.com/notebooks/data_table.ipynb>data table notebook</a>'\n",
              "            + ' to learn more about interactive tables.';\n",
              "          element.innerHTML = '';\n",
              "          dataTable['output_type'] = 'display_data';\n",
              "          await google.colab.output.renderOutput(dataTable, element);\n",
              "          const docLink = document.createElement('div');\n",
              "          docLink.innerHTML = docLinkHtml;\n",
              "          element.appendChild(docLink);\n",
              "        }\n",
              "      </script>\n",
              "    </div>\n",
              "  </div>\n",
              "  "
            ]
          },
          "metadata": {},
          "execution_count": 1
        }
      ],
      "source": [
        "import pandas as pd\n",
        "import numpy as np\n",
        "import matplotlib.pyplot as plt\n",
        "import seaborn as sns\n",
        "\n",
        "titanic = pd.read_csv('/content/train.csv')\n",
        "titanic\n",
        "# PassengerId\t = 승객 아이디\n",
        "# Survived = 생존 여부\n",
        "# Pclass = 객실 등급, 1st = Upper, 2nd = Middle, 3rd = Lower\n",
        "# SibSp = 타이타닉 호에 동승한 자매 / 배우자의 수\n",
        "# Parch = 타이타닉 호에 동승한 부모 / 자식의 수\n",
        "# Fare = 승객 요금\n",
        "# Cabin = 방 호수\n",
        "# Embarked = 탑승지, C = 셰르부르(프랑스), Q = 퀸즈타운(아일랜드), S = 사우샘프턴(영국)"
      ]
    },
    {
      "cell_type": "code",
      "source": [
        "# 우선 데이터 전처리를 위해 데이터 프레임의 정보 출력\n",
        "titanic.info()\n",
        "\n",
        "# 나이 컬럼과 탑승지 컬럼에 조금의 null값이 확인\n",
        "# 방 호수에 많은 null값이 확인"
      ],
      "metadata": {
        "colab": {
          "base_uri": "https://localhost:8080/"
        },
        "id": "odSyPcGoOjAl",
        "outputId": "1a17b389-9d61-465a-e823-fd9118b816fd"
      },
      "execution_count": 2,
      "outputs": [
        {
          "output_type": "stream",
          "name": "stdout",
          "text": [
            "<class 'pandas.core.frame.DataFrame'>\n",
            "RangeIndex: 891 entries, 0 to 890\n",
            "Data columns (total 12 columns):\n",
            " #   Column       Non-Null Count  Dtype  \n",
            "---  ------       --------------  -----  \n",
            " 0   PassengerId  891 non-null    int64  \n",
            " 1   Survived     891 non-null    int64  \n",
            " 2   Pclass       891 non-null    int64  \n",
            " 3   Name         891 non-null    object \n",
            " 4   Sex          891 non-null    object \n",
            " 5   Age          714 non-null    float64\n",
            " 6   SibSp        891 non-null    int64  \n",
            " 7   Parch        891 non-null    int64  \n",
            " 8   Ticket       891 non-null    object \n",
            " 9   Fare         891 non-null    float64\n",
            " 10  Cabin        204 non-null    object \n",
            " 11  Embarked     889 non-null    object \n",
            "dtypes: float64(2), int64(5), object(5)\n",
            "memory usage: 83.7+ KB\n"
          ]
        }
      ]
    },
    {
      "cell_type": "code",
      "source": [
        "# Cabin 컬럼을 삭제\n",
        "titanic = titanic.drop(columns = 'Cabin', axis = 1)\n",
        "titanic.head()"
      ],
      "metadata": {
        "colab": {
          "base_uri": "https://localhost:8080/",
          "height": 206
        },
        "id": "uoZR3II3Snjw",
        "outputId": "0fe60a30-129a-4ac9-ce7d-8dc5cbf8c5f8"
      },
      "execution_count": 3,
      "outputs": [
        {
          "output_type": "execute_result",
          "data": {
            "text/plain": [
              "   PassengerId  Survived  Pclass  \\\n",
              "0            1         0       3   \n",
              "1            2         1       1   \n",
              "2            3         1       3   \n",
              "3            4         1       1   \n",
              "4            5         0       3   \n",
              "\n",
              "                                                Name     Sex   Age  SibSp  \\\n",
              "0                            Braund, Mr. Owen Harris    male  22.0      1   \n",
              "1  Cumings, Mrs. John Bradley (Florence Briggs Th...  female  38.0      1   \n",
              "2                             Heikkinen, Miss. Laina  female  26.0      0   \n",
              "3       Futrelle, Mrs. Jacques Heath (Lily May Peel)  female  35.0      1   \n",
              "4                           Allen, Mr. William Henry    male  35.0      0   \n",
              "\n",
              "   Parch            Ticket     Fare Embarked  \n",
              "0      0         A/5 21171   7.2500        S  \n",
              "1      0          PC 17599  71.2833        C  \n",
              "2      0  STON/O2. 3101282   7.9250        S  \n",
              "3      0            113803  53.1000        S  \n",
              "4      0            373450   8.0500        S  "
            ],
            "text/html": [
              "\n",
              "  <div id=\"df-761c2f4b-5410-40b8-aee8-65de9942df6e\">\n",
              "    <div class=\"colab-df-container\">\n",
              "      <div>\n",
              "<style scoped>\n",
              "    .dataframe tbody tr th:only-of-type {\n",
              "        vertical-align: middle;\n",
              "    }\n",
              "\n",
              "    .dataframe tbody tr th {\n",
              "        vertical-align: top;\n",
              "    }\n",
              "\n",
              "    .dataframe thead th {\n",
              "        text-align: right;\n",
              "    }\n",
              "</style>\n",
              "<table border=\"1\" class=\"dataframe\">\n",
              "  <thead>\n",
              "    <tr style=\"text-align: right;\">\n",
              "      <th></th>\n",
              "      <th>PassengerId</th>\n",
              "      <th>Survived</th>\n",
              "      <th>Pclass</th>\n",
              "      <th>Name</th>\n",
              "      <th>Sex</th>\n",
              "      <th>Age</th>\n",
              "      <th>SibSp</th>\n",
              "      <th>Parch</th>\n",
              "      <th>Ticket</th>\n",
              "      <th>Fare</th>\n",
              "      <th>Embarked</th>\n",
              "    </tr>\n",
              "  </thead>\n",
              "  <tbody>\n",
              "    <tr>\n",
              "      <th>0</th>\n",
              "      <td>1</td>\n",
              "      <td>0</td>\n",
              "      <td>3</td>\n",
              "      <td>Braund, Mr. Owen Harris</td>\n",
              "      <td>male</td>\n",
              "      <td>22.0</td>\n",
              "      <td>1</td>\n",
              "      <td>0</td>\n",
              "      <td>A/5 21171</td>\n",
              "      <td>7.2500</td>\n",
              "      <td>S</td>\n",
              "    </tr>\n",
              "    <tr>\n",
              "      <th>1</th>\n",
              "      <td>2</td>\n",
              "      <td>1</td>\n",
              "      <td>1</td>\n",
              "      <td>Cumings, Mrs. John Bradley (Florence Briggs Th...</td>\n",
              "      <td>female</td>\n",
              "      <td>38.0</td>\n",
              "      <td>1</td>\n",
              "      <td>0</td>\n",
              "      <td>PC 17599</td>\n",
              "      <td>71.2833</td>\n",
              "      <td>C</td>\n",
              "    </tr>\n",
              "    <tr>\n",
              "      <th>2</th>\n",
              "      <td>3</td>\n",
              "      <td>1</td>\n",
              "      <td>3</td>\n",
              "      <td>Heikkinen, Miss. Laina</td>\n",
              "      <td>female</td>\n",
              "      <td>26.0</td>\n",
              "      <td>0</td>\n",
              "      <td>0</td>\n",
              "      <td>STON/O2. 3101282</td>\n",
              "      <td>7.9250</td>\n",
              "      <td>S</td>\n",
              "    </tr>\n",
              "    <tr>\n",
              "      <th>3</th>\n",
              "      <td>4</td>\n",
              "      <td>1</td>\n",
              "      <td>1</td>\n",
              "      <td>Futrelle, Mrs. Jacques Heath (Lily May Peel)</td>\n",
              "      <td>female</td>\n",
              "      <td>35.0</td>\n",
              "      <td>1</td>\n",
              "      <td>0</td>\n",
              "      <td>113803</td>\n",
              "      <td>53.1000</td>\n",
              "      <td>S</td>\n",
              "    </tr>\n",
              "    <tr>\n",
              "      <th>4</th>\n",
              "      <td>5</td>\n",
              "      <td>0</td>\n",
              "      <td>3</td>\n",
              "      <td>Allen, Mr. William Henry</td>\n",
              "      <td>male</td>\n",
              "      <td>35.0</td>\n",
              "      <td>0</td>\n",
              "      <td>0</td>\n",
              "      <td>373450</td>\n",
              "      <td>8.0500</td>\n",
              "      <td>S</td>\n",
              "    </tr>\n",
              "  </tbody>\n",
              "</table>\n",
              "</div>\n",
              "      <button class=\"colab-df-convert\" onclick=\"convertToInteractive('df-761c2f4b-5410-40b8-aee8-65de9942df6e')\"\n",
              "              title=\"Convert this dataframe to an interactive table.\"\n",
              "              style=\"display:none;\">\n",
              "        \n",
              "  <svg xmlns=\"http://www.w3.org/2000/svg\" height=\"24px\"viewBox=\"0 0 24 24\"\n",
              "       width=\"24px\">\n",
              "    <path d=\"M0 0h24v24H0V0z\" fill=\"none\"/>\n",
              "    <path d=\"M18.56 5.44l.94 2.06.94-2.06 2.06-.94-2.06-.94-.94-2.06-.94 2.06-2.06.94zm-11 1L8.5 8.5l.94-2.06 2.06-.94-2.06-.94L8.5 2.5l-.94 2.06-2.06.94zm10 10l.94 2.06.94-2.06 2.06-.94-2.06-.94-.94-2.06-.94 2.06-2.06.94z\"/><path d=\"M17.41 7.96l-1.37-1.37c-.4-.4-.92-.59-1.43-.59-.52 0-1.04.2-1.43.59L10.3 9.45l-7.72 7.72c-.78.78-.78 2.05 0 2.83L4 21.41c.39.39.9.59 1.41.59.51 0 1.02-.2 1.41-.59l7.78-7.78 2.81-2.81c.8-.78.8-2.07 0-2.86zM5.41 20L4 18.59l7.72-7.72 1.47 1.35L5.41 20z\"/>\n",
              "  </svg>\n",
              "      </button>\n",
              "      \n",
              "  <style>\n",
              "    .colab-df-container {\n",
              "      display:flex;\n",
              "      flex-wrap:wrap;\n",
              "      gap: 12px;\n",
              "    }\n",
              "\n",
              "    .colab-df-convert {\n",
              "      background-color: #E8F0FE;\n",
              "      border: none;\n",
              "      border-radius: 50%;\n",
              "      cursor: pointer;\n",
              "      display: none;\n",
              "      fill: #1967D2;\n",
              "      height: 32px;\n",
              "      padding: 0 0 0 0;\n",
              "      width: 32px;\n",
              "    }\n",
              "\n",
              "    .colab-df-convert:hover {\n",
              "      background-color: #E2EBFA;\n",
              "      box-shadow: 0px 1px 2px rgba(60, 64, 67, 0.3), 0px 1px 3px 1px rgba(60, 64, 67, 0.15);\n",
              "      fill: #174EA6;\n",
              "    }\n",
              "\n",
              "    [theme=dark] .colab-df-convert {\n",
              "      background-color: #3B4455;\n",
              "      fill: #D2E3FC;\n",
              "    }\n",
              "\n",
              "    [theme=dark] .colab-df-convert:hover {\n",
              "      background-color: #434B5C;\n",
              "      box-shadow: 0px 1px 3px 1px rgba(0, 0, 0, 0.15);\n",
              "      filter: drop-shadow(0px 1px 2px rgba(0, 0, 0, 0.3));\n",
              "      fill: #FFFFFF;\n",
              "    }\n",
              "  </style>\n",
              "\n",
              "      <script>\n",
              "        const buttonEl =\n",
              "          document.querySelector('#df-761c2f4b-5410-40b8-aee8-65de9942df6e button.colab-df-convert');\n",
              "        buttonEl.style.display =\n",
              "          google.colab.kernel.accessAllowed ? 'block' : 'none';\n",
              "\n",
              "        async function convertToInteractive(key) {\n",
              "          const element = document.querySelector('#df-761c2f4b-5410-40b8-aee8-65de9942df6e');\n",
              "          const dataTable =\n",
              "            await google.colab.kernel.invokeFunction('convertToInteractive',\n",
              "                                                     [key], {});\n",
              "          if (!dataTable) return;\n",
              "\n",
              "          const docLinkHtml = 'Like what you see? Visit the ' +\n",
              "            '<a target=\"_blank\" href=https://colab.research.google.com/notebooks/data_table.ipynb>data table notebook</a>'\n",
              "            + ' to learn more about interactive tables.';\n",
              "          element.innerHTML = '';\n",
              "          dataTable['output_type'] = 'display_data';\n",
              "          await google.colab.output.renderOutput(dataTable, element);\n",
              "          const docLink = document.createElement('div');\n",
              "          docLink.innerHTML = docLinkHtml;\n",
              "          element.appendChild(docLink);\n",
              "        }\n",
              "      </script>\n",
              "    </div>\n",
              "  </div>\n",
              "  "
            ]
          },
          "metadata": {},
          "execution_count": 3
        }
      ]
    },
    {
      "cell_type": "code",
      "source": [
        "# EMbarked 컬럼의 null값을 가장 빈번히 나오는 값들로 대체\n",
        "most_freq = titanic['Embarked'].value_counts(dropna = True).idxmax()\n",
        "titanic_1 = titanic.copy()\n",
        "titanic_1['Embarked'].fillna(most_freq, inplace = True)\n",
        "titanic_1.info()"
      ],
      "metadata": {
        "colab": {
          "base_uri": "https://localhost:8080/"
        },
        "id": "AI0zd1FMVqGG",
        "outputId": "c5d7478c-bed2-4f15-ad50-1c375b583672"
      },
      "execution_count": 4,
      "outputs": [
        {
          "output_type": "stream",
          "name": "stdout",
          "text": [
            "<class 'pandas.core.frame.DataFrame'>\n",
            "RangeIndex: 891 entries, 0 to 890\n",
            "Data columns (total 11 columns):\n",
            " #   Column       Non-Null Count  Dtype  \n",
            "---  ------       --------------  -----  \n",
            " 0   PassengerId  891 non-null    int64  \n",
            " 1   Survived     891 non-null    int64  \n",
            " 2   Pclass       891 non-null    int64  \n",
            " 3   Name         891 non-null    object \n",
            " 4   Sex          891 non-null    object \n",
            " 5   Age          714 non-null    float64\n",
            " 6   SibSp        891 non-null    int64  \n",
            " 7   Parch        891 non-null    int64  \n",
            " 8   Ticket       891 non-null    object \n",
            " 9   Fare         891 non-null    float64\n",
            " 10  Embarked     891 non-null    object \n",
            "dtypes: float64(2), int64(5), object(4)\n",
            "memory usage: 76.7+ KB\n"
          ]
        }
      ]
    },
    {
      "cell_type": "code",
      "source": [
        "# 동승자의 여부가 생존 확률에 영향을 끼치는지 알고싶기 때문에\n",
        "# SibSp컬럼과 Parch컬럼에 값이 0이 아니면 동승자가 있다고 판단\n",
        "\n",
        "titanic_1.loc[(titanic_1['SibSp']!=0) & (titanic_1['Parch']!=0), 'IsAlone'] = 0\n",
        "titanic_1.loc[(titanic_1['SibSp']!=0) & (titanic_1['Parch']==0), 'IsAlone'] = 0\n",
        "titanic_1.loc[(titanic_1['SibSp']==0) & (titanic_1['Parch']!=0), 'IsAlone'] = 0\n",
        "titanic_1.loc[(titanic_1['SibSp']==0) & (titanic_1['Parch']==0), 'IsAlone'] = 1\n",
        "titanic_1.info()"
      ],
      "metadata": {
        "colab": {
          "base_uri": "https://localhost:8080/"
        },
        "id": "vGG45ZZDJb3E",
        "outputId": "aecc9759-dd48-446b-8d01-1d2364e6aff7"
      },
      "execution_count": 5,
      "outputs": [
        {
          "output_type": "stream",
          "name": "stdout",
          "text": [
            "<class 'pandas.core.frame.DataFrame'>\n",
            "RangeIndex: 891 entries, 0 to 890\n",
            "Data columns (total 12 columns):\n",
            " #   Column       Non-Null Count  Dtype  \n",
            "---  ------       --------------  -----  \n",
            " 0   PassengerId  891 non-null    int64  \n",
            " 1   Survived     891 non-null    int64  \n",
            " 2   Pclass       891 non-null    int64  \n",
            " 3   Name         891 non-null    object \n",
            " 4   Sex          891 non-null    object \n",
            " 5   Age          714 non-null    float64\n",
            " 6   SibSp        891 non-null    int64  \n",
            " 7   Parch        891 non-null    int64  \n",
            " 8   Ticket       891 non-null    object \n",
            " 9   Fare         891 non-null    float64\n",
            " 10  Embarked     891 non-null    object \n",
            " 11  IsAlone      891 non-null    float64\n",
            "dtypes: float64(3), int64(5), object(4)\n",
            "memory usage: 83.7+ KB\n"
          ]
        }
      ]
    },
    {
      "cell_type": "code",
      "source": [
        "# Age 컬럼의 null값을 이전값으로 대체\n",
        "titanic_train = titanic_1.copy()\n",
        "titanic_train['Age'].fillna(method='ffill', inplace = True)\n",
        "titanic_train.info()"
      ],
      "metadata": {
        "colab": {
          "base_uri": "https://localhost:8080/"
        },
        "id": "NLTeNta7XkZo",
        "outputId": "6653fe0d-6b6b-44bc-9829-1a040bed9641"
      },
      "execution_count": 6,
      "outputs": [
        {
          "output_type": "stream",
          "name": "stdout",
          "text": [
            "<class 'pandas.core.frame.DataFrame'>\n",
            "RangeIndex: 891 entries, 0 to 890\n",
            "Data columns (total 12 columns):\n",
            " #   Column       Non-Null Count  Dtype  \n",
            "---  ------       --------------  -----  \n",
            " 0   PassengerId  891 non-null    int64  \n",
            " 1   Survived     891 non-null    int64  \n",
            " 2   Pclass       891 non-null    int64  \n",
            " 3   Name         891 non-null    object \n",
            " 4   Sex          891 non-null    object \n",
            " 5   Age          891 non-null    float64\n",
            " 6   SibSp        891 non-null    int64  \n",
            " 7   Parch        891 non-null    int64  \n",
            " 8   Ticket       891 non-null    object \n",
            " 9   Fare         891 non-null    float64\n",
            " 10  Embarked     891 non-null    object \n",
            " 11  IsAlone      891 non-null    float64\n",
            "dtypes: float64(3), int64(5), object(4)\n",
            "memory usage: 83.7+ KB\n"
          ]
        }
      ]
    },
    {
      "cell_type": "code",
      "source": [
        "# 성별과 나이, 객실 등급, 일행 여부, 탑승지에 따른 생존 여부 확인\n",
        "survived_male = len(titanic_train[(titanic_train['Survived'] == 1)& (titanic_train['Sex'] == 'male')])\n",
        "male_total = len(titanic[titanic_train['Sex'] == 'male'])\n",
        "survived_female = len(titanic_train[(titanic_train['Survived'] == 1)& (titanic_train['Sex'] == 'female')])\n",
        "female_total = len(titanic[titanic_train['Sex'] == 'female'])\n",
        "survived_total = len(titanic[titanic_train['Survived'] == 1])"
      ],
      "metadata": {
        "id": "RdiU6PP0ZOqi"
      },
      "execution_count": 7,
      "outputs": []
    },
    {
      "cell_type": "code",
      "source": [
        "# 성별에 따른 생존자수를 그래프로 출력\n",
        "labels = [0, 1]\n",
        "male_cnt = [male_total - survived_male, survived_male]\n",
        "female_cnt = [female_total - survived_female, survived_female]\n",
        "\n",
        "x = np.arange(len(labels))  # the label locations\n",
        "width = 0.35  # the width of the bars\n",
        "\n",
        "fig, ax = plt.subplots()\n",
        "rects1 = ax.bar(x - width/2, male_cnt, width, label='Men')\n",
        "rects2 = ax.bar(x + width/2, female_cnt, width, label='Women')\n",
        "\n",
        "for rect in rects1:\n",
        "    height = rect.get_height()\n",
        "    plt.text(rect.get_x() + rect.get_width()/2.0, height, height, ha='center', va='bottom', size = 12)\n",
        "\n",
        "for rect in rects2:\n",
        "    height = rect.get_height()\n",
        "    plt.text(rect.get_x() + rect.get_width()/2.0, height, height, ha='center', va='bottom', size = 12)\n",
        "\n",
        "ax.set_xlabel('Survived')\n",
        "ax.set_ylabel('num of people')\n",
        "ax.set_title('Num of survived by sex')\n",
        "ax.set_xticks([0, 1])\n",
        "ax.legend()\n",
        "ax.set_ylim([0, 550])\n",
        "\n",
        "plt.show()\n",
        "\n",
        "# 사망자의 수는 남성이 훨씬 많음"
      ],
      "metadata": {
        "colab": {
          "base_uri": "https://localhost:8080/",
          "height": 295
        },
        "id": "D9288aLsDE_4",
        "outputId": "17ff315e-758f-4705-d58b-bab8d368a24c"
      },
      "execution_count": 8,
      "outputs": [
        {
          "output_type": "display_data",
          "data": {
            "text/plain": [
              "<Figure size 432x288 with 1 Axes>"
            ],
            "image/png": "[encoded data removed]"
          },
          "metadata": {
            "needs_background": "light"
          }
        }
      ]
    },
    {
      "cell_type": "code",
      "source": [
        "# 남자와 여자의 생존자 비율\n",
        "fig = plt.figure(figsize = (15,5))\n",
        "\n",
        "ax1 = fig.add_subplot(1,2,1)\n",
        "ax2 = fig.add_subplot(1,2,2)\n",
        "\n",
        "ratio_male = [100 -(100*(survived_male/male_total)), 100*(survived_male/male_total)]\n",
        "ax1.pie(ratio_male, autopct='%.1f%%', counterclock=False, startangle=90)\n",
        "ax1.set_title(\"Percentage of male survivors\")\n",
        "ax1.legend(titanic_train['Survived'],\n",
        "           title=\"Survived\",\n",
        "           loc=\"center left\", \n",
        "           bbox_to_anchor=(1, 0, 0.5, 1))\n",
        "\n",
        "ratio_female = [100 -(100*(survived_female/female_total)), 100*(survived_female/female_total)]\n",
        "ax2.pie(ratio_female, autopct='%.1f%%', counterclock=False, startangle=90)\n",
        "ax2.set_title(\"Percentage of female survivors\")\n",
        "ax2.legend(titanic_train['Survived'],\n",
        "           title=\"Survived\",\n",
        "           loc=\"center left\", \n",
        "           bbox_to_anchor=(1, 0, 0.5, 1))\n",
        "plt.show()\n",
        "\n",
        "# 사망자의 수는 남성의 비율이 훨씬 큼"
      ],
      "metadata": {
        "colab": {
          "base_uri": "https://localhost:8080/",
          "height": 319
        },
        "id": "50xDsfinoYiN",
        "outputId": "7ab6a4f2-03c3-4221-aa6c-4335807565b3"
      },
      "execution_count": 9,
      "outputs": [
        {
          "output_type": "display_data",
          "data": {
            "text/plain": [
              "<Figure size 1080x360 with 2 Axes>"
            ],
            "image/png": "[encoded data removed]"
          },
          "metadata": {}
        }
      ]
    },
    {
      "cell_type": "code",
      "source": [
        "# 성별에 따른 나이 분포\n",
        "g = sns.FacetGrid(titanic_train, col='Sex', height=6)\n",
        "g.map(plt.hist, 'Age', bins=20)\n",
        "plt.show()"
      ],
      "metadata": {
        "colab": {
          "base_uri": "https://localhost:8080/",
          "height": 441
        },
        "id": "S6fWaTd6w75z",
        "outputId": "33f39311-bac5-40c8-fdf0-84ff21f6df83"
      },
      "execution_count": 10,
      "outputs": [
        {
          "output_type": "display_data",
          "data": {
            "text/plain": [
              "<Figure size 864x432 with 2 Axes>"
            ],
            "image/png": "[encoded data removed]"
          },
          "metadata": {
            "needs_background": "light"
          }
        }
      ]
    },
    {
      "cell_type": "code",
      "source": [
        "# 나이별 생존자\n",
        "g = sns.FacetGrid(titanic_train, col='Survived', height=6)\n",
        "g.map(plt.hist, 'Age', bins=20)\n",
        "plt.show()\n",
        "\n",
        "# 사망자는 주로 20~40세로 이루어짐"
      ],
      "metadata": {
        "colab": {
          "base_uri": "https://localhost:8080/",
          "height": 441
        },
        "id": "H9Cws4f5WCDL",
        "outputId": "8d1fe51d-c2b4-4ac3-e9a3-03af6b0abacf"
      },
      "execution_count": 11,
      "outputs": [
        {
          "output_type": "display_data",
          "data": {
            "text/plain": [
              "<Figure size 864x432 with 2 Axes>"
            ],
            "image/png": "[encoded data removed]"
          },
          "metadata": {
            "needs_background": "light"
          }
        }
      ]
    },
    {
      "cell_type": "code",
      "source": [
        "# 객실 등급에 따른 남녀별 인원수\n",
        "g = sns.FacetGrid(titanic_train, col='Sex', height=6, aspect=0.3)\n",
        "g.map(plt.hist, 'Pclass', bins=3)\n",
        "g.set(xticks=[1, 2, 3])\n",
        "plt.show()\n",
        "# 3클래스 객실에 남성의 인원수가 제일 많음"
      ],
      "metadata": {
        "colab": {
          "base_uri": "https://localhost:8080/",
          "height": 441
        },
        "id": "sO33jUzMe7gW",
        "outputId": "bc4c57f1-0f0d-46aa-d44c-318ee58effbc"
      },
      "execution_count": 12,
      "outputs": [
        {
          "output_type": "display_data",
          "data": {
            "text/plain": [
              "<Figure size 259.2x432 with 2 Axes>"
            ],
            "image/png": "[encoded data removed]"
          },
          "metadata": {
            "needs_background": "light"
          }
        }
      ]
    },
    {
      "cell_type": "code",
      "source": [
        "# 객실에 따른 남녀의 나이 분포\n",
        "grid = sns.FacetGrid(titanic_train, row='Pclass', col='Sex', height=4, aspect=2)\n",
        "grid.map(plt.hist, 'Age', alpha=0.8, bins=20)\n",
        "grid.add_legend()\n",
        "plt.show()\n",
        "\n",
        "# 3클래스 객실에 20~30세 남자의 인원수가 가장 많음"
      ],
      "metadata": {
        "colab": {
          "base_uri": "https://localhost:8080/",
          "height": 873
        },
        "id": "EmJmHeTT0kGS",
        "outputId": "5274c99b-4b4c-4f22-b15b-f7eb21d63883"
      },
      "execution_count": 13,
      "outputs": [
        {
          "output_type": "display_data",
          "data": {
            "text/plain": [
              "<Figure size 1160x864 with 6 Axes>"
            ],
            "image/png": "[encoded data removed]"
          },
          "metadata": {
            "needs_background": "light"
          }
        }
      ]
    },
    {
      "cell_type": "code",
      "source": [
        "# 객실 등급에 따른 생존자\n",
        "g = sns.FacetGrid(titanic_train, col='Survived', height=6, aspect=0.3)\n",
        "g.map(plt.hist, 'Pclass', bins=3)\n",
        "g.set(xticks=[1, 2, 3])\n",
        "plt.show()\n",
        "\n",
        "# 3등급 객실의 인원수가 가장 많음에도 생존자수는 1등급 객실의 인원이 가장 많음\n",
        "# 3등급 객실의 사망자 수가 가장 많음"
      ],
      "metadata": {
        "colab": {
          "base_uri": "https://localhost:8080/",
          "height": 441
        },
        "id": "5BelRV3Wkd1O",
        "outputId": "795f1655-3c7f-41da-9218-42b9827f2a80"
      },
      "execution_count": 14,
      "outputs": [
        {
          "output_type": "display_data",
          "data": {
            "text/plain": [
              "<Figure size 259.2x432 with 2 Axes>"
            ],
            "image/png": "[encoded data removed]"
          },
          "metadata": {
            "needs_background": "light"
          }
        }
      ]
    },
    {
      "cell_type": "code",
      "source": [
        "# 객실별 각 연령대의 생존자\n",
        "grid = sns.FacetGrid(titanic_train, col='Survived', row = 'Pclass', height=4, aspect=2)\n",
        "grid.map(plt.hist, 'Age', bins=20)\n",
        "grid.add_legend()\n",
        "plt.show()\n",
        "# 20~30세 남자 인원이 가장 많은 3등급 객실에서 사망확률이 매우 높음"
      ],
      "metadata": {
        "colab": {
          "base_uri": "https://localhost:8080/",
          "height": 873
        },
        "id": "EIkdk49U2TOq",
        "outputId": "a3f329e9-ebcd-4be0-842a-c369664d86bc"
      },
      "execution_count": 15,
      "outputs": [
        {
          "output_type": "display_data",
          "data": {
            "text/plain": [
              "<Figure size 1160x864 with 6 Axes>"
            ],
            "image/png": "[encoded data removed]"
          },
          "metadata": {
            "needs_background": "light"
          }
        }
      ]
    },
    {
      "cell_type": "code",
      "source": [
        "# 탑승지에 따른 생존자 비율\n",
        "sns.barplot(x = 'Embarked', y = 'Survived',data=titanic_train)\n",
        "plt.show()\n",
        "\n",
        "# C에서 승선한 사람이 생존률이 더 높음"
      ],
      "metadata": {
        "colab": {
          "base_uri": "https://localhost:8080/",
          "height": 279
        },
        "id": "0gaN-LTX0fPH",
        "outputId": "c2177aee-9e53-4cb7-f282-c93502671db4"
      },
      "execution_count": 16,
      "outputs": [
        {
          "output_type": "display_data",
          "data": {
            "text/plain": [
              "<Figure size 432x288 with 1 Axes>"
            ],
            "image/png": "[encoded data removed]"
          },
          "metadata": {
            "needs_background": "light"
          }
        }
      ]
    },
    {
      "cell_type": "code",
      "source": [
        "# 탑승지에 따른 생존자\n",
        "g = sns.FacetGrid(titanic_train, col='Embarked', height=6, aspect=0.3)\n",
        "g.map(plt.hist, 'Survived', bins=2)\n",
        "g.set(xticks=[0, 1])\n",
        "plt.show()\n",
        "\n",
        "# S 나 Q에서 승선한 승객은 모두 사망자 수보다 생존자들의 수가 더 적은데 비해\n",
        "# C에서 승선한 승객은 사망자 수보다 생존자가 더 많다"
      ],
      "metadata": {
        "colab": {
          "base_uri": "https://localhost:8080/",
          "height": 441
        },
        "id": "H6rKfM4Mf_3P",
        "outputId": "7322136c-d795-4a45-be63-1c393df82139"
      },
      "execution_count": 17,
      "outputs": [
        {
          "output_type": "display_data",
          "data": {
            "text/plain": [
              "<Figure size 388.8x432 with 3 Axes>"
            ],
            "image/png": "[encoded data removed]"
          },
          "metadata": {
            "needs_background": "light"
          }
        }
      ]
    },
    {
      "cell_type": "code",
      "source": [
        "labels = [0, 1]\n",
        "\n",
        "male_alone = len(titanic_train[(titanic_train['IsAlone']==1) & (titanic_train['Sex']=='male')])\n",
        "male_notalone = len(titanic_train[(titanic_train['IsAlone']==0) & (titanic_train['Sex']=='male')])\n",
        "female_alone = len(titanic_train[(titanic_train['IsAlone']==1) & (titanic_train['Sex']=='female')])\n",
        "female_notalone = len(titanic_train[(titanic_train['IsAlone']==0) & (titanic_train['Sex']=='female')])\n",
        "\n",
        "male_cnt = [male_notalone, male_alone]\n",
        "female_cnt = [female_notalone, female_alone]\n",
        "\n",
        "x = np.arange(len(labels))  # the label locations\n",
        "width = 0.35  # the width of the bars\n",
        "\n",
        "fig, ax = plt.subplots()\n",
        "rects1 = ax.bar(x - width/2, male_cnt, width, label='Male')\n",
        "rects2 = ax.bar(x + width/2, female_cnt, width, label='Female')\n",
        "\n",
        "for rect in rects1:\n",
        "    height = rect.get_height()\n",
        "    plt.text(rect.get_x() + rect.get_width()/2.0, height, height, ha='center', va='bottom', size = 12)\n",
        "\n",
        "for rect in rects2:\n",
        "    height = rect.get_height()\n",
        "    plt.text(rect.get_x() + rect.get_width()/2.0, height, height, ha='center', va='bottom', size = 12)\n",
        "\n",
        "ax.set_xlabel('IsAlone')\n",
        "ax.set_ylabel('num of people')\n",
        "ax.set_title('Num of survived by IsAlone')\n",
        "ax.set_xticks([0, 1])\n",
        "ax.legend()\n",
        "ax.set_ylim([0, 550])\n",
        "\n",
        "plt.show()\n",
        "\n",
        "# 남성의 경우 일행이 없는 사람이 훨씬 많음\n",
        "# 여성의 경우 일행이 있는 사람이 더 많음"
      ],
      "metadata": {
        "colab": {
          "base_uri": "https://localhost:8080/",
          "height": 295
        },
        "id": "Kj6MQ-rZYPNi",
        "outputId": "54189b66-971c-471f-d911-76ad84976c27"
      },
      "execution_count": 18,
      "outputs": [
        {
          "output_type": "display_data",
          "data": {
            "text/plain": [
              "<Figure size 432x288 with 1 Axes>"
            ],
            "image/png": "[encoded data removed]"
          },
          "metadata": {
            "needs_background": "light"
          }
        }
      ]
    },
    {
      "cell_type": "code",
      "source": [
        "# 일행의 유무에 따른 생존자\n",
        "labels = [0, 1]\n",
        "\n",
        "male_alone_survivor = len(titanic_train[(titanic_train['Survived']==1) & (titanic_train['IsAlone']==1) & (titanic_train['Sex']=='male')])\n",
        "male_notalone_survivor = len(titanic_train[(titanic_train['Survived']==1) & (titanic_train['IsAlone']==0) & (titanic_train['Sex']=='male')])\n",
        "female_alone_survivor = len(titanic_train[(titanic_train['Survived']==1) & (titanic_train['IsAlone']==1) & (titanic_train['Sex']=='female')])\n",
        "female_notalone_survivor = len(titanic_train[(titanic_train['Survived']==1) & (titanic_train['IsAlone']==0) & (titanic_train['Sex']=='female')])\n",
        "\n",
        "male_cnt = [male_notalone_survivor, male_alone_survivor]\n",
        "female_cnt = [female_notalone_survivor, female_alone_survivor]\n",
        "\n",
        "x = np.arange(len(labels))  # the label locations\n",
        "width = 0.35  # the width of the bars\n",
        "\n",
        "fig, ax = plt.subplots()\n",
        "rects1 = ax.bar(x - width/2, male_cnt, width, label='Men')\n",
        "rects2 = ax.bar(x + width/2, female_cnt, width, label='Women')\n",
        "\n",
        "for rect in rects1:\n",
        "    height = rect.get_height()\n",
        "    plt.text(rect.get_x() + rect.get_width()/2.0, height, height, ha='center', va='bottom', size = 12)\n",
        "\n",
        "for rect in rects2:\n",
        "    height = rect.get_height()\n",
        "    plt.text(rect.get_x() + rect.get_width()/2.0, height, height, ha='center', va='bottom', size = 12)\n",
        "\n",
        "ax.set_xlabel('IsAlone')\n",
        "ax.set_ylabel('num of people')\n",
        "ax.set_title('Num of survived by IsAlone')\n",
        "ax.set_xticks([0, 1])\n",
        "ax.legend()\n",
        "ax.set_ylim([0, 200])\n",
        "\n",
        "plt.show()\n",
        "\n",
        "# 남성의 경우 일행이 없는 생존자 수가 조금더 많음\n",
        "# 여성의 경우 일행이 있는 생존자 수가 조금더 많음"
      ],
      "metadata": {
        "colab": {
          "base_uri": "https://localhost:8080/",
          "height": 295
        },
        "id": "IEkTt09IRnal",
        "outputId": "1aaaad55-4e3c-42ee-f15a-60ff0917fa19"
      },
      "execution_count": 19,
      "outputs": [
        {
          "output_type": "display_data",
          "data": {
            "text/plain": [
              "<Figure size 432x288 with 1 Axes>"
            ],
            "image/png": "[encoded data removed]"
          },
          "metadata": {
            "needs_background": "light"
          }
        }
      ]
    },
    {
      "cell_type": "code",
      "source": [
        "# 일행의 유무에 따른 사망자\n",
        "labels = [0, 1]\n",
        "\n",
        "male_alone_dead = len(titanic_train[(titanic_train['Survived']==0) & (titanic_train['IsAlone']==1) & (titanic_train['Sex']=='male')])\n",
        "male_notalone_dead = len(titanic_train[(titanic_train['Survived']==0) & (titanic_train['IsAlone']==0) & (titanic_train['Sex']=='male')])\n",
        "female_alone_dead = len(titanic_train[(titanic_train['Survived']==0) & (titanic_train['IsAlone']==1) & (titanic_train['Sex']=='female')])\n",
        "female_notalone_dead = len(titanic_train[(titanic_train['Survived']==0) & (titanic_train['IsAlone']==0) & (titanic_train['Sex']=='female')])\n",
        "\n",
        "male_cnt = [male_notalone_dead, male_alone_dead]\n",
        "female_cnt = [female_notalone_dead, female_alone_dead]\n",
        "\n",
        "x = np.arange(len(labels))  # the label locations\n",
        "width = 0.35  # the width of the bars\n",
        "\n",
        "fig, ax = plt.subplots()\n",
        "rects1 = ax.bar(x - width/2, male_cnt, width, label='Men')\n",
        "rects2 = ax.bar(x + width/2, female_cnt, width, label='Women')\n",
        "\n",
        "for rect in rects1:\n",
        "    height = rect.get_height()\n",
        "    plt.text(rect.get_x() + rect.get_width()/2.0, height, height, ha='center', va='bottom', size = 12)\n",
        "\n",
        "for rect in rects2:\n",
        "    height = rect.get_height()\n",
        "    plt.text(rect.get_x() + rect.get_width()/2.0, height, height, ha='center', va='bottom', size = 12)\n",
        "\n",
        "ax.set_xlabel('IsAlone')\n",
        "ax.set_ylabel('num of people')\n",
        "ax.set_title('Num of dead by IsAlone')\n",
        "ax.set_xticks([0, 1])\n",
        "ax.legend()\n",
        "ax.set_ylim([0, 400])\n",
        "\n",
        "plt.show()\n",
        "# 남성의 경우 일행이 없는 사망자 수가 훨씬 많음\n",
        "# 여성의 경우 일행이 있는 사망자 수가 조금 많음\n",
        "\n",
        "# 위와같은 특성은 일행여부에 관계없이 성별과 인원수에 따라 생존 확률이 결정되는것 같아 보임"
      ],
      "metadata": {
        "colab": {
          "base_uri": "https://localhost:8080/",
          "height": 295
        },
        "id": "6PiyGwWFV1bS",
        "outputId": "ddac44a7-f86f-4288-cb68-720c326a7573"
      },
      "execution_count": 20,
      "outputs": [
        {
          "output_type": "display_data",
          "data": {
            "text/plain": [
              "<Figure size 432x288 with 1 Axes>"
            ],
            "image/png": "[encoded data removed]"
          },
          "metadata": {
            "needs_background": "light"
          }
        }
      ]
    },
    {
      "cell_type": "code",
      "source": [
        "# Age 컬럼은 생존확률에 많은 영향을 끼칠 수 있으므로 Age컬럼의 정확도를 높이기 위해 이름에 있는 호칭을 이용해 null값을 조금더 자세한 값으로 대체\n",
        "titanic_1.info()\n",
        "# Age 컬럼의 null값을 대체하기 전의 데이터 프레임"
      ],
      "metadata": {
        "colab": {
          "base_uri": "https://localhost:8080/"
        },
        "id": "s8i6gQ2K9eBt",
        "outputId": "d23ba0d0-3bdb-4ff8-b729-d72aef6d29cc"
      },
      "execution_count": 21,
      "outputs": [
        {
          "output_type": "stream",
          "name": "stdout",
          "text": [
            "<class 'pandas.core.frame.DataFrame'>\n",
            "RangeIndex: 891 entries, 0 to 890\n",
            "Data columns (total 12 columns):\n",
            " #   Column       Non-Null Count  Dtype  \n",
            "---  ------       --------------  -----  \n",
            " 0   PassengerId  891 non-null    int64  \n",
            " 1   Survived     891 non-null    int64  \n",
            " 2   Pclass       891 non-null    int64  \n",
            " 3   Name         891 non-null    object \n",
            " 4   Sex          891 non-null    object \n",
            " 5   Age          714 non-null    float64\n",
            " 6   SibSp        891 non-null    int64  \n",
            " 7   Parch        891 non-null    int64  \n",
            " 8   Ticket       891 non-null    object \n",
            " 9   Fare         891 non-null    float64\n",
            " 10  Embarked     891 non-null    object \n",
            " 11  IsAlone      891 non-null    float64\n",
            "dtypes: float64(3), int64(5), object(4)\n",
            "memory usage: 83.7+ KB\n"
          ]
        }
      ]
    },
    {
      "cell_type": "code",
      "source": [
        "a = titanic_1['Name'].str.split(', ', expand=True)\n",
        "b = a[1].str.split('.', expand=True)\n",
        "print(b)\n",
        "# 첫번째 컬럼에 호칭에 대한 정보가 있음"
      ],
      "metadata": {
        "colab": {
          "base_uri": "https://localhost:8080/"
        },
        "id": "gjRRmMjE9e2i",
        "outputId": "5c994c87-637c-4ebb-bde0-30afb9323b8b"
      },
      "execution_count": 22,
      "outputs": [
        {
          "output_type": "stream",
          "name": "stdout",
          "text": [
            "        0                                       1     2\n",
            "0      Mr                             Owen Harris  None\n",
            "1     Mrs   John Bradley (Florence Briggs Thayer)  None\n",
            "2    Miss                                   Laina  None\n",
            "3     Mrs           Jacques Heath (Lily May Peel)  None\n",
            "4      Mr                           William Henry  None\n",
            "..    ...                                     ...   ...\n",
            "886   Rev                                  Juozas  None\n",
            "887  Miss                          Margaret Edith  None\n",
            "888  Miss                Catherine Helen \"Carrie\"  None\n",
            "889    Mr                             Karl Howell  None\n",
            "890    Mr                                 Patrick  None\n",
            "\n",
            "[891 rows x 3 columns]\n"
          ]
        }
      ]
    },
    {
      "cell_type": "code",
      "source": [
        "titanic_1['Title'] = b[0]\n",
        "print(titanic_1['Title'].value_counts())"
      ],
      "metadata": {
        "colab": {
          "base_uri": "https://localhost:8080/"
        },
        "id": "jzrAUECECuWh",
        "outputId": "1f5fffe5-7f80-4cd9-b92e-0f2d732951d0"
      },
      "execution_count": 23,
      "outputs": [
        {
          "output_type": "stream",
          "name": "stdout",
          "text": [
            "Mr              517\n",
            "Miss            182\n",
            "Mrs             125\n",
            "Master           40\n",
            "Dr                7\n",
            "Rev               6\n",
            "Mlle              2\n",
            "Major             2\n",
            "Col               2\n",
            "the Countess      1\n",
            "Capt              1\n",
            "Ms                1\n",
            "Sir               1\n",
            "Lady              1\n",
            "Mme               1\n",
            "Don               1\n",
            "Jonkheer          1\n",
            "Name: Title, dtype: int64\n"
          ]
        }
      ]
    },
    {
      "cell_type": "code",
      "source": [
        "# 개체 수가 적은 Dr 부터는 기타로 묶음\n",
        "def user(title):\n",
        "    if title == \"Mr\":\n",
        "        return title\n",
        "    elif title == \"Miss\":\n",
        "        return title\n",
        "    elif title == \"Mrs\":\n",
        "        return title\n",
        "    elif title == \"Master\":\n",
        "        return title\n",
        "    else:\n",
        "        return \"others\"\n",
        "\n",
        "titanic_1[\"Title\"]=titanic_1[\"Title\"].apply(user)\n",
        "print(titanic_1['Title'].value_counts())"
      ],
      "metadata": {
        "colab": {
          "base_uri": "https://localhost:8080/"
        },
        "id": "yXisUvKWD8Fh",
        "outputId": "18b71b06-b39b-48cb-bff2-1ee0542241f7"
      },
      "execution_count": 24,
      "outputs": [
        {
          "output_type": "stream",
          "name": "stdout",
          "text": [
            "Mr        517\n",
            "Miss      182\n",
            "Mrs       125\n",
            "Master     40\n",
            "others     27\n",
            "Name: Title, dtype: int64\n"
          ]
        }
      ]
    },
    {
      "cell_type": "code",
      "source": [
        "# 각 호칭 별 나이 평균 확인\n",
        "titanic_1.groupby(\"Title\")[\"Age\"].mean()\n",
        "\n",
        "# 이 호칭의 나이 평균을 토대로 Age컬럼의 null값을 호칭의 나이 평균값으로 대체"
      ],
      "metadata": {
        "colab": {
          "base_uri": "https://localhost:8080/"
        },
        "id": "ZvdZhvrYEznx",
        "outputId": "a2442f24-357e-4e2c-d444-5d6d1cbc7de4"
      },
      "execution_count": 25,
      "outputs": [
        {
          "output_type": "execute_result",
          "data": {
            "text/plain": [
              "Title\n",
              "Master     4.574167\n",
              "Miss      21.773973\n",
              "Mr        32.368090\n",
              "Mrs       35.898148\n",
              "others    42.384615\n",
              "Name: Age, dtype: float64"
            ]
          },
          "metadata": {},
          "execution_count": 25
        }
      ]
    },
    {
      "cell_type": "code",
      "source": [
        "titanic_1.loc[(titanic_1[\"Age\"].isnull()) & (titanic_1[\"Title\"]==\"Master\"), 'Age'] = 4.57\n",
        "titanic_1.loc[(titanic_1[\"Age\"].isnull()) & (titanic_1[\"Title\"]==\"Miss\"), 'Age'] = 21.77\n",
        "titanic_1.loc[(titanic_1[\"Age\"].isnull()) & (titanic_1[\"Title\"]==\"Mr\"), 'Age'] = 32.37\n",
        "titanic_1.loc[(titanic_1[\"Age\"].isnull()) & (titanic_1[\"Title\"]==\"Mrs\"), 'Age'] = 35.90\n",
        "titanic_1.loc[(titanic_1[\"Age\"].isnull()) & (titanic_1[\"Title\"]==\"others\"), 'Age'] = 42.38\n",
        "\n",
        "titanic_1.info()"
      ],
      "metadata": {
        "colab": {
          "base_uri": "https://localhost:8080/"
        },
        "id": "OQB7FkrpIV-W",
        "outputId": "308d8001-3855-4164-afc8-8a7e480bd0fe"
      },
      "execution_count": 26,
      "outputs": [
        {
          "output_type": "stream",
          "name": "stdout",
          "text": [
            "<class 'pandas.core.frame.DataFrame'>\n",
            "RangeIndex: 891 entries, 0 to 890\n",
            "Data columns (total 13 columns):\n",
            " #   Column       Non-Null Count  Dtype  \n",
            "---  ------       --------------  -----  \n",
            " 0   PassengerId  891 non-null    int64  \n",
            " 1   Survived     891 non-null    int64  \n",
            " 2   Pclass       891 non-null    int64  \n",
            " 3   Name         891 non-null    object \n",
            " 4   Sex          891 non-null    object \n",
            " 5   Age          891 non-null    float64\n",
            " 6   SibSp        891 non-null    int64  \n",
            " 7   Parch        891 non-null    int64  \n",
            " 8   Ticket       891 non-null    object \n",
            " 9   Fare         891 non-null    float64\n",
            " 10  Embarked     891 non-null    object \n",
            " 11  IsAlone      891 non-null    float64\n",
            " 12  Title        891 non-null    object \n",
            "dtypes: float64(3), int64(5), object(5)\n",
            "memory usage: 90.6+ KB\n"
          ]
        }
      ]
    },
    {
      "cell_type": "code",
      "source": [
        "# 일행과 관련된 컬럼들 삭제\n",
        "# SibSp, Parch, IsAlone\n",
        "titanic_2 = titanic_1.drop(columns = ['SibSp', 'Parch', 'IsAlone'], axis = 1).copy()\n",
        "titanic_2.info()"
      ],
      "metadata": {
        "colab": {
          "base_uri": "https://localhost:8080/"
        },
        "id": "bJhIXK4jI0LW",
        "outputId": "cca556c5-d7ae-4e21-8891-cbc1098cb40d"
      },
      "execution_count": 27,
      "outputs": [
        {
          "output_type": "stream",
          "name": "stdout",
          "text": [
            "<class 'pandas.core.frame.DataFrame'>\n",
            "RangeIndex: 891 entries, 0 to 890\n",
            "Data columns (total 10 columns):\n",
            " #   Column       Non-Null Count  Dtype  \n",
            "---  ------       --------------  -----  \n",
            " 0   PassengerId  891 non-null    int64  \n",
            " 1   Survived     891 non-null    int64  \n",
            " 2   Pclass       891 non-null    int64  \n",
            " 3   Name         891 non-null    object \n",
            " 4   Sex          891 non-null    object \n",
            " 5   Age          891 non-null    float64\n",
            " 6   Ticket       891 non-null    object \n",
            " 7   Fare         891 non-null    float64\n",
            " 8   Embarked     891 non-null    object \n",
            " 9   Title        891 non-null    object \n",
            "dtypes: float64(2), int64(3), object(5)\n",
            "memory usage: 69.7+ KB\n"
          ]
        }
      ]
    },
    {
      "cell_type": "code",
      "source": [
        "# PassengerId, Name, Title, Ticket, Fare 컬럼 삭제\n",
        "titanic_2 = titanic_2.drop(columns = ['PassengerId', 'Name', 'Title', 'Ticket', 'Fare'], axis = 1)"
      ],
      "metadata": {
        "id": "HaOFqkU3cA-4"
      },
      "execution_count": 28,
      "outputs": []
    },
    {
      "cell_type": "code",
      "source": [
        "titanic_temp = titanic_2.copy()\n",
        "titanic_temp.info()"
      ],
      "metadata": {
        "colab": {
          "base_uri": "https://localhost:8080/"
        },
        "id": "KUao-IByF4-a",
        "outputId": "f6484a0e-5cd5-41e5-e98e-1d8fff3be470"
      },
      "execution_count": 29,
      "outputs": [
        {
          "output_type": "stream",
          "name": "stdout",
          "text": [
            "<class 'pandas.core.frame.DataFrame'>\n",
            "RangeIndex: 891 entries, 0 to 890\n",
            "Data columns (total 5 columns):\n",
            " #   Column    Non-Null Count  Dtype  \n",
            "---  ------    --------------  -----  \n",
            " 0   Survived  891 non-null    int64  \n",
            " 1   Pclass    891 non-null    int64  \n",
            " 2   Sex       891 non-null    object \n",
            " 3   Age       891 non-null    float64\n",
            " 4   Embarked  891 non-null    object \n",
            "dtypes: float64(1), int64(2), object(2)\n",
            "memory usage: 34.9+ KB\n"
          ]
        }
      ]
    },
    {
      "cell_type": "code",
      "source": [
        "# 숫자가 아닌데이터들을 숫자화\n",
        "# Sex 컬럼은 여자면 0, 남자면 1\n",
        "print(titanic_temp.head())\n",
        "sex = pd.get_dummies(titanic_temp['Sex'])\n",
        "titanic_temp1 = pd.concat([titanic_temp, sex], axis = 1)\n",
        "titanic_temp1 = titanic_temp1.drop(columns=['Sex', 'female'])\n",
        "titanic_temp1.rename(columns={'male':'Sex'}, inplace = True)\n",
        "print(titanic_temp1.head())"
      ],
      "metadata": {
        "colab": {
          "base_uri": "https://localhost:8080/"
        },
        "id": "Lg32IhHCIZHB",
        "outputId": "81b061a9-c9df-4c3a-f1a3-2bc7876d092d"
      },
      "execution_count": 30,
      "outputs": [
        {
          "output_type": "stream",
          "name": "stdout",
          "text": [
            "   Survived  Pclass     Sex   Age Embarked\n",
            "0         0       3    male  22.0        S\n",
            "1         1       1  female  38.0        C\n",
            "2         1       3  female  26.0        S\n",
            "3         1       1  female  35.0        S\n",
            "4         0       3    male  35.0        S\n",
            "   Survived  Pclass   Age Embarked  Sex\n",
            "0         0       3  22.0        S    1\n",
            "1         1       1  38.0        C    0\n",
            "2         1       3  26.0        S    0\n",
            "3         1       1  35.0        S    0\n",
            "4         0       3  35.0        S    1\n"
          ]
        }
      ]
    },
    {
      "cell_type": "code",
      "source": [
        "# Embarked 컬럼은 C는 0, Q는 1, S는 2\n",
        "titanic_temp1['Embarked'] = titanic_temp1['Embarked'].map( {'C': 0, 'Q': 1, 'S': 2} ).astype(int)\n",
        "\n",
        "titanic_temp1.head()"
      ],
      "metadata": {
        "colab": {
          "base_uri": "https://localhost:8080/",
          "height": 206
        },
        "id": "ZQTfw8SwMW9V",
        "outputId": "4ca6c153-c793-4fa6-a92e-623f8cc4dac7"
      },
      "execution_count": 31,
      "outputs": [
        {
          "output_type": "execute_result",
          "data": {
            "text/plain": [
              "   Survived  Pclass   Age  Embarked  Sex\n",
              "0         0       3  22.0         2    1\n",
              "1         1       1  38.0         0    0\n",
              "2         1       3  26.0         2    0\n",
              "3         1       1  35.0         2    0\n",
              "4         0       3  35.0         2    1"
            ],
            "text/html": [
              "\n",
              "  <div id=\"df-c4696ef3-1232-4147-b847-cf6245a719f4\">\n",
              "    <div class=\"colab-df-container\">\n",
              "      <div>\n",
              "<style scoped>\n",
              "    .dataframe tbody tr th:only-of-type {\n",
              "        vertical-align: middle;\n",
              "    }\n",
              "\n",
              "    .dataframe tbody tr th {\n",
              "        vertical-align: top;\n",
              "    }\n",
              "\n",
              "    .dataframe thead th {\n",
              "        text-align: right;\n",
              "    }\n",
              "</style>\n",
              "<table border=\"1\" class=\"dataframe\">\n",
              "  <thead>\n",
              "    <tr style=\"text-align: right;\">\n",
              "      <th></th>\n",
              "      <th>Survived</th>\n",
              "      <th>Pclass</th>\n",
              "      <th>Age</th>\n",
              "      <th>Embarked</th>\n",
              "      <th>Sex</th>\n",
              "    </tr>\n",
              "  </thead>\n",
              "  <tbody>\n",
              "    <tr>\n",
              "      <th>0</th>\n",
              "      <td>0</td>\n",
              "      <td>3</td>\n",
              "      <td>22.0</td>\n",
              "      <td>2</td>\n",
              "      <td>1</td>\n",
              "    </tr>\n",
              "    <tr>\n",
              "      <th>1</th>\n",
              "      <td>1</td>\n",
              "      <td>1</td>\n",
              "      <td>38.0</td>\n",
              "      <td>0</td>\n",
              "      <td>0</td>\n",
              "    </tr>\n",
              "    <tr>\n",
              "      <th>2</th>\n",
              "      <td>1</td>\n",
              "      <td>3</td>\n",
              "      <td>26.0</td>\n",
              "      <td>2</td>\n",
              "      <td>0</td>\n",
              "    </tr>\n",
              "    <tr>\n",
              "      <th>3</th>\n",
              "      <td>1</td>\n",
              "      <td>1</td>\n",
              "      <td>35.0</td>\n",
              "      <td>2</td>\n",
              "      <td>0</td>\n",
              "    </tr>\n",
              "    <tr>\n",
              "      <th>4</th>\n",
              "      <td>0</td>\n",
              "      <td>3</td>\n",
              "      <td>35.0</td>\n",
              "      <td>2</td>\n",
              "      <td>1</td>\n",
              "    </tr>\n",
              "  </tbody>\n",
              "</table>\n",
              "</div>\n",
              "      <button class=\"colab-df-convert\" onclick=\"convertToInteractive('df-c4696ef3-1232-4147-b847-cf6245a719f4')\"\n",
              "              title=\"Convert this dataframe to an interactive table.\"\n",
              "              style=\"display:none;\">\n",
              "        \n",
              "  <svg xmlns=\"http://www.w3.org/2000/svg\" height=\"24px\"viewBox=\"0 0 24 24\"\n",
              "       width=\"24px\">\n",
              "    <path d=\"M0 0h24v24H0V0z\" fill=\"none\"/>\n",
              "    <path d=\"M18.56 5.44l.94 2.06.94-2.06 2.06-.94-2.06-.94-.94-2.06-.94 2.06-2.06.94zm-11 1L8.5 8.5l.94-2.06 2.06-.94-2.06-.94L8.5 2.5l-.94 2.06-2.06.94zm10 10l.94 2.06.94-2.06 2.06-.94-2.06-.94-.94-2.06-.94 2.06-2.06.94z\"/><path d=\"M17.41 7.96l-1.37-1.37c-.4-.4-.92-.59-1.43-.59-.52 0-1.04.2-1.43.59L10.3 9.45l-7.72 7.72c-.78.78-.78 2.05 0 2.83L4 21.41c.39.39.9.59 1.41.59.51 0 1.02-.2 1.41-.59l7.78-7.78 2.81-2.81c.8-.78.8-2.07 0-2.86zM5.41 20L4 18.59l7.72-7.72 1.47 1.35L5.41 20z\"/>\n",
              "  </svg>\n",
              "      </button>\n",
              "      \n",
              "  <style>\n",
              "    .colab-df-container {\n",
              "      display:flex;\n",
              "      flex-wrap:wrap;\n",
              "      gap: 12px;\n",
              "    }\n",
              "\n",
              "    .colab-df-convert {\n",
              "      background-color: #E8F0FE;\n",
              "      border: none;\n",
              "      border-radius: 50%;\n",
              "      cursor: pointer;\n",
              "      display: none;\n",
              "      fill: #1967D2;\n",
              "      height: 32px;\n",
              "      padding: 0 0 0 0;\n",
              "      width: 32px;\n",
              "    }\n",
              "\n",
              "    .colab-df-convert:hover {\n",
              "      background-color: #E2EBFA;\n",
              "      box-shadow: 0px 1px 2px rgba(60, 64, 67, 0.3), 0px 1px 3px 1px rgba(60, 64, 67, 0.15);\n",
              "      fill: #174EA6;\n",
              "    }\n",
              "\n",
              "    [theme=dark] .colab-df-convert {\n",
              "      background-color: #3B4455;\n",
              "      fill: #D2E3FC;\n",
              "    }\n",
              "\n",
              "    [theme=dark] .colab-df-convert:hover {\n",
              "      background-color: #434B5C;\n",
              "      box-shadow: 0px 1px 3px 1px rgba(0, 0, 0, 0.15);\n",
              "      filter: drop-shadow(0px 1px 2px rgba(0, 0, 0, 0.3));\n",
              "      fill: #FFFFFF;\n",
              "    }\n",
              "  </style>\n",
              "\n",
              "      <script>\n",
              "        const buttonEl =\n",
              "          document.querySelector('#df-c4696ef3-1232-4147-b847-cf6245a719f4 button.colab-df-convert');\n",
              "        buttonEl.style.display =\n",
              "          google.colab.kernel.accessAllowed ? 'block' : 'none';\n",
              "\n",
              "        async function convertToInteractive(key) {\n",
              "          const element = document.querySelector('#df-c4696ef3-1232-4147-b847-cf6245a719f4');\n",
              "          const dataTable =\n",
              "            await google.colab.kernel.invokeFunction('convertToInteractive',\n",
              "                                                     [key], {});\n",
              "          if (!dataTable) return;\n",
              "\n",
              "          const docLinkHtml = 'Like what you see? Visit the ' +\n",
              "            '<a target=\"_blank\" href=https://colab.research.google.com/notebooks/data_table.ipynb>data table notebook</a>'\n",
              "            + ' to learn more about interactive tables.';\n",
              "          element.innerHTML = '';\n",
              "          dataTable['output_type'] = 'display_data';\n",
              "          await google.colab.output.renderOutput(dataTable, element);\n",
              "          const docLink = document.createElement('div');\n",
              "          docLink.innerHTML = docLinkHtml;\n",
              "          element.appendChild(docLink);\n",
              "        }\n",
              "      </script>\n",
              "    </div>\n",
              "  </div>\n",
              "  "
            ]
          },
          "metadata": {},
          "execution_count": 31
        }
      ]
    },
    {
      "cell_type": "code",
      "source": [
        "# 훈련 세트의 특성과 타깃을 나눠줌\n",
        "train_input = titanic_temp1[['Pclass', 'Sex', 'Age', 'Embarked']]\n",
        "train_target = titanic_temp1['Survived']"
      ],
      "metadata": {
        "id": "WWZxqRgxHUBo"
      },
      "execution_count": 32,
      "outputs": []
    },
    {
      "cell_type": "code",
      "source": [
        "# 테스트 세트도 동일하게 전처리\n",
        "test_temp = pd.read_csv('/content/test.csv')\n",
        "test_temp.info()"
      ],
      "metadata": {
        "colab": {
          "base_uri": "https://localhost:8080/"
        },
        "id": "Pt0fhlPjb1Db",
        "outputId": "0f0f2d43-4ed8-43f7-b021-f6af4e568fbb"
      },
      "execution_count": 43,
      "outputs": [
        {
          "output_type": "stream",
          "name": "stdout",
          "text": [
            "<class 'pandas.core.frame.DataFrame'>\n",
            "RangeIndex: 418 entries, 0 to 417\n",
            "Data columns (total 11 columns):\n",
            " #   Column       Non-Null Count  Dtype  \n",
            "---  ------       --------------  -----  \n",
            " 0   PassengerId  418 non-null    int64  \n",
            " 1   Pclass       418 non-null    int64  \n",
            " 2   Name         418 non-null    object \n",
            " 3   Sex          418 non-null    object \n",
            " 4   Age          332 non-null    float64\n",
            " 5   SibSp        418 non-null    int64  \n",
            " 6   Parch        418 non-null    int64  \n",
            " 7   Ticket       418 non-null    object \n",
            " 8   Fare         417 non-null    float64\n",
            " 9   Cabin        91 non-null     object \n",
            " 10  Embarked     418 non-null    object \n",
            "dtypes: float64(2), int64(4), object(5)\n",
            "memory usage: 36.0+ KB\n"
          ]
        }
      ]
    },
    {
      "cell_type": "code",
      "source": [
        "c = test_temp['Name'].str.split(', ', expand=True)\n",
        "d = c[1].str.split('.', expand = True)\n",
        "print(d)"
      ],
      "metadata": {
        "colab": {
          "base_uri": "https://localhost:8080/"
        },
        "id": "8bTqRxGrRELd",
        "outputId": "0e092ed1-2405-400a-b7c0-2f6b59749046"
      },
      "execution_count": 44,
      "outputs": [
        {
          "output_type": "stream",
          "name": "stdout",
          "text": [
            "          0                               1\n",
            "0        Mr                           James\n",
            "1       Mrs             James (Ellen Needs)\n",
            "2        Mr                  Thomas Francis\n",
            "3        Mr                          Albert\n",
            "4       Mrs   Alexander (Helga E Lindqvist)\n",
            "..      ...                             ...\n",
            "413      Mr                           Woolf\n",
            "414    Dona                         Fermina\n",
            "415      Mr                 Simon Sivertsen\n",
            "416      Mr                       Frederick\n",
            "417  Master                       Michael J\n",
            "\n",
            "[418 rows x 2 columns]\n"
          ]
        }
      ]
    },
    {
      "cell_type": "code",
      "source": [
        "test_temp['Title'] = d[0]\n",
        "print(test_temp['Title'].value_counts())"
      ],
      "metadata": {
        "colab": {
          "base_uri": "https://localhost:8080/"
        },
        "id": "HC_AXaxwTaLR",
        "outputId": "2a87dec9-d1ea-4217-ba72-d359b9a58306"
      },
      "execution_count": 45,
      "outputs": [
        {
          "output_type": "stream",
          "name": "stdout",
          "text": [
            "Mr        240\n",
            "Miss       78\n",
            "Mrs        72\n",
            "Master     21\n",
            "Col         2\n",
            "Rev         2\n",
            "Ms          1\n",
            "Dr          1\n",
            "Dona        1\n",
            "Name: Title, dtype: int64\n"
          ]
        }
      ]
    },
    {
      "cell_type": "code",
      "source": [
        "# 마찬가지로 개체 수가 적은 y.부터는 기타로 묶음\n",
        "def user(title):\n",
        "    if title == \"Mr\":\n",
        "        return title\n",
        "    elif title == \"Miss\":\n",
        "        return title\n",
        "    elif title == \"Mrs\":\n",
        "        return title\n",
        "    elif title == \"Master\":\n",
        "        return title\n",
        "    else:\n",
        "        return \"others\"\n",
        "\n",
        "test_temp[\"Title\"]=test_temp[\"Title\"].apply(user)\n",
        "print(test_temp['Title'].value_counts())\n",
        "# 각 호칭 별 나이 평균 확인\n",
        "test_temp.groupby(\"Title\")[\"Age\"].mean()"
      ],
      "metadata": {
        "colab": {
          "base_uri": "https://localhost:8080/"
        },
        "id": "XJwlvQwnSSQM",
        "outputId": "1f0c1945-556f-4ba6-a5ea-47e036cb3491"
      },
      "execution_count": 46,
      "outputs": [
        {
          "output_type": "stream",
          "name": "stdout",
          "text": [
            "Mr        240\n",
            "Miss       78\n",
            "Mrs        72\n",
            "Master     21\n",
            "others      7\n",
            "Name: Title, dtype: int64\n"
          ]
        },
        {
          "output_type": "execute_result",
          "data": {
            "text/plain": [
              "Title\n",
              "Master     7.406471\n",
              "Miss      21.774844\n",
              "Mr        32.000000\n",
              "Mrs       38.903226\n",
              "others    43.833333\n",
              "Name: Age, dtype: float64"
            ]
          },
          "metadata": {},
          "execution_count": 46
        }
      ]
    },
    {
      "cell_type": "code",
      "source": [
        "# 이 호칭의 나이 평균을 토대로 Age컬럼의 null값을 호칭의 나이 평균값으로 대체\n",
        "test_temp.loc[(test_temp[\"Age\"].isnull()) & (test_temp[\"Title\"]==\"Master\"), 'Age'] = 12.97\n",
        "test_temp.loc[(test_temp[\"Age\"].isnull()) & (test_temp[\"Title\"]==\"Miss\"), 'Age'] = 24.44\n",
        "test_temp.loc[(test_temp[\"Age\"].isnull()) & (test_temp[\"Title\"]==\"Mr\"), 'Age'] = 33.09\n",
        "test_temp.loc[(test_temp[\"Age\"].isnull()) & (test_temp[\"Title\"]==\"Mrs\"), 'Age'] = 38.58\n",
        "test_temp.loc[(test_temp[\"Age\"].isnull()) & (test_temp[\"Title\"]==\"others\"), 'Age'] = 42.80\n",
        "\n",
        "test_temp.info()"
      ],
      "metadata": {
        "colab": {
          "base_uri": "https://localhost:8080/"
        },
        "id": "lkdYOCzmfwDY",
        "outputId": "c15e64ca-6bc8-4307-c97b-b517f0585545"
      },
      "execution_count": 47,
      "outputs": [
        {
          "output_type": "stream",
          "name": "stdout",
          "text": [
            "<class 'pandas.core.frame.DataFrame'>\n",
            "RangeIndex: 418 entries, 0 to 417\n",
            "Data columns (total 12 columns):\n",
            " #   Column       Non-Null Count  Dtype  \n",
            "---  ------       --------------  -----  \n",
            " 0   PassengerId  418 non-null    int64  \n",
            " 1   Pclass       418 non-null    int64  \n",
            " 2   Name         418 non-null    object \n",
            " 3   Sex          418 non-null    object \n",
            " 4   Age          418 non-null    float64\n",
            " 5   SibSp        418 non-null    int64  \n",
            " 6   Parch        418 non-null    int64  \n",
            " 7   Ticket       418 non-null    object \n",
            " 8   Fare         417 non-null    float64\n",
            " 9   Cabin        91 non-null     object \n",
            " 10  Embarked     418 non-null    object \n",
            " 11  Title        418 non-null    object \n",
            "dtypes: float64(2), int64(4), object(6)\n",
            "memory usage: 39.3+ KB\n"
          ]
        }
      ]
    },
    {
      "cell_type": "code",
      "source": [
        "# Pclass, Sex, Age, Embarked 컬럼만 가져옴\n",
        "test_temp1 = test_temp[['Pclass', 'Sex', 'Age', 'Embarked']]\n",
        "test_temp1.info()"
      ],
      "metadata": {
        "colab": {
          "base_uri": "https://localhost:8080/"
        },
        "id": "e5R9MUYyQW6l",
        "outputId": "f69a01e5-2a2b-44e8-8e25-92d1b3a90ec3"
      },
      "execution_count": 52,
      "outputs": [
        {
          "output_type": "stream",
          "name": "stdout",
          "text": [
            "<class 'pandas.core.frame.DataFrame'>\n",
            "RangeIndex: 418 entries, 0 to 417\n",
            "Data columns (total 4 columns):\n",
            " #   Column    Non-Null Count  Dtype  \n",
            "---  ------    --------------  -----  \n",
            " 0   Pclass    418 non-null    int64  \n",
            " 1   Sex       418 non-null    object \n",
            " 2   Age       418 non-null    float64\n",
            " 3   Embarked  418 non-null    object \n",
            "dtypes: float64(1), int64(1), object(2)\n",
            "memory usage: 13.2+ KB\n"
          ]
        }
      ]
    },
    {
      "cell_type": "code",
      "source": [
        "# 마찬가지로 숫자가 아닌데이터들을 숫자화\n",
        "# Sex 컬럼은 여자면 0, 남자면 1\n",
        "print(test_temp1.head())\n",
        "sex = pd.get_dummies(test_temp1['Sex'])\n",
        "test_temp2 = pd.concat([test_temp1, sex], axis = 1)\n",
        "test_temp2 = test_temp2.drop(columns=['Sex', 'female'])\n",
        "test_temp2.rename(columns={'male':'Sex'}, inplace = True)\n",
        "print(test_temp2.head())"
      ],
      "metadata": {
        "colab": {
          "base_uri": "https://localhost:8080/"
        },
        "id": "bUk3JADohJEC",
        "outputId": "c4bd3ce1-2f05-47f8-f23c-79cc45fc976f"
      },
      "execution_count": 62,
      "outputs": [
        {
          "output_type": "stream",
          "name": "stdout",
          "text": [
            "   Pclass     Sex   Age Embarked\n",
            "0       3    male  34.5        Q\n",
            "1       3  female  47.0        S\n",
            "2       2    male  62.0        Q\n",
            "3       3    male  27.0        S\n",
            "4       3  female  22.0        S\n",
            "   Pclass   Age Embarked  Sex\n",
            "0       3  34.5        Q    1\n",
            "1       3  47.0        S    0\n",
            "2       2  62.0        Q    1\n",
            "3       3  27.0        S    1\n",
            "4       3  22.0        S    0\n"
          ]
        }
      ]
    },
    {
      "cell_type": "code",
      "source": [
        "# Embarked 컬럼은 C는 0, Q는 1, S는 2\n",
        "test_temp2['Embarked'] = test_temp2['Embarked'].map( {'C': 0, 'Q': 1, 'S': 2} ).astype(int)\n",
        "test_temp2.head()\n",
        "\n",
        "test_input = test_temp2.copy()"
      ],
      "metadata": {
        "id": "X84wP55Kh-rb"
      },
      "execution_count": 63,
      "outputs": []
    },
    {
      "cell_type": "code",
      "source": [
        "# 컬럼 순서가 안맞아서 테스트 세트의 칼럼 순서를 변경\n",
        "print(train_input.info())\n",
        "print('-'*50)\n",
        "print(test_input.info())\n",
        "\n",
        "test_input = test_input[['Pclass', 'Sex', 'Age', 'Embarked']]"
      ],
      "metadata": {
        "colab": {
          "base_uri": "https://localhost:8080/"
        },
        "id": "8Cpp081OqquL",
        "outputId": "311a4253-c924-4d1b-9ec7-d6280c5b3b8b"
      },
      "execution_count": 103,
      "outputs": [
        {
          "output_type": "stream",
          "name": "stdout",
          "text": [
            "<class 'pandas.core.frame.DataFrame'>\n",
            "RangeIndex: 891 entries, 0 to 890\n",
            "Data columns (total 4 columns):\n",
            " #   Column    Non-Null Count  Dtype  \n",
            "---  ------    --------------  -----  \n",
            " 0   Pclass    891 non-null    int64  \n",
            " 1   Sex       891 non-null    uint8  \n",
            " 2   Age       891 non-null    float64\n",
            " 3   Embarked  891 non-null    int64  \n",
            "dtypes: float64(1), int64(2), uint8(1)\n",
            "memory usage: 21.9 KB\n",
            "None\n",
            "--------------------------------------------------\n",
            "<class 'pandas.core.frame.DataFrame'>\n",
            "RangeIndex: 418 entries, 0 to 417\n",
            "Data columns (total 4 columns):\n",
            " #   Column    Non-Null Count  Dtype  \n",
            "---  ------    --------------  -----  \n",
            " 0   Pclass    418 non-null    int64  \n",
            " 1   Age       418 non-null    float64\n",
            " 2   Embarked  418 non-null    int64  \n",
            " 3   Sex       418 non-null    uint8  \n",
            "dtypes: float64(1), int64(2), uint8(1)\n",
            "memory usage: 10.3 KB\n",
            "None\n"
          ]
        }
      ]
    },
    {
      "cell_type": "code",
      "source": [
        "print(train_input.info())\n",
        "print('-'*50)\n",
        "print(test_input.info())"
      ],
      "metadata": {
        "colab": {
          "base_uri": "https://localhost:8080/"
        },
        "id": "mKfXEH9nrcky",
        "outputId": "bef5f4d5-4045-44a9-e665-57d875ad27e7"
      },
      "execution_count": 104,
      "outputs": [
        {
          "output_type": "stream",
          "name": "stdout",
          "text": [
            "<class 'pandas.core.frame.DataFrame'>\n",
            "RangeIndex: 891 entries, 0 to 890\n",
            "Data columns (total 4 columns):\n",
            " #   Column    Non-Null Count  Dtype  \n",
            "---  ------    --------------  -----  \n",
            " 0   Pclass    891 non-null    int64  \n",
            " 1   Sex       891 non-null    uint8  \n",
            " 2   Age       891 non-null    float64\n",
            " 3   Embarked  891 non-null    int64  \n",
            "dtypes: float64(1), int64(2), uint8(1)\n",
            "memory usage: 21.9 KB\n",
            "None\n",
            "--------------------------------------------------\n",
            "<class 'pandas.core.frame.DataFrame'>\n",
            "RangeIndex: 418 entries, 0 to 417\n",
            "Data columns (total 4 columns):\n",
            " #   Column    Non-Null Count  Dtype  \n",
            "---  ------    --------------  -----  \n",
            " 0   Pclass    418 non-null    int64  \n",
            " 1   Sex       418 non-null    uint8  \n",
            " 2   Age       418 non-null    float64\n",
            " 3   Embarked  418 non-null    int64  \n",
            "dtypes: float64(1), int64(2), uint8(1)\n",
            "memory usage: 10.3 KB\n",
            "None\n"
          ]
        }
      ]
    },
    {
      "cell_type": "code",
      "source": [
        "from sklearn.model_selection import cross_val_score, StratifiedKFold\n",
        "from sklearn.model_selection import train_test_split\n",
        "from sklearn.metrics import accuracy_score\n",
        "\n",
        "from sklearn.tree import DecisionTreeClassifier\n",
        "from sklearn.ensemble import RandomForestClassifier\n",
        "from sklearn.naive_bayes import GaussianNB\n",
        "from sklearn.neighbors import KNeighborsClassifier\n",
        "from sklearn.ensemble import AdaBoostClassifier\n",
        "from sklearn.discriminant_analysis import QuadraticDiscriminantAnalysis\n",
        "from sklearn.svm import SVC\n",
        "from sklearn.ensemble import VotingClassifier\n",
        "from sklearn.ensemble import BaggingClassifier"
      ],
      "metadata": {
        "id": "X-qr8RZDkHg3"
      },
      "execution_count": 119,
      "outputs": []
    },
    {
      "cell_type": "code",
      "source": [
        "X_train, X_test, y_train, y_test = train_test_split(train_input, train_target, test_size = 0.2)"
      ],
      "metadata": {
        "id": "47o_40YHwW_C"
      },
      "execution_count": 120,
      "outputs": []
    },
    {
      "cell_type": "code",
      "source": [
        "# 먼저 간단하게 결정트리를 훈련\n",
        "dt = DecisionTreeClassifier(min_impurity_decrease=0.005)\n",
        "dt.fit(X_train, y_train)\n",
        "print(dt.score(X_train, y_train))\n",
        "print(dt.score(X_test, y_test))"
      ],
      "metadata": {
        "colab": {
          "base_uri": "https://localhost:8080/"
        },
        "id": "6mK1ZXZlQi6x",
        "outputId": "dbd80e39-4242-426f-a1c2-db440bcee28f"
      },
      "execution_count": 136,
      "outputs": [
        {
          "output_type": "stream",
          "name": "stdout",
          "text": [
            "0.8314606741573034\n",
            "0.7988826815642458\n"
          ]
        }
      ]
    },
    {
      "cell_type": "code",
      "source": [
        "# 테스트 세트에 적용\n",
        "test_target = dt.predict(test_input)\n",
        "\n",
        "skf = StratifiedKFold(n_splits=10, shuffle=True)\n",
        "accuracies = cross_val_score(estimator = dt, X=train_input, y=train_target, cv = skf)\n",
        "\n",
        "print(len(test_target))"
      ],
      "metadata": {
        "colab": {
          "base_uri": "https://localhost:8080/"
        },
        "id": "BVDlZRIGH45o",
        "outputId": "d83737d8-d658-4933-e04a-be1cd7c0d744"
      },
      "execution_count": 116,
      "outputs": [
        {
          "output_type": "stream",
          "name": "stdout",
          "text": [
            "418\n"
          ]
        }
      ]
    },
    {
      "cell_type": "code",
      "source": [
        "print(\"Accuracy: {:.2f} %\".format(accuracies.mean()*100))\n",
        "print(\"Standard Deviation : {:.2f} %\".format(accuracies.std()*100))"
      ],
      "metadata": {
        "colab": {
          "base_uri": "https://localhost:8080/"
        },
        "id": "zP89bZa2j0CH",
        "outputId": "0bccd1b2-22f2-4b04-9284-3616a30ec121"
      },
      "execution_count": 110,
      "outputs": [
        {
          "output_type": "stream",
          "name": "stdout",
          "text": [
            "Accuracy: 78.79 %\n",
            "Standard Deviation : 4.02 %\n"
          ]
        }
      ]
    },
    {
      "cell_type": "code",
      "source": [
        "clf3 = SVC(kernel = 'linear')\n",
        "\n",
        "classifiers = [DecisionTreeClassifier(),\n",
        "               RandomForestClassifier(),\n",
        "               GaussianNB(),\n",
        "               KNeighborsClassifier(),\n",
        "               SVC(kernel = 'linear'),\n",
        "               SVC(kernel = 'rbf'),\n",
        "               AdaBoostClassifier(),\n",
        "               QuadraticDiscriminantAnalysis(),\n",
        "               VotingClassifier(estimators = [('1', AdaBoostClassifier()),\n",
        "                                              ('2', RandomForestClassifier()),\n",
        "                                              ('3', SVC(kernel = 'linear'))]),\n",
        "               BaggingClassifier(base_estimator=clf3, n_estimators= 10, random_state = 0)]\n",
        "\n",
        "\n",
        "classifier_names = ['D_tree',\n",
        "                    'RF',\n",
        "                    'GNB',\n",
        "                    'KNN',\n",
        "                    'Ada',\n",
        "                    'QDA',\n",
        "                    'SVM_l',\n",
        "                    'SVM_k',\n",
        "                    'Voting',\n",
        "                    'Bagging'\n",
        "                    ]\n",
        "\n",
        "modelaccuracies = []\n",
        "modelmeans = []\n",
        "modelnames = []\n",
        "\n",
        "classifier_data = zip(classifier_names, classifiers)\n",
        "\n",
        "for classifier_name, classifier in classifier_data:\n",
        "  skf = StratifiedKFold(n_splits = 10, shuffle = True)\n",
        "  accuracies = cross_val_score(classifier, X=train_input, y=train_target, cv=skf)\n",
        "  print(\"Mean accuracy of\", classifier_name, \":{:.2f} %\".format(accuracies.mean()*100))\n",
        "\n",
        "  # modelaccuracies.append(accuracies)\n",
        "  # modelnames.append(classifier_name)\n",
        "  # modelmeans.append(accuracies.mean()*100)\n",
        "\n",
        "# plt.figure(figsize = (10,5))\n",
        "# plt.ylim([60, 80])\n",
        "# plt.bar(modelnames, modelmeans)\n",
        "\n",
        "# fig = plt.figure(figsize = (10,5))\n",
        "# ax = fig.add_subplot(111)\n",
        "# ax.boxplot(modelaccuracies)\n",
        "# ax.set_xticklabels(modelnames)\n",
        "# plt.show()"
      ],
      "metadata": {
        "id": "SpG9ylLyb5Ds",
        "colab": {
          "base_uri": "https://localhost:8080/"
        },
        "outputId": "802dff38-355f-460e-cbce-3f1a0809cfa9"
      },
      "execution_count": 118,
      "outputs": [
        {
          "output_type": "stream",
          "name": "stdout",
          "text": [
            "Mean accuracy of D_tree :78.34 %\n",
            "Mean accuracy of RF :79.80 %\n",
            "Mean accuracy of GNB :78.00 %\n",
            "Mean accuracy of KNN :76.31 %\n",
            "Mean accuracy of Ada :78.67 %\n",
            "Mean accuracy of QDA :63.19 %\n",
            "Mean accuracy of SVM_l :79.69 %\n",
            "Mean accuracy of SVM_k :78.79 %\n",
            "Mean accuracy of Voting :79.80 %\n",
            "Mean accuracy of Bagging :78.67 %\n"
          ]
        }
      ]
    }
  ]
}